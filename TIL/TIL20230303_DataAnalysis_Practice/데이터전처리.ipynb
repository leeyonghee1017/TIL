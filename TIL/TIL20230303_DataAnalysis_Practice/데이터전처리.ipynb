{
 "cells": [
  {
   "cell_type": "markdown",
   "metadata": {
    "id": "5jScGqtpTvhr"
   },
   "source": [
    "# 데이터 전처리"
   ]
  },
  {
   "cell_type": "code",
   "execution_count": 2,
   "metadata": {
    "executionInfo": {
     "elapsed": 428,
     "status": "ok",
     "timestamp": 1672451352801,
     "user": {
      "displayName": "jinyang park",
      "userId": "06576046992691541404"
     },
     "user_tz": -540
    },
    "id": "FzscBurRzyo6"
   },
   "outputs": [],
   "source": [
    "import pandas as pd\n",
    "import numpy as np\n",
    "\n",
    "import matplotlib.pyplot as plt\n",
    "import seaborn as sns\n",
    "import warnings\n",
    "warnings.filterwarnings('ignore')"
   ]
  },
  {
   "cell_type": "code",
   "execution_count": 3,
   "metadata": {
    "colab": {
     "base_uri": "https://localhost:8080/",
     "height": 35
    },
    "executionInfo": {
     "elapsed": 335,
     "status": "ok",
     "timestamp": 1672372938538,
     "user": {
      "displayName": "jinyang park",
      "userId": "06576046992691541404"
     },
     "user_tz": -540
    },
    "id": "RgXhNucwzyo7",
    "outputId": "bdffd04e-959d-44ce-abd5-1fba1b0b996f"
   },
   "outputs": [
    {
     "data": {
      "text/plain": [
       "'1.5.3'"
      ]
     },
     "execution_count": 3,
     "metadata": {},
     "output_type": "execute_result"
    }
   ],
   "source": [
    "pd.__version__"
   ]
  },
  {
   "cell_type": "markdown",
   "metadata": {
    "id": "WPVhXxAlzypY"
   },
   "source": [
    "### 결측 값 (missing value)\n",
    "* isna(), dropna(), fillna()\n",
    "* 결측값 처리 방법\n",
    "* 수작업으로 채워 넣음\n",
    "* 특정값 사용\n",
    "* 평균값 사용 (전체 평균 혹은 기준 속성 평균)\n",
    "* 가장 가능성이 높은 값 사용 (회귀분석, 보간법 등)\n",
    "* 해당 데이터 행을 모두 제거\n"
   ]
  },
  {
   "cell_type": "code",
   "execution_count": 4,
   "metadata": {
    "executionInfo": {
     "elapsed": 800,
     "status": "ok",
     "timestamp": 1672374086228,
     "user": {
      "displayName": "jinyang park",
      "userId": "06576046992691541404"
     },
     "user_tz": -540
    },
    "id": "y1DdI6cGXOYP"
   },
   "outputs": [
    {
     "data": {
      "text/html": [
       "<div>\n",
       "<style scoped>\n",
       "    .dataframe tbody tr th:only-of-type {\n",
       "        vertical-align: middle;\n",
       "    }\n",
       "\n",
       "    .dataframe tbody tr th {\n",
       "        vertical-align: top;\n",
       "    }\n",
       "\n",
       "    .dataframe thead th {\n",
       "        text-align: right;\n",
       "    }\n",
       "</style>\n",
       "<table border=\"1\" class=\"dataframe\">\n",
       "  <thead>\n",
       "    <tr style=\"text-align: right;\">\n",
       "      <th></th>\n",
       "      <th>name</th>\n",
       "      <th>jumin7</th>\n",
       "      <th>gender</th>\n",
       "      <th>height</th>\n",
       "      <th>age</th>\n",
       "      <th>blood_type</th>\n",
       "      <th>company</th>\n",
       "      <th>grades</th>\n",
       "      <th>salary</th>\n",
       "      <th>expenditure</th>\n",
       "    </tr>\n",
       "  </thead>\n",
       "  <tbody>\n",
       "    <tr>\n",
       "      <th>0</th>\n",
       "      <td>hkd1</td>\n",
       "      <td>990623-2</td>\n",
       "      <td>F</td>\n",
       "      <td>161.9</td>\n",
       "      <td>NaN</td>\n",
       "      <td>NaN</td>\n",
       "      <td>A</td>\n",
       "      <td>A</td>\n",
       "      <td>NaN</td>\n",
       "      <td>1975</td>\n",
       "    </tr>\n",
       "    <tr>\n",
       "      <th>1</th>\n",
       "      <td>hkd10</td>\n",
       "      <td>900303-2</td>\n",
       "      <td>F</td>\n",
       "      <td>169.4</td>\n",
       "      <td>31.0</td>\n",
       "      <td>A</td>\n",
       "      <td>A</td>\n",
       "      <td>B</td>\n",
       "      <td>4720.0</td>\n",
       "      <td>2970</td>\n",
       "    </tr>\n",
       "    <tr>\n",
       "      <th>2</th>\n",
       "      <td>hkd100</td>\n",
       "      <td>681205-2</td>\n",
       "      <td>F</td>\n",
       "      <td>168.3</td>\n",
       "      <td>55.0</td>\n",
       "      <td>A</td>\n",
       "      <td>A</td>\n",
       "      <td>B</td>\n",
       "      <td>7280.0</td>\n",
       "      <td>5905</td>\n",
       "    </tr>\n",
       "    <tr>\n",
       "      <th>3</th>\n",
       "      <td>hkd101</td>\n",
       "      <td>931226-2</td>\n",
       "      <td>F</td>\n",
       "      <td>155.3</td>\n",
       "      <td>NaN</td>\n",
       "      <td>NaN</td>\n",
       "      <td>B</td>\n",
       "      <td>B</td>\n",
       "      <td>NaN</td>\n",
       "      <td>2935</td>\n",
       "    </tr>\n",
       "    <tr>\n",
       "      <th>4</th>\n",
       "      <td>hkd102</td>\n",
       "      <td>920123-1</td>\n",
       "      <td>M</td>\n",
       "      <td>188.6</td>\n",
       "      <td>NaN</td>\n",
       "      <td>NaN</td>\n",
       "      <td>B</td>\n",
       "      <td>F</td>\n",
       "      <td>NaN</td>\n",
       "      <td>4015</td>\n",
       "    </tr>\n",
       "    <tr>\n",
       "      <th>...</th>\n",
       "      <td>...</td>\n",
       "      <td>...</td>\n",
       "      <td>...</td>\n",
       "      <td>...</td>\n",
       "      <td>...</td>\n",
       "      <td>...</td>\n",
       "      <td>...</td>\n",
       "      <td>...</td>\n",
       "      <td>...</td>\n",
       "      <td>...</td>\n",
       "    </tr>\n",
       "    <tr>\n",
       "      <th>245</th>\n",
       "      <td>hkd95</td>\n",
       "      <td>730710-2</td>\n",
       "      <td>F</td>\n",
       "      <td>157.8</td>\n",
       "      <td>50.0</td>\n",
       "      <td>A</td>\n",
       "      <td>A</td>\n",
       "      <td>A</td>\n",
       "      <td>6990.0</td>\n",
       "      <td>4865</td>\n",
       "    </tr>\n",
       "    <tr>\n",
       "      <th>246</th>\n",
       "      <td>hkd96</td>\n",
       "      <td>720805-2</td>\n",
       "      <td>F</td>\n",
       "      <td>150.4</td>\n",
       "      <td>51.0</td>\n",
       "      <td>O</td>\n",
       "      <td>A</td>\n",
       "      <td>A</td>\n",
       "      <td>7110.0</td>\n",
       "      <td>4985</td>\n",
       "    </tr>\n",
       "    <tr>\n",
       "      <th>247</th>\n",
       "      <td>hkd97</td>\n",
       "      <td>710929-1</td>\n",
       "      <td>M</td>\n",
       "      <td>172.4</td>\n",
       "      <td>52.0</td>\n",
       "      <td>A</td>\n",
       "      <td>A</td>\n",
       "      <td>B</td>\n",
       "      <td>8000.0</td>\n",
       "      <td>6625</td>\n",
       "    </tr>\n",
       "    <tr>\n",
       "      <th>248</th>\n",
       "      <td>hkd98</td>\n",
       "      <td>701024-1</td>\n",
       "      <td>M</td>\n",
       "      <td>166.7</td>\n",
       "      <td>NaN</td>\n",
       "      <td>NaN</td>\n",
       "      <td>A</td>\n",
       "      <td>B</td>\n",
       "      <td>NaN</td>\n",
       "      <td>7385</td>\n",
       "    </tr>\n",
       "    <tr>\n",
       "      <th>249</th>\n",
       "      <td>hkd99</td>\n",
       "      <td>691115-2</td>\n",
       "      <td>F</td>\n",
       "      <td>152.6</td>\n",
       "      <td>54.0</td>\n",
       "      <td>B</td>\n",
       "      <td>A</td>\n",
       "      <td>B</td>\n",
       "      <td>7470.0</td>\n",
       "      <td>6095</td>\n",
       "    </tr>\n",
       "  </tbody>\n",
       "</table>\n",
       "<p>250 rows × 10 columns</p>\n",
       "</div>"
      ],
      "text/plain": [
       "       name    jumin7 gender  height   age blood_type company grades  salary  \\\n",
       "0      hkd1  990623-2      F   161.9   NaN        NaN       A      A     NaN   \n",
       "1     hkd10  900303-2      F   169.4  31.0          A       A      B  4720.0   \n",
       "2    hkd100  681205-2      F   168.3  55.0          A       A      B  7280.0   \n",
       "3    hkd101  931226-2      F   155.3   NaN        NaN       B      B     NaN   \n",
       "4    hkd102  920123-1      M   188.6   NaN        NaN       B      F     NaN   \n",
       "..      ...       ...    ...     ...   ...        ...     ...    ...     ...   \n",
       "245   hkd95  730710-2      F   157.8  50.0          A       A      A  6990.0   \n",
       "246   hkd96  720805-2      F   150.4  51.0          O       A      A  7110.0   \n",
       "247   hkd97  710929-1      M   172.4  52.0          A       A      B  8000.0   \n",
       "248   hkd98  701024-1      M   166.7   NaN        NaN       A      B     NaN   \n",
       "249   hkd99  691115-2      F   152.6  54.0          B       A      B  7470.0   \n",
       "\n",
       "     expenditure  \n",
       "0           1975  \n",
       "1           2970  \n",
       "2           5905  \n",
       "3           2935  \n",
       "4           4015  \n",
       "..           ...  \n",
       "245         4865  \n",
       "246         4985  \n",
       "247         6625  \n",
       "248         7385  \n",
       "249         6095  \n",
       "\n",
       "[250 rows x 10 columns]"
      ]
     },
     "execution_count": 4,
     "metadata": {},
     "output_type": "execute_result"
    }
   ],
   "source": [
    "# 파일 로딩\n",
    "df_hk_na = pd.read_csv('C:\\\\Users\\\\yhlee\\\\TIL\\\\data\\\\hk_221206_na.csv')\n",
    "df_hk_na"
   ]
  },
  {
   "cell_type": "code",
   "execution_count": 9,
   "metadata": {
    "colab": {
     "base_uri": "https://localhost:8080/"
    },
    "executionInfo": {
     "elapsed": 313,
     "status": "ok",
     "timestamp": 1672374249876,
     "user": {
      "displayName": "jinyang park",
      "userId": "06576046992691541404"
     },
     "user_tz": -540
    },
    "id": "jemfpQZDzypY",
    "outputId": "1c9e22e8-73b6-400f-deec-eb395d88fb2e"
   },
   "outputs": [
    {
     "data": {
      "text/plain": [
       "name            0\n",
       "jumin7          0\n",
       "gender          0\n",
       "height          0\n",
       "age            16\n",
       "blood_type     16\n",
       "company         0\n",
       "grades          0\n",
       "salary         16\n",
       "expenditure     0\n",
       "dtype: int64"
      ]
     },
     "execution_count": 9,
     "metadata": {},
     "output_type": "execute_result"
    }
   ],
   "source": [
    "# 결측값 확인\n",
    "df_hk_na.isna().sum()"
   ]
  },
  {
   "cell_type": "code",
   "execution_count": 6,
   "metadata": {
    "colab": {
     "base_uri": "https://localhost:8080/"
    },
    "executionInfo": {
     "elapsed": 5,
     "status": "ok",
     "timestamp": 1672374269686,
     "user": {
      "displayName": "jinyang park",
      "userId": "06576046992691541404"
     },
     "user_tz": -540
    },
    "id": "uVzHUlOoRcdz",
    "outputId": "adb8f915-f6ba-43ee-f2af-b65b6621184e"
   },
   "outputs": [
    {
     "name": "stdout",
     "output_type": "stream",
     "text": [
      "<class 'pandas.core.frame.DataFrame'>\n",
      "RangeIndex: 250 entries, 0 to 249\n",
      "Data columns (total 10 columns):\n",
      " #   Column       Non-Null Count  Dtype  \n",
      "---  ------       --------------  -----  \n",
      " 0   name         250 non-null    object \n",
      " 1   jumin7       250 non-null    object \n",
      " 2   gender       250 non-null    object \n",
      " 3   height       250 non-null    float64\n",
      " 4   age          234 non-null    float64\n",
      " 5   blood_type   234 non-null    object \n",
      " 6   company      250 non-null    object \n",
      " 7   grades       250 non-null    object \n",
      " 8   salary       234 non-null    float64\n",
      " 9   expenditure  250 non-null    int64  \n",
      "dtypes: float64(3), int64(1), object(6)\n",
      "memory usage: 19.7+ KB\n"
     ]
    }
   ],
   "source": [
    "# df_hk.info() info()로 확인가능\n",
    "df_hk_na.info()"
   ]
  },
  {
   "cell_type": "code",
   "execution_count": 10,
   "metadata": {
    "colab": {
     "base_uri": "https://localhost:8080/",
     "height": 551
    },
    "executionInfo": {
     "elapsed": 21,
     "status": "ok",
     "timestamp": 1672374338732,
     "user": {
      "displayName": "jinyang park",
      "userId": "06576046992691541404"
     },
     "user_tz": -540
    },
    "id": "S9RzCINYMHji",
    "outputId": "6fec990f-76c6-4ba9-d48e-0e225a5d1856"
   },
   "outputs": [
    {
     "data": {
      "text/html": [
       "<div>\n",
       "<style scoped>\n",
       "    .dataframe tbody tr th:only-of-type {\n",
       "        vertical-align: middle;\n",
       "    }\n",
       "\n",
       "    .dataframe tbody tr th {\n",
       "        vertical-align: top;\n",
       "    }\n",
       "\n",
       "    .dataframe thead th {\n",
       "        text-align: right;\n",
       "    }\n",
       "</style>\n",
       "<table border=\"1\" class=\"dataframe\">\n",
       "  <thead>\n",
       "    <tr style=\"text-align: right;\">\n",
       "      <th></th>\n",
       "      <th>name</th>\n",
       "      <th>jumin7</th>\n",
       "      <th>gender</th>\n",
       "      <th>height</th>\n",
       "      <th>age</th>\n",
       "      <th>blood_type</th>\n",
       "      <th>company</th>\n",
       "      <th>grades</th>\n",
       "      <th>salary</th>\n",
       "      <th>expenditure</th>\n",
       "    </tr>\n",
       "  </thead>\n",
       "  <tbody>\n",
       "    <tr>\n",
       "      <th>0</th>\n",
       "      <td>hkd1</td>\n",
       "      <td>990623-2</td>\n",
       "      <td>F</td>\n",
       "      <td>161.9</td>\n",
       "      <td>NaN</td>\n",
       "      <td>NaN</td>\n",
       "      <td>A</td>\n",
       "      <td>A</td>\n",
       "      <td>NaN</td>\n",
       "      <td>1975</td>\n",
       "    </tr>\n",
       "    <tr>\n",
       "      <th>3</th>\n",
       "      <td>hkd101</td>\n",
       "      <td>931226-2</td>\n",
       "      <td>F</td>\n",
       "      <td>155.3</td>\n",
       "      <td>NaN</td>\n",
       "      <td>NaN</td>\n",
       "      <td>B</td>\n",
       "      <td>B</td>\n",
       "      <td>NaN</td>\n",
       "      <td>2935</td>\n",
       "    </tr>\n",
       "    <tr>\n",
       "      <th>4</th>\n",
       "      <td>hkd102</td>\n",
       "      <td>920123-1</td>\n",
       "      <td>M</td>\n",
       "      <td>188.6</td>\n",
       "      <td>NaN</td>\n",
       "      <td>NaN</td>\n",
       "      <td>B</td>\n",
       "      <td>F</td>\n",
       "      <td>NaN</td>\n",
       "      <td>4015</td>\n",
       "    </tr>\n",
       "    <tr>\n",
       "      <th>6</th>\n",
       "      <td>hkd104</td>\n",
       "      <td>990623-1</td>\n",
       "      <td>M</td>\n",
       "      <td>176.0</td>\n",
       "      <td>NaN</td>\n",
       "      <td>NaN</td>\n",
       "      <td>B</td>\n",
       "      <td>A</td>\n",
       "      <td>NaN</td>\n",
       "      <td>2375</td>\n",
       "    </tr>\n",
       "    <tr>\n",
       "      <th>20</th>\n",
       "      <td>hkd117</td>\n",
       "      <td>860117-2</td>\n",
       "      <td>F</td>\n",
       "      <td>163.0</td>\n",
       "      <td>NaN</td>\n",
       "      <td>NaN</td>\n",
       "      <td>B</td>\n",
       "      <td>A</td>\n",
       "      <td>NaN</td>\n",
       "      <td>3355</td>\n",
       "    </tr>\n",
       "    <tr>\n",
       "      <th>29</th>\n",
       "      <td>hkd125</td>\n",
       "      <td>780112-2</td>\n",
       "      <td>F</td>\n",
       "      <td>169.1</td>\n",
       "      <td>NaN</td>\n",
       "      <td>NaN</td>\n",
       "      <td>B</td>\n",
       "      <td>A</td>\n",
       "      <td>NaN</td>\n",
       "      <td>4335</td>\n",
       "    </tr>\n",
       "    <tr>\n",
       "      <th>58</th>\n",
       "      <td>hkd151</td>\n",
       "      <td>781212-1</td>\n",
       "      <td>M</td>\n",
       "      <td>175.8</td>\n",
       "      <td>NaN</td>\n",
       "      <td>NaN</td>\n",
       "      <td>B</td>\n",
       "      <td>A</td>\n",
       "      <td>NaN</td>\n",
       "      <td>4755</td>\n",
       "    </tr>\n",
       "    <tr>\n",
       "      <th>59</th>\n",
       "      <td>hkd152</td>\n",
       "      <td>770202-1</td>\n",
       "      <td>M</td>\n",
       "      <td>176.8</td>\n",
       "      <td>NaN</td>\n",
       "      <td>NaN</td>\n",
       "      <td>B</td>\n",
       "      <td>A</td>\n",
       "      <td>NaN</td>\n",
       "      <td>4945</td>\n",
       "    </tr>\n",
       "    <tr>\n",
       "      <th>110</th>\n",
       "      <td>hkd199</td>\n",
       "      <td>820104-2</td>\n",
       "      <td>F</td>\n",
       "      <td>167.2</td>\n",
       "      <td>NaN</td>\n",
       "      <td>NaN</td>\n",
       "      <td>B</td>\n",
       "      <td>A</td>\n",
       "      <td>NaN</td>\n",
       "      <td>3785</td>\n",
       "    </tr>\n",
       "    <tr>\n",
       "      <th>170</th>\n",
       "      <td>hkd27</td>\n",
       "      <td>730716-1</td>\n",
       "      <td>M</td>\n",
       "      <td>171.7</td>\n",
       "      <td>NaN</td>\n",
       "      <td>NaN</td>\n",
       "      <td>A</td>\n",
       "      <td>B</td>\n",
       "      <td>NaN</td>\n",
       "      <td>6770</td>\n",
       "    </tr>\n",
       "    <tr>\n",
       "      <th>188</th>\n",
       "      <td>hkd43</td>\n",
       "      <td>830809-1</td>\n",
       "      <td>M</td>\n",
       "      <td>175.1</td>\n",
       "      <td>NaN</td>\n",
       "      <td>NaN</td>\n",
       "      <td>A</td>\n",
       "      <td>C</td>\n",
       "      <td>NaN</td>\n",
       "      <td>4335</td>\n",
       "    </tr>\n",
       "    <tr>\n",
       "      <th>193</th>\n",
       "      <td>hkd48</td>\n",
       "      <td>780113-1</td>\n",
       "      <td>M</td>\n",
       "      <td>184.0</td>\n",
       "      <td>NaN</td>\n",
       "      <td>NaN</td>\n",
       "      <td>A</td>\n",
       "      <td>C</td>\n",
       "      <td>NaN</td>\n",
       "      <td>5405</td>\n",
       "    </tr>\n",
       "    <tr>\n",
       "      <th>194</th>\n",
       "      <td>hkd49</td>\n",
       "      <td>770202-2</td>\n",
       "      <td>F</td>\n",
       "      <td>162.6</td>\n",
       "      <td>NaN</td>\n",
       "      <td>NaN</td>\n",
       "      <td>A</td>\n",
       "      <td>A</td>\n",
       "      <td>NaN</td>\n",
       "      <td>2995</td>\n",
       "    </tr>\n",
       "    <tr>\n",
       "      <th>238</th>\n",
       "      <td>hkd89</td>\n",
       "      <td>770204-1</td>\n",
       "      <td>M</td>\n",
       "      <td>184.3</td>\n",
       "      <td>NaN</td>\n",
       "      <td>NaN</td>\n",
       "      <td>A</td>\n",
       "      <td>B</td>\n",
       "      <td>NaN</td>\n",
       "      <td>4865</td>\n",
       "    </tr>\n",
       "    <tr>\n",
       "      <th>239</th>\n",
       "      <td>hkd9</td>\n",
       "      <td>910913-1</td>\n",
       "      <td>M</td>\n",
       "      <td>168.3</td>\n",
       "      <td>NaN</td>\n",
       "      <td>NaN</td>\n",
       "      <td>A</td>\n",
       "      <td>B</td>\n",
       "      <td>NaN</td>\n",
       "      <td>3200</td>\n",
       "    </tr>\n",
       "    <tr>\n",
       "      <th>248</th>\n",
       "      <td>hkd98</td>\n",
       "      <td>701024-1</td>\n",
       "      <td>M</td>\n",
       "      <td>166.7</td>\n",
       "      <td>NaN</td>\n",
       "      <td>NaN</td>\n",
       "      <td>A</td>\n",
       "      <td>B</td>\n",
       "      <td>NaN</td>\n",
       "      <td>7385</td>\n",
       "    </tr>\n",
       "  </tbody>\n",
       "</table>\n",
       "</div>"
      ],
      "text/plain": [
       "       name    jumin7 gender  height  age blood_type company grades  salary  \\\n",
       "0      hkd1  990623-2      F   161.9  NaN        NaN       A      A     NaN   \n",
       "3    hkd101  931226-2      F   155.3  NaN        NaN       B      B     NaN   \n",
       "4    hkd102  920123-1      M   188.6  NaN        NaN       B      F     NaN   \n",
       "6    hkd104  990623-1      M   176.0  NaN        NaN       B      A     NaN   \n",
       "20   hkd117  860117-2      F   163.0  NaN        NaN       B      A     NaN   \n",
       "29   hkd125  780112-2      F   169.1  NaN        NaN       B      A     NaN   \n",
       "58   hkd151  781212-1      M   175.8  NaN        NaN       B      A     NaN   \n",
       "59   hkd152  770202-1      M   176.8  NaN        NaN       B      A     NaN   \n",
       "110  hkd199  820104-2      F   167.2  NaN        NaN       B      A     NaN   \n",
       "170   hkd27  730716-1      M   171.7  NaN        NaN       A      B     NaN   \n",
       "188   hkd43  830809-1      M   175.1  NaN        NaN       A      C     NaN   \n",
       "193   hkd48  780113-1      M   184.0  NaN        NaN       A      C     NaN   \n",
       "194   hkd49  770202-2      F   162.6  NaN        NaN       A      A     NaN   \n",
       "238   hkd89  770204-1      M   184.3  NaN        NaN       A      B     NaN   \n",
       "239    hkd9  910913-1      M   168.3  NaN        NaN       A      B     NaN   \n",
       "248   hkd98  701024-1      M   166.7  NaN        NaN       A      B     NaN   \n",
       "\n",
       "     expenditure  \n",
       "0           1975  \n",
       "3           2935  \n",
       "4           4015  \n",
       "6           2375  \n",
       "20          3355  \n",
       "29          4335  \n",
       "58          4755  \n",
       "59          4945  \n",
       "110         3785  \n",
       "170         6770  \n",
       "188         4335  \n",
       "193         5405  \n",
       "194         2995  \n",
       "238         4865  \n",
       "239         3200  \n",
       "248         7385  "
      ]
     },
     "execution_count": 10,
     "metadata": {},
     "output_type": "execute_result"
    }
   ],
   "source": [
    "# df_hk['age'] 확인\n",
    "df_hk_na[df_hk_na['age'].isna()]"
   ]
  },
  {
   "cell_type": "code",
   "execution_count": 11,
   "metadata": {
    "colab": {
     "base_uri": "https://localhost:8080/"
    },
    "executionInfo": {
     "elapsed": 286,
     "status": "ok",
     "timestamp": 1672374552092,
     "user": {
      "displayName": "jinyang park",
      "userId": "06576046992691541404"
     },
     "user_tz": -540
    },
    "id": "zALTiQl0R5lC",
    "outputId": "67b7308c-da4c-4239-ad3f-1a1aea7f38a4"
   },
   "outputs": [
    {
     "data": {
      "text/plain": [
       "0      20.0\n",
       "1      31.0\n",
       "2      55.0\n",
       "3      20.0\n",
       "4      20.0\n",
       "       ... \n",
       "245    50.0\n",
       "246    51.0\n",
       "247    52.0\n",
       "248    20.0\n",
       "249    54.0\n",
       "Name: age, Length: 250, dtype: float64"
      ]
     },
     "execution_count": 11,
     "metadata": {},
     "output_type": "execute_result"
    }
   ],
   "source": [
    "# 수작업으로 채워 넣음, 특정값 사용\n",
    "df_hk_na['age'].fillna(20)"
   ]
  },
  {
   "cell_type": "code",
   "execution_count": 12,
   "metadata": {
    "colab": {
     "base_uri": "https://localhost:8080/"
    },
    "executionInfo": {
     "elapsed": 309,
     "status": "ok",
     "timestamp": 1672374602375,
     "user": {
      "displayName": "jinyang park",
      "userId": "06576046992691541404"
     },
     "user_tz": -540
    },
    "id": "S4Ug3kqPSvFo",
    "outputId": "763c3f07-98ef-4bef-e32d-12248cb5c4d1"
   },
   "outputs": [
    {
     "data": {
      "text/plain": [
       "0      39.337607\n",
       "1      31.000000\n",
       "2      55.000000\n",
       "3      39.337607\n",
       "4      39.337607\n",
       "         ...    \n",
       "245    50.000000\n",
       "246    51.000000\n",
       "247    52.000000\n",
       "248    39.337607\n",
       "249    54.000000\n",
       "Name: age, Length: 250, dtype: float64"
      ]
     },
     "execution_count": 12,
     "metadata": {},
     "output_type": "execute_result"
    }
   ],
   "source": [
    "# 수작업으로 채워 넣음, 평균값 사용 (전체 평균 혹은 기준 속성 평균)\n",
    "df_hk_na['age'].fillna(df_hk_na['age'].mean())"
   ]
  },
  {
   "cell_type": "code",
   "execution_count": 16,
   "metadata": {
    "colab": {
     "base_uri": "https://localhost:8080/"
    },
    "executionInfo": {
     "elapsed": 298,
     "status": "ok",
     "timestamp": 1672374642598,
     "user": {
      "displayName": "jinyang park",
      "userId": "06576046992691541404"
     },
     "user_tz": -540
    },
    "id": "3suq-3n3S73Z",
    "outputId": "9e024eac-f5f0-4e20-bfac-186bc5702644"
   },
   "outputs": [
    {
     "data": {
      "text/html": [
       "<div>\n",
       "<style scoped>\n",
       "    .dataframe tbody tr th:only-of-type {\n",
       "        vertical-align: middle;\n",
       "    }\n",
       "\n",
       "    .dataframe tbody tr th {\n",
       "        vertical-align: top;\n",
       "    }\n",
       "\n",
       "    .dataframe thead th {\n",
       "        text-align: right;\n",
       "    }\n",
       "</style>\n",
       "<table border=\"1\" class=\"dataframe\">\n",
       "  <thead>\n",
       "    <tr style=\"text-align: right;\">\n",
       "      <th></th>\n",
       "      <th>name</th>\n",
       "      <th>jumin7</th>\n",
       "      <th>gender</th>\n",
       "      <th>height</th>\n",
       "      <th>age</th>\n",
       "      <th>blood_type</th>\n",
       "      <th>company</th>\n",
       "      <th>grades</th>\n",
       "      <th>salary</th>\n",
       "      <th>expenditure</th>\n",
       "    </tr>\n",
       "  </thead>\n",
       "  <tbody>\n",
       "    <tr>\n",
       "      <th>1</th>\n",
       "      <td>hkd10</td>\n",
       "      <td>900303-2</td>\n",
       "      <td>F</td>\n",
       "      <td>169.4</td>\n",
       "      <td>31.0</td>\n",
       "      <td>A</td>\n",
       "      <td>A</td>\n",
       "      <td>B</td>\n",
       "      <td>4720.0</td>\n",
       "      <td>2970</td>\n",
       "    </tr>\n",
       "    <tr>\n",
       "      <th>2</th>\n",
       "      <td>hkd100</td>\n",
       "      <td>681205-2</td>\n",
       "      <td>F</td>\n",
       "      <td>168.3</td>\n",
       "      <td>55.0</td>\n",
       "      <td>A</td>\n",
       "      <td>A</td>\n",
       "      <td>B</td>\n",
       "      <td>7280.0</td>\n",
       "      <td>5905</td>\n",
       "    </tr>\n",
       "    <tr>\n",
       "      <th>5</th>\n",
       "      <td>hkd103</td>\n",
       "      <td>910215-2</td>\n",
       "      <td>F</td>\n",
       "      <td>150.2</td>\n",
       "      <td>30.0</td>\n",
       "      <td>A</td>\n",
       "      <td>B</td>\n",
       "      <td>A</td>\n",
       "      <td>3290.0</td>\n",
       "      <td>1915</td>\n",
       "    </tr>\n",
       "    <tr>\n",
       "      <th>7</th>\n",
       "      <td>hkd105</td>\n",
       "      <td>980717-2</td>\n",
       "      <td>F</td>\n",
       "      <td>163.4</td>\n",
       "      <td>23.0</td>\n",
       "      <td>B</td>\n",
       "      <td>B</td>\n",
       "      <td>B</td>\n",
       "      <td>3080.0</td>\n",
       "      <td>1330</td>\n",
       "    </tr>\n",
       "    <tr>\n",
       "      <th>8</th>\n",
       "      <td>hkd106</td>\n",
       "      <td>970818-1</td>\n",
       "      <td>M</td>\n",
       "      <td>186.3</td>\n",
       "      <td>24.0</td>\n",
       "      <td>AB</td>\n",
       "      <td>B</td>\n",
       "      <td>C</td>\n",
       "      <td>3110.0</td>\n",
       "      <td>2360</td>\n",
       "    </tr>\n",
       "    <tr>\n",
       "      <th>...</th>\n",
       "      <td>...</td>\n",
       "      <td>...</td>\n",
       "      <td>...</td>\n",
       "      <td>...</td>\n",
       "      <td>...</td>\n",
       "      <td>...</td>\n",
       "      <td>...</td>\n",
       "      <td>...</td>\n",
       "      <td>...</td>\n",
       "      <td>...</td>\n",
       "    </tr>\n",
       "    <tr>\n",
       "      <th>244</th>\n",
       "      <td>hkd94</td>\n",
       "      <td>720614-1</td>\n",
       "      <td>M</td>\n",
       "      <td>174.1</td>\n",
       "      <td>49.0</td>\n",
       "      <td>O</td>\n",
       "      <td>A</td>\n",
       "      <td>B</td>\n",
       "      <td>8540.0</td>\n",
       "      <td>7165</td>\n",
       "    </tr>\n",
       "    <tr>\n",
       "      <th>245</th>\n",
       "      <td>hkd95</td>\n",
       "      <td>730710-2</td>\n",
       "      <td>F</td>\n",
       "      <td>157.8</td>\n",
       "      <td>50.0</td>\n",
       "      <td>A</td>\n",
       "      <td>A</td>\n",
       "      <td>A</td>\n",
       "      <td>6990.0</td>\n",
       "      <td>4865</td>\n",
       "    </tr>\n",
       "    <tr>\n",
       "      <th>246</th>\n",
       "      <td>hkd96</td>\n",
       "      <td>720805-2</td>\n",
       "      <td>F</td>\n",
       "      <td>150.4</td>\n",
       "      <td>51.0</td>\n",
       "      <td>O</td>\n",
       "      <td>A</td>\n",
       "      <td>A</td>\n",
       "      <td>7110.0</td>\n",
       "      <td>4985</td>\n",
       "    </tr>\n",
       "    <tr>\n",
       "      <th>247</th>\n",
       "      <td>hkd97</td>\n",
       "      <td>710929-1</td>\n",
       "      <td>M</td>\n",
       "      <td>172.4</td>\n",
       "      <td>52.0</td>\n",
       "      <td>A</td>\n",
       "      <td>A</td>\n",
       "      <td>B</td>\n",
       "      <td>8000.0</td>\n",
       "      <td>6625</td>\n",
       "    </tr>\n",
       "    <tr>\n",
       "      <th>249</th>\n",
       "      <td>hkd99</td>\n",
       "      <td>691115-2</td>\n",
       "      <td>F</td>\n",
       "      <td>152.6</td>\n",
       "      <td>54.0</td>\n",
       "      <td>B</td>\n",
       "      <td>A</td>\n",
       "      <td>B</td>\n",
       "      <td>7470.0</td>\n",
       "      <td>6095</td>\n",
       "    </tr>\n",
       "  </tbody>\n",
       "</table>\n",
       "<p>234 rows × 10 columns</p>\n",
       "</div>"
      ],
      "text/plain": [
       "       name    jumin7 gender  height   age blood_type company grades  salary  \\\n",
       "1     hkd10  900303-2      F   169.4  31.0          A       A      B  4720.0   \n",
       "2    hkd100  681205-2      F   168.3  55.0          A       A      B  7280.0   \n",
       "5    hkd103  910215-2      F   150.2  30.0          A       B      A  3290.0   \n",
       "7    hkd105  980717-2      F   163.4  23.0          B       B      B  3080.0   \n",
       "8    hkd106  970818-1      M   186.3  24.0         AB       B      C  3110.0   \n",
       "..      ...       ...    ...     ...   ...        ...     ...    ...     ...   \n",
       "244   hkd94  720614-1      M   174.1  49.0          O       A      B  8540.0   \n",
       "245   hkd95  730710-2      F   157.8  50.0          A       A      A  6990.0   \n",
       "246   hkd96  720805-2      F   150.4  51.0          O       A      A  7110.0   \n",
       "247   hkd97  710929-1      M   172.4  52.0          A       A      B  8000.0   \n",
       "249   hkd99  691115-2      F   152.6  54.0          B       A      B  7470.0   \n",
       "\n",
       "     expenditure  \n",
       "1           2970  \n",
       "2           5905  \n",
       "5           1915  \n",
       "7           1330  \n",
       "8           2360  \n",
       "..           ...  \n",
       "244         7165  \n",
       "245         4865  \n",
       "246         4985  \n",
       "247         6625  \n",
       "249         6095  \n",
       "\n",
       "[234 rows x 10 columns]"
      ]
     },
     "execution_count": 16,
     "metadata": {},
     "output_type": "execute_result"
    }
   ],
   "source": [
    "# 해당 데이터 행을 모두 제거\n",
    "df_hk_na.dropna(subset='age')"
   ]
  },
  {
   "cell_type": "markdown",
   "metadata": {
    "id": "ESN62nhDzypT"
   },
   "source": [
    "### 이상값(outlier)\n",
    "\n",
    "* Turkey 방법 (IQR*1.5)\n"
   ]
  },
  {
   "cell_type": "code",
   "execution_count": 17,
   "metadata": {
    "executionInfo": {
     "elapsed": 440,
     "status": "ok",
     "timestamp": 1672375201545,
     "user": {
      "displayName": "jinyang park",
      "userId": "06576046992691541404"
     },
     "user_tz": -540
    },
    "id": "G1RPwp8dXpfO"
   },
   "outputs": [
    {
     "data": {
      "text/html": [
       "<div>\n",
       "<style scoped>\n",
       "    .dataframe tbody tr th:only-of-type {\n",
       "        vertical-align: middle;\n",
       "    }\n",
       "\n",
       "    .dataframe tbody tr th {\n",
       "        vertical-align: top;\n",
       "    }\n",
       "\n",
       "    .dataframe thead th {\n",
       "        text-align: right;\n",
       "    }\n",
       "</style>\n",
       "<table border=\"1\" class=\"dataframe\">\n",
       "  <thead>\n",
       "    <tr style=\"text-align: right;\">\n",
       "      <th></th>\n",
       "      <th>name</th>\n",
       "      <th>jumin7</th>\n",
       "      <th>gender</th>\n",
       "      <th>height</th>\n",
       "      <th>age</th>\n",
       "      <th>blood_type</th>\n",
       "      <th>company</th>\n",
       "      <th>grades</th>\n",
       "      <th>salary</th>\n",
       "      <th>expenditure</th>\n",
       "    </tr>\n",
       "  </thead>\n",
       "  <tbody>\n",
       "    <tr>\n",
       "      <th>0</th>\n",
       "      <td>hkd1</td>\n",
       "      <td>990623-2</td>\n",
       "      <td>F</td>\n",
       "      <td>161.9</td>\n",
       "      <td>22</td>\n",
       "      <td>A</td>\n",
       "      <td>A</td>\n",
       "      <td>A</td>\n",
       "      <td>4100</td>\n",
       "      <td>1975</td>\n",
       "    </tr>\n",
       "    <tr>\n",
       "      <th>1</th>\n",
       "      <td>hkd10</td>\n",
       "      <td>900303-2</td>\n",
       "      <td>F</td>\n",
       "      <td>169.4</td>\n",
       "      <td>31</td>\n",
       "      <td>A</td>\n",
       "      <td>A</td>\n",
       "      <td>B</td>\n",
       "      <td>4720</td>\n",
       "      <td>2970</td>\n",
       "    </tr>\n",
       "    <tr>\n",
       "      <th>2</th>\n",
       "      <td>hkd100</td>\n",
       "      <td>681205-2</td>\n",
       "      <td>F</td>\n",
       "      <td>168.3</td>\n",
       "      <td>55</td>\n",
       "      <td>A</td>\n",
       "      <td>A</td>\n",
       "      <td>B</td>\n",
       "      <td>7280</td>\n",
       "      <td>5905</td>\n",
       "    </tr>\n",
       "    <tr>\n",
       "      <th>3</th>\n",
       "      <td>hkd101</td>\n",
       "      <td>931226-2</td>\n",
       "      <td>F</td>\n",
       "      <td>155.3</td>\n",
       "      <td>28</td>\n",
       "      <td>AB</td>\n",
       "      <td>B</td>\n",
       "      <td>B</td>\n",
       "      <td>4060</td>\n",
       "      <td>2935</td>\n",
       "    </tr>\n",
       "    <tr>\n",
       "      <th>4</th>\n",
       "      <td>hkd102</td>\n",
       "      <td>920123-1</td>\n",
       "      <td>M</td>\n",
       "      <td>188.6</td>\n",
       "      <td>29</td>\n",
       "      <td>O</td>\n",
       "      <td>B</td>\n",
       "      <td>F</td>\n",
       "      <td>4390</td>\n",
       "      <td>4015</td>\n",
       "    </tr>\n",
       "    <tr>\n",
       "      <th>...</th>\n",
       "      <td>...</td>\n",
       "      <td>...</td>\n",
       "      <td>...</td>\n",
       "      <td>...</td>\n",
       "      <td>...</td>\n",
       "      <td>...</td>\n",
       "      <td>...</td>\n",
       "      <td>...</td>\n",
       "      <td>...</td>\n",
       "      <td>...</td>\n",
       "    </tr>\n",
       "    <tr>\n",
       "      <th>245</th>\n",
       "      <td>hkd95</td>\n",
       "      <td>730710-2</td>\n",
       "      <td>F</td>\n",
       "      <td>157.8</td>\n",
       "      <td>50</td>\n",
       "      <td>A</td>\n",
       "      <td>A</td>\n",
       "      <td>A</td>\n",
       "      <td>6990</td>\n",
       "      <td>4865</td>\n",
       "    </tr>\n",
       "    <tr>\n",
       "      <th>246</th>\n",
       "      <td>hkd96</td>\n",
       "      <td>720805-2</td>\n",
       "      <td>F</td>\n",
       "      <td>150.4</td>\n",
       "      <td>51</td>\n",
       "      <td>O</td>\n",
       "      <td>A</td>\n",
       "      <td>A</td>\n",
       "      <td>7110</td>\n",
       "      <td>4985</td>\n",
       "    </tr>\n",
       "    <tr>\n",
       "      <th>247</th>\n",
       "      <td>hkd97</td>\n",
       "      <td>710929-1</td>\n",
       "      <td>M</td>\n",
       "      <td>172.4</td>\n",
       "      <td>52</td>\n",
       "      <td>A</td>\n",
       "      <td>A</td>\n",
       "      <td>B</td>\n",
       "      <td>8000</td>\n",
       "      <td>6625</td>\n",
       "    </tr>\n",
       "    <tr>\n",
       "      <th>248</th>\n",
       "      <td>hkd98</td>\n",
       "      <td>701024-1</td>\n",
       "      <td>M</td>\n",
       "      <td>166.7</td>\n",
       "      <td>53</td>\n",
       "      <td>O</td>\n",
       "      <td>A</td>\n",
       "      <td>B</td>\n",
       "      <td>8760</td>\n",
       "      <td>7385</td>\n",
       "    </tr>\n",
       "    <tr>\n",
       "      <th>249</th>\n",
       "      <td>hkd99</td>\n",
       "      <td>691115-2</td>\n",
       "      <td>F</td>\n",
       "      <td>152.6</td>\n",
       "      <td>54</td>\n",
       "      <td>B</td>\n",
       "      <td>A</td>\n",
       "      <td>B</td>\n",
       "      <td>7470</td>\n",
       "      <td>6095</td>\n",
       "    </tr>\n",
       "  </tbody>\n",
       "</table>\n",
       "<p>250 rows × 10 columns</p>\n",
       "</div>"
      ],
      "text/plain": [
       "       name    jumin7 gender  height  age blood_type company grades  salary  \\\n",
       "0      hkd1  990623-2      F   161.9   22          A       A      A    4100   \n",
       "1     hkd10  900303-2      F   169.4   31          A       A      B    4720   \n",
       "2    hkd100  681205-2      F   168.3   55          A       A      B    7280   \n",
       "3    hkd101  931226-2      F   155.3   28         AB       B      B    4060   \n",
       "4    hkd102  920123-1      M   188.6   29          O       B      F    4390   \n",
       "..      ...       ...    ...     ...  ...        ...     ...    ...     ...   \n",
       "245   hkd95  730710-2      F   157.8   50          A       A      A    6990   \n",
       "246   hkd96  720805-2      F   150.4   51          O       A      A    7110   \n",
       "247   hkd97  710929-1      M   172.4   52          A       A      B    8000   \n",
       "248   hkd98  701024-1      M   166.7   53          O       A      B    8760   \n",
       "249   hkd99  691115-2      F   152.6   54          B       A      B    7470   \n",
       "\n",
       "     expenditure  \n",
       "0           1975  \n",
       "1           2970  \n",
       "2           5905  \n",
       "3           2935  \n",
       "4           4015  \n",
       "..           ...  \n",
       "245         4865  \n",
       "246         4985  \n",
       "247         6625  \n",
       "248         7385  \n",
       "249         6095  \n",
       "\n",
       "[250 rows x 10 columns]"
      ]
     },
     "execution_count": 17,
     "metadata": {},
     "output_type": "execute_result"
    }
   ],
   "source": [
    "# 파일 로딩 \n",
    "df_hk = pd.read_csv('C:\\\\Users\\\\yhlee\\\\TIL\\\\data\\\\hk_221206.csv')\n",
    "df_hk"
   ]
  },
  {
   "cell_type": "code",
   "execution_count": 18,
   "metadata": {
    "colab": {
     "base_uri": "https://localhost:8080/",
     "height": 300
    },
    "executionInfo": {
     "elapsed": 27,
     "status": "ok",
     "timestamp": 1672375266126,
     "user": {
      "displayName": "jinyang park",
      "userId": "06576046992691541404"
     },
     "user_tz": -540
    },
    "id": "fhXGKmL-a2ya",
    "outputId": "fd7c167d-ce13-49e2-ccb1-f52960d38c89"
   },
   "outputs": [
    {
     "data": {
      "text/html": [
       "<div>\n",
       "<style scoped>\n",
       "    .dataframe tbody tr th:only-of-type {\n",
       "        vertical-align: middle;\n",
       "    }\n",
       "\n",
       "    .dataframe tbody tr th {\n",
       "        vertical-align: top;\n",
       "    }\n",
       "\n",
       "    .dataframe thead th {\n",
       "        text-align: right;\n",
       "    }\n",
       "</style>\n",
       "<table border=\"1\" class=\"dataframe\">\n",
       "  <thead>\n",
       "    <tr style=\"text-align: right;\">\n",
       "      <th></th>\n",
       "      <th>height</th>\n",
       "      <th>age</th>\n",
       "      <th>salary</th>\n",
       "      <th>expenditure</th>\n",
       "    </tr>\n",
       "  </thead>\n",
       "  <tbody>\n",
       "    <tr>\n",
       "      <th>count</th>\n",
       "      <td>250.000000</td>\n",
       "      <td>250.000000</td>\n",
       "      <td>250.000000</td>\n",
       "      <td>250.000000</td>\n",
       "    </tr>\n",
       "    <tr>\n",
       "      <th>mean</th>\n",
       "      <td>169.569200</td>\n",
       "      <td>39.240000</td>\n",
       "      <td>6357.480000</td>\n",
       "      <td>4971.480000</td>\n",
       "    </tr>\n",
       "    <tr>\n",
       "      <th>std</th>\n",
       "      <td>12.283857</td>\n",
       "      <td>8.653899</td>\n",
       "      <td>1849.791383</td>\n",
       "      <td>1861.112508</td>\n",
       "    </tr>\n",
       "    <tr>\n",
       "      <th>min</th>\n",
       "      <td>148.100000</td>\n",
       "      <td>20.000000</td>\n",
       "      <td>3080.000000</td>\n",
       "      <td>1330.000000</td>\n",
       "    </tr>\n",
       "    <tr>\n",
       "      <th>25%</th>\n",
       "      <td>159.300000</td>\n",
       "      <td>33.000000</td>\n",
       "      <td>5002.500000</td>\n",
       "      <td>3593.750000</td>\n",
       "    </tr>\n",
       "    <tr>\n",
       "      <th>50%</th>\n",
       "      <td>168.750000</td>\n",
       "      <td>39.000000</td>\n",
       "      <td>6100.000000</td>\n",
       "      <td>4762.500000</td>\n",
       "    </tr>\n",
       "    <tr>\n",
       "      <th>75%</th>\n",
       "      <td>180.375000</td>\n",
       "      <td>46.000000</td>\n",
       "      <td>7427.500000</td>\n",
       "      <td>6272.500000</td>\n",
       "    </tr>\n",
       "    <tr>\n",
       "      <th>max</th>\n",
       "      <td>191.800000</td>\n",
       "      <td>55.000000</td>\n",
       "      <td>11990.000000</td>\n",
       "      <td>10865.000000</td>\n",
       "    </tr>\n",
       "  </tbody>\n",
       "</table>\n",
       "</div>"
      ],
      "text/plain": [
       "           height         age        salary   expenditure\n",
       "count  250.000000  250.000000    250.000000    250.000000\n",
       "mean   169.569200   39.240000   6357.480000   4971.480000\n",
       "std     12.283857    8.653899   1849.791383   1861.112508\n",
       "min    148.100000   20.000000   3080.000000   1330.000000\n",
       "25%    159.300000   33.000000   5002.500000   3593.750000\n",
       "50%    168.750000   39.000000   6100.000000   4762.500000\n",
       "75%    180.375000   46.000000   7427.500000   6272.500000\n",
       "max    191.800000   55.000000  11990.000000  10865.000000"
      ]
     },
     "execution_count": 18,
     "metadata": {},
     "output_type": "execute_result"
    }
   ],
   "source": [
    "# EDA\n",
    "df_hk.describe()"
   ]
  },
  {
   "cell_type": "code",
   "execution_count": 23,
   "metadata": {},
   "outputs": [
    {
     "name": "stdout",
     "output_type": "stream",
     "text": [
      "3593.75 4762.5 6272.5\n"
     ]
    }
   ],
   "source": [
    "q11,q22,q33 = df_hk['expenditure'].quantile([0.25,0.5,0.75])\n",
    "print(q11,q22,q33)"
   ]
  },
  {
   "cell_type": "code",
   "execution_count": 25,
   "metadata": {
    "colab": {
     "base_uri": "https://localhost:8080/"
    },
    "executionInfo": {
     "elapsed": 5,
     "status": "ok",
     "timestamp": 1672375438659,
     "user": {
      "displayName": "jinyang park",
      "userId": "06576046992691541404"
     },
     "user_tz": -540
    },
    "id": "wItVVsxbVlMA",
    "outputId": "15b7908b-667d-47a0-bd13-209b47914a5f"
   },
   "outputs": [],
   "source": [
    "# quantile\n",
    "q1 = df_hk['expenditure'].quantile(0.25)\n",
    "q3 = df_hk['expenditure'].quantile(0.75)\n",
    "\n",
    "IQR = q3 - q1\n",
    "\n",
    "lo = q1 - IQR*1.5\n",
    "hi = q3 + IQR*1.5"
   ]
  },
  {
   "cell_type": "code",
   "execution_count": null,
   "metadata": {
    "id": "rh85THD5V9kr"
   },
   "outputs": [],
   "source": [
    "# quantile\n"
   ]
  },
  {
   "cell_type": "code",
   "execution_count": null,
   "metadata": {
    "colab": {
     "base_uri": "https://localhost:8080/"
    },
    "executionInfo": {
     "elapsed": 295,
     "status": "ok",
     "timestamp": 1672376128550,
     "user": {
      "displayName": "jinyang park",
      "userId": "06576046992691541404"
     },
     "user_tz": -540
    },
    "id": "hv4lXttkWRDE",
    "outputId": "40810466-9dac-464b-d71d-d0e0dae62f4e"
   },
   "outputs": [],
   "source": [
    "# salary, expenditure 이상값 있음\n"
   ]
  },
  {
   "cell_type": "code",
   "execution_count": null,
   "metadata": {
    "colab": {
     "base_uri": "https://localhost:8080/"
    },
    "executionInfo": {
     "elapsed": 556,
     "status": "ok",
     "timestamp": 1672377102607,
     "user": {
      "displayName": "jinyang park",
      "userId": "06576046992691541404"
     },
     "user_tz": -540
    },
    "id": "s5UPvFIAX_vi",
    "outputId": "1dd4da3f-0daf-49d6-e04e-58a7c51594ec"
   },
   "outputs": [],
   "source": [
    "# salary, expenditure 이상값 있음\n"
   ]
  },
  {
   "cell_type": "code",
   "execution_count": 33,
   "metadata": {
    "colab": {
     "base_uri": "https://localhost:8080/",
     "height": 112
    },
    "executionInfo": {
     "elapsed": 309,
     "status": "ok",
     "timestamp": 1672376991986,
     "user": {
      "displayName": "jinyang park",
      "userId": "06576046992691541404"
     },
     "user_tz": -540
    },
    "id": "eYxbHV-9b69L",
    "outputId": "2f312d01-fd8a-4518-e1c4-aa18425fd28f"
   },
   "outputs": [
    {
     "data": {
      "text/html": [
       "<div>\n",
       "<style scoped>\n",
       "    .dataframe tbody tr th:only-of-type {\n",
       "        vertical-align: middle;\n",
       "    }\n",
       "\n",
       "    .dataframe tbody tr th {\n",
       "        vertical-align: top;\n",
       "    }\n",
       "\n",
       "    .dataframe thead th {\n",
       "        text-align: right;\n",
       "    }\n",
       "</style>\n",
       "<table border=\"1\" class=\"dataframe\">\n",
       "  <thead>\n",
       "    <tr style=\"text-align: right;\">\n",
       "      <th></th>\n",
       "      <th>name</th>\n",
       "      <th>jumin7</th>\n",
       "      <th>gender</th>\n",
       "      <th>height</th>\n",
       "      <th>age</th>\n",
       "      <th>blood_type</th>\n",
       "      <th>company</th>\n",
       "      <th>grades</th>\n",
       "      <th>salary</th>\n",
       "      <th>expenditure</th>\n",
       "    </tr>\n",
       "  </thead>\n",
       "  <tbody>\n",
       "    <tr>\n",
       "      <th>161</th>\n",
       "      <td>hkd244</td>\n",
       "      <td>780116-2</td>\n",
       "      <td>F</td>\n",
       "      <td>151.4</td>\n",
       "      <td>43</td>\n",
       "      <td>O</td>\n",
       "      <td>C</td>\n",
       "      <td>C</td>\n",
       "      <td>11810</td>\n",
       "      <td>10685</td>\n",
       "    </tr>\n",
       "    <tr>\n",
       "      <th>162</th>\n",
       "      <td>hkd245</td>\n",
       "      <td>770205-2</td>\n",
       "      <td>F</td>\n",
       "      <td>165.0</td>\n",
       "      <td>44</td>\n",
       "      <td>A</td>\n",
       "      <td>C</td>\n",
       "      <td>B</td>\n",
       "      <td>11990</td>\n",
       "      <td>10865</td>\n",
       "    </tr>\n",
       "  </tbody>\n",
       "</table>\n",
       "</div>"
      ],
      "text/plain": [
       "       name    jumin7 gender  height  age blood_type company grades  salary  \\\n",
       "161  hkd244  780116-2      F   151.4   43          O       C      C   11810   \n",
       "162  hkd245  770205-2      F   165.0   44          A       C      B   11990   \n",
       "\n",
       "     expenditure  \n",
       "161        10685  \n",
       "162        10865  "
      ]
     },
     "execution_count": 33,
     "metadata": {},
     "output_type": "execute_result"
    }
   ],
   "source": [
    "# salary, expenditure 이상값 추출\n",
    "df_hk[((df_hk['expenditure']< lo) | (df_hk['expenditure']> hi))]"
   ]
  },
  {
   "cell_type": "code",
   "execution_count": 34,
   "metadata": {
    "colab": {
     "base_uri": "https://localhost:8080/"
    },
    "executionInfo": {
     "elapsed": 305,
     "status": "ok",
     "timestamp": 1672376687084,
     "user": {
      "displayName": "jinyang park",
      "userId": "06576046992691541404"
     },
     "user_tz": -540
    },
    "id": "lJ3OtuZcYM_a",
    "outputId": "5be5c35e-e6be-43f0-b1c1-da7d29185d7a"
   },
   "outputs": [
    {
     "data": {
      "text/plain": [
       "Int64Index([161, 162], dtype='int64')"
      ]
     },
     "execution_count": 34,
     "metadata": {},
     "output_type": "execute_result"
    }
   ],
   "source": [
    "# 삭제할 row index 추출\n",
    "df_hk[((df_hk['expenditure']< lo) | (df_hk['expenditure']> hi))].index"
   ]
  },
  {
   "cell_type": "code",
   "execution_count": 35,
   "metadata": {
    "colab": {
     "base_uri": "https://localhost:8080/",
     "height": 424
    },
    "executionInfo": {
     "elapsed": 355,
     "status": "ok",
     "timestamp": 1672376829596,
     "user": {
      "displayName": "jinyang park",
      "userId": "06576046992691541404"
     },
     "user_tz": -540
    },
    "id": "otGUqVnDaJHB",
    "outputId": "0078baac-dc11-4db9-9c13-848f32cbc8b4"
   },
   "outputs": [
    {
     "data": {
      "text/html": [
       "<div>\n",
       "<style scoped>\n",
       "    .dataframe tbody tr th:only-of-type {\n",
       "        vertical-align: middle;\n",
       "    }\n",
       "\n",
       "    .dataframe tbody tr th {\n",
       "        vertical-align: top;\n",
       "    }\n",
       "\n",
       "    .dataframe thead th {\n",
       "        text-align: right;\n",
       "    }\n",
       "</style>\n",
       "<table border=\"1\" class=\"dataframe\">\n",
       "  <thead>\n",
       "    <tr style=\"text-align: right;\">\n",
       "      <th></th>\n",
       "      <th>name</th>\n",
       "      <th>jumin7</th>\n",
       "      <th>gender</th>\n",
       "      <th>height</th>\n",
       "      <th>age</th>\n",
       "      <th>blood_type</th>\n",
       "      <th>company</th>\n",
       "      <th>grades</th>\n",
       "      <th>salary</th>\n",
       "      <th>expenditure</th>\n",
       "    </tr>\n",
       "  </thead>\n",
       "  <tbody>\n",
       "    <tr>\n",
       "      <th>0</th>\n",
       "      <td>hkd1</td>\n",
       "      <td>990623-2</td>\n",
       "      <td>F</td>\n",
       "      <td>161.9</td>\n",
       "      <td>22</td>\n",
       "      <td>A</td>\n",
       "      <td>A</td>\n",
       "      <td>A</td>\n",
       "      <td>4100</td>\n",
       "      <td>1975</td>\n",
       "    </tr>\n",
       "    <tr>\n",
       "      <th>1</th>\n",
       "      <td>hkd10</td>\n",
       "      <td>900303-2</td>\n",
       "      <td>F</td>\n",
       "      <td>169.4</td>\n",
       "      <td>31</td>\n",
       "      <td>A</td>\n",
       "      <td>A</td>\n",
       "      <td>B</td>\n",
       "      <td>4720</td>\n",
       "      <td>2970</td>\n",
       "    </tr>\n",
       "    <tr>\n",
       "      <th>2</th>\n",
       "      <td>hkd100</td>\n",
       "      <td>681205-2</td>\n",
       "      <td>F</td>\n",
       "      <td>168.3</td>\n",
       "      <td>55</td>\n",
       "      <td>A</td>\n",
       "      <td>A</td>\n",
       "      <td>B</td>\n",
       "      <td>7280</td>\n",
       "      <td>5905</td>\n",
       "    </tr>\n",
       "    <tr>\n",
       "      <th>3</th>\n",
       "      <td>hkd101</td>\n",
       "      <td>931226-2</td>\n",
       "      <td>F</td>\n",
       "      <td>155.3</td>\n",
       "      <td>28</td>\n",
       "      <td>AB</td>\n",
       "      <td>B</td>\n",
       "      <td>B</td>\n",
       "      <td>4060</td>\n",
       "      <td>2935</td>\n",
       "    </tr>\n",
       "    <tr>\n",
       "      <th>4</th>\n",
       "      <td>hkd102</td>\n",
       "      <td>920123-1</td>\n",
       "      <td>M</td>\n",
       "      <td>188.6</td>\n",
       "      <td>29</td>\n",
       "      <td>O</td>\n",
       "      <td>B</td>\n",
       "      <td>F</td>\n",
       "      <td>4390</td>\n",
       "      <td>4015</td>\n",
       "    </tr>\n",
       "    <tr>\n",
       "      <th>...</th>\n",
       "      <td>...</td>\n",
       "      <td>...</td>\n",
       "      <td>...</td>\n",
       "      <td>...</td>\n",
       "      <td>...</td>\n",
       "      <td>...</td>\n",
       "      <td>...</td>\n",
       "      <td>...</td>\n",
       "      <td>...</td>\n",
       "      <td>...</td>\n",
       "    </tr>\n",
       "    <tr>\n",
       "      <th>245</th>\n",
       "      <td>hkd95</td>\n",
       "      <td>730710-2</td>\n",
       "      <td>F</td>\n",
       "      <td>157.8</td>\n",
       "      <td>50</td>\n",
       "      <td>A</td>\n",
       "      <td>A</td>\n",
       "      <td>A</td>\n",
       "      <td>6990</td>\n",
       "      <td>4865</td>\n",
       "    </tr>\n",
       "    <tr>\n",
       "      <th>246</th>\n",
       "      <td>hkd96</td>\n",
       "      <td>720805-2</td>\n",
       "      <td>F</td>\n",
       "      <td>150.4</td>\n",
       "      <td>51</td>\n",
       "      <td>O</td>\n",
       "      <td>A</td>\n",
       "      <td>A</td>\n",
       "      <td>7110</td>\n",
       "      <td>4985</td>\n",
       "    </tr>\n",
       "    <tr>\n",
       "      <th>247</th>\n",
       "      <td>hkd97</td>\n",
       "      <td>710929-1</td>\n",
       "      <td>M</td>\n",
       "      <td>172.4</td>\n",
       "      <td>52</td>\n",
       "      <td>A</td>\n",
       "      <td>A</td>\n",
       "      <td>B</td>\n",
       "      <td>8000</td>\n",
       "      <td>6625</td>\n",
       "    </tr>\n",
       "    <tr>\n",
       "      <th>248</th>\n",
       "      <td>hkd98</td>\n",
       "      <td>701024-1</td>\n",
       "      <td>M</td>\n",
       "      <td>166.7</td>\n",
       "      <td>53</td>\n",
       "      <td>O</td>\n",
       "      <td>A</td>\n",
       "      <td>B</td>\n",
       "      <td>8760</td>\n",
       "      <td>7385</td>\n",
       "    </tr>\n",
       "    <tr>\n",
       "      <th>249</th>\n",
       "      <td>hkd99</td>\n",
       "      <td>691115-2</td>\n",
       "      <td>F</td>\n",
       "      <td>152.6</td>\n",
       "      <td>54</td>\n",
       "      <td>B</td>\n",
       "      <td>A</td>\n",
       "      <td>B</td>\n",
       "      <td>7470</td>\n",
       "      <td>6095</td>\n",
       "    </tr>\n",
       "  </tbody>\n",
       "</table>\n",
       "<p>248 rows × 10 columns</p>\n",
       "</div>"
      ],
      "text/plain": [
       "       name    jumin7 gender  height  age blood_type company grades  salary  \\\n",
       "0      hkd1  990623-2      F   161.9   22          A       A      A    4100   \n",
       "1     hkd10  900303-2      F   169.4   31          A       A      B    4720   \n",
       "2    hkd100  681205-2      F   168.3   55          A       A      B    7280   \n",
       "3    hkd101  931226-2      F   155.3   28         AB       B      B    4060   \n",
       "4    hkd102  920123-1      M   188.6   29          O       B      F    4390   \n",
       "..      ...       ...    ...     ...  ...        ...     ...    ...     ...   \n",
       "245   hkd95  730710-2      F   157.8   50          A       A      A    6990   \n",
       "246   hkd96  720805-2      F   150.4   51          O       A      A    7110   \n",
       "247   hkd97  710929-1      M   172.4   52          A       A      B    8000   \n",
       "248   hkd98  701024-1      M   166.7   53          O       A      B    8760   \n",
       "249   hkd99  691115-2      F   152.6   54          B       A      B    7470   \n",
       "\n",
       "     expenditure  \n",
       "0           1975  \n",
       "1           2970  \n",
       "2           5905  \n",
       "3           2935  \n",
       "4           4015  \n",
       "..           ...  \n",
       "245         4865  \n",
       "246         4985  \n",
       "247         6625  \n",
       "248         7385  \n",
       "249         6095  \n",
       "\n",
       "[248 rows x 10 columns]"
      ]
     },
     "execution_count": 35,
     "metadata": {},
     "output_type": "execute_result"
    }
   ],
   "source": [
    "# drop(row index 사용)으로 삭제\n",
    "df_hk.drop(index=df_hk[((df_hk['expenditure']< lo) | (df_hk['expenditure']> hi))].index)"
   ]
  },
  {
   "cell_type": "code",
   "execution_count": 38,
   "metadata": {
    "colab": {
     "base_uri": "https://localhost:8080/",
     "height": 424
    },
    "executionInfo": {
     "elapsed": 292,
     "status": "ok",
     "timestamp": 1672376778981,
     "user": {
      "displayName": "jinyang park",
      "userId": "06576046992691541404"
     },
     "user_tz": -540
    },
    "id": "NdxHNnY1a-PQ",
    "outputId": "1bb18abd-de1c-4ee4-aff7-626728317a1a"
   },
   "outputs": [
    {
     "data": {
      "text/html": [
       "<div>\n",
       "<style scoped>\n",
       "    .dataframe tbody tr th:only-of-type {\n",
       "        vertical-align: middle;\n",
       "    }\n",
       "\n",
       "    .dataframe tbody tr th {\n",
       "        vertical-align: top;\n",
       "    }\n",
       "\n",
       "    .dataframe thead th {\n",
       "        text-align: right;\n",
       "    }\n",
       "</style>\n",
       "<table border=\"1\" class=\"dataframe\">\n",
       "  <thead>\n",
       "    <tr style=\"text-align: right;\">\n",
       "      <th></th>\n",
       "      <th>name</th>\n",
       "      <th>jumin7</th>\n",
       "      <th>gender</th>\n",
       "      <th>height</th>\n",
       "      <th>age</th>\n",
       "      <th>blood_type</th>\n",
       "      <th>company</th>\n",
       "      <th>grades</th>\n",
       "      <th>salary</th>\n",
       "      <th>expenditure</th>\n",
       "    </tr>\n",
       "  </thead>\n",
       "  <tbody>\n",
       "    <tr>\n",
       "      <th>0</th>\n",
       "      <td>hkd1</td>\n",
       "      <td>990623-2</td>\n",
       "      <td>F</td>\n",
       "      <td>161.9</td>\n",
       "      <td>22</td>\n",
       "      <td>A</td>\n",
       "      <td>A</td>\n",
       "      <td>A</td>\n",
       "      <td>4100</td>\n",
       "      <td>1975</td>\n",
       "    </tr>\n",
       "    <tr>\n",
       "      <th>1</th>\n",
       "      <td>hkd10</td>\n",
       "      <td>900303-2</td>\n",
       "      <td>F</td>\n",
       "      <td>169.4</td>\n",
       "      <td>31</td>\n",
       "      <td>A</td>\n",
       "      <td>A</td>\n",
       "      <td>B</td>\n",
       "      <td>4720</td>\n",
       "      <td>2970</td>\n",
       "    </tr>\n",
       "    <tr>\n",
       "      <th>2</th>\n",
       "      <td>hkd100</td>\n",
       "      <td>681205-2</td>\n",
       "      <td>F</td>\n",
       "      <td>168.3</td>\n",
       "      <td>55</td>\n",
       "      <td>A</td>\n",
       "      <td>A</td>\n",
       "      <td>B</td>\n",
       "      <td>7280</td>\n",
       "      <td>5905</td>\n",
       "    </tr>\n",
       "    <tr>\n",
       "      <th>3</th>\n",
       "      <td>hkd101</td>\n",
       "      <td>931226-2</td>\n",
       "      <td>F</td>\n",
       "      <td>155.3</td>\n",
       "      <td>28</td>\n",
       "      <td>AB</td>\n",
       "      <td>B</td>\n",
       "      <td>B</td>\n",
       "      <td>4060</td>\n",
       "      <td>2935</td>\n",
       "    </tr>\n",
       "    <tr>\n",
       "      <th>4</th>\n",
       "      <td>hkd102</td>\n",
       "      <td>920123-1</td>\n",
       "      <td>M</td>\n",
       "      <td>188.6</td>\n",
       "      <td>29</td>\n",
       "      <td>O</td>\n",
       "      <td>B</td>\n",
       "      <td>F</td>\n",
       "      <td>4390</td>\n",
       "      <td>4015</td>\n",
       "    </tr>\n",
       "    <tr>\n",
       "      <th>...</th>\n",
       "      <td>...</td>\n",
       "      <td>...</td>\n",
       "      <td>...</td>\n",
       "      <td>...</td>\n",
       "      <td>...</td>\n",
       "      <td>...</td>\n",
       "      <td>...</td>\n",
       "      <td>...</td>\n",
       "      <td>...</td>\n",
       "      <td>...</td>\n",
       "    </tr>\n",
       "    <tr>\n",
       "      <th>245</th>\n",
       "      <td>hkd95</td>\n",
       "      <td>730710-2</td>\n",
       "      <td>F</td>\n",
       "      <td>157.8</td>\n",
       "      <td>50</td>\n",
       "      <td>A</td>\n",
       "      <td>A</td>\n",
       "      <td>A</td>\n",
       "      <td>6990</td>\n",
       "      <td>4865</td>\n",
       "    </tr>\n",
       "    <tr>\n",
       "      <th>246</th>\n",
       "      <td>hkd96</td>\n",
       "      <td>720805-2</td>\n",
       "      <td>F</td>\n",
       "      <td>150.4</td>\n",
       "      <td>51</td>\n",
       "      <td>O</td>\n",
       "      <td>A</td>\n",
       "      <td>A</td>\n",
       "      <td>7110</td>\n",
       "      <td>4985</td>\n",
       "    </tr>\n",
       "    <tr>\n",
       "      <th>247</th>\n",
       "      <td>hkd97</td>\n",
       "      <td>710929-1</td>\n",
       "      <td>M</td>\n",
       "      <td>172.4</td>\n",
       "      <td>52</td>\n",
       "      <td>A</td>\n",
       "      <td>A</td>\n",
       "      <td>B</td>\n",
       "      <td>8000</td>\n",
       "      <td>6625</td>\n",
       "    </tr>\n",
       "    <tr>\n",
       "      <th>248</th>\n",
       "      <td>hkd98</td>\n",
       "      <td>701024-1</td>\n",
       "      <td>M</td>\n",
       "      <td>166.7</td>\n",
       "      <td>53</td>\n",
       "      <td>O</td>\n",
       "      <td>A</td>\n",
       "      <td>B</td>\n",
       "      <td>8760</td>\n",
       "      <td>7385</td>\n",
       "    </tr>\n",
       "    <tr>\n",
       "      <th>249</th>\n",
       "      <td>hkd99</td>\n",
       "      <td>691115-2</td>\n",
       "      <td>F</td>\n",
       "      <td>152.6</td>\n",
       "      <td>54</td>\n",
       "      <td>B</td>\n",
       "      <td>A</td>\n",
       "      <td>B</td>\n",
       "      <td>7470</td>\n",
       "      <td>6095</td>\n",
       "    </tr>\n",
       "  </tbody>\n",
       "</table>\n",
       "<p>248 rows × 10 columns</p>\n",
       "</div>"
      ],
      "text/plain": [
       "       name    jumin7 gender  height  age blood_type company grades  salary  \\\n",
       "0      hkd1  990623-2      F   161.9   22          A       A      A    4100   \n",
       "1     hkd10  900303-2      F   169.4   31          A       A      B    4720   \n",
       "2    hkd100  681205-2      F   168.3   55          A       A      B    7280   \n",
       "3    hkd101  931226-2      F   155.3   28         AB       B      B    4060   \n",
       "4    hkd102  920123-1      M   188.6   29          O       B      F    4390   \n",
       "..      ...       ...    ...     ...  ...        ...     ...    ...     ...   \n",
       "245   hkd95  730710-2      F   157.8   50          A       A      A    6990   \n",
       "246   hkd96  720805-2      F   150.4   51          O       A      A    7110   \n",
       "247   hkd97  710929-1      M   172.4   52          A       A      B    8000   \n",
       "248   hkd98  701024-1      M   166.7   53          O       A      B    8760   \n",
       "249   hkd99  691115-2      F   152.6   54          B       A      B    7470   \n",
       "\n",
       "     expenditure  \n",
       "0           1975  \n",
       "1           2970  \n",
       "2           5905  \n",
       "3           2935  \n",
       "4           4015  \n",
       "..           ...  \n",
       "245         4865  \n",
       "246         4985  \n",
       "247         6625  \n",
       "248         7385  \n",
       "249         6095  \n",
       "\n",
       "[248 rows x 10 columns]"
      ]
     },
     "execution_count": 38,
     "metadata": {},
     "output_type": "execute_result"
    }
   ],
   "source": [
    "# 조건으로 삭제\n",
    "df_hk[(df_hk['expenditure']>= lo) & (df_hk['expenditure']<= hi)]"
   ]
  },
  {
   "cell_type": "markdown",
   "metadata": {
    "id": "4j9vbi3HzypZ"
   },
   "source": [
    "### 결합 (join)\n",
    "* merge - inner, left, right join"
   ]
  },
  {
   "cell_type": "code",
   "execution_count": null,
   "metadata": {
    "colab": {
     "base_uri": "https://localhost:8080/",
     "height": 112
    },
    "executionInfo": {
     "elapsed": 28,
     "status": "ok",
     "timestamp": 1672377479898,
     "user": {
      "displayName": "jinyang park",
      "userId": "06576046992691541404"
     },
     "user_tz": -540
    },
    "id": "oTLxIp_vXuqy",
    "outputId": "41a37c6c-235c-44fb-aca5-64a262f220fe"
   },
   "outputs": [],
   "source": [
    "# 파일 로딩 \n"
   ]
  },
  {
   "cell_type": "code",
   "execution_count": null,
   "metadata": {
    "executionInfo": {
     "elapsed": 283,
     "status": "ok",
     "timestamp": 1672377698836,
     "user": {
      "displayName": "jinyang park",
      "userId": "06576046992691541404"
     },
     "user_tz": -540
    },
    "id": "lnClk6E-70UQ"
   },
   "outputs": [],
   "source": [
    "# merge 실습 파일 생성\n"
   ]
  },
  {
   "cell_type": "code",
   "execution_count": null,
   "metadata": {
    "colab": {
     "base_uri": "https://localhost:8080/",
     "height": 112
    },
    "executionInfo": {
     "elapsed": 326,
     "status": "ok",
     "timestamp": 1672377767372,
     "user": {
      "displayName": "jinyang park",
      "userId": "06576046992691541404"
     },
     "user_tz": -540
    },
    "id": "rTwzy_JI9L_v",
    "outputId": "6c9a2847-d883-4b8d-9c15-cd9f8c65888a"
   },
   "outputs": [],
   "source": [
    "# merge  (inner join default)\n"
   ]
  },
  {
   "cell_type": "code",
   "execution_count": null,
   "metadata": {
    "colab": {
     "base_uri": "https://localhost:8080/",
     "height": 206
    },
    "executionInfo": {
     "elapsed": 319,
     "status": "ok",
     "timestamp": 1672378635560,
     "user": {
      "displayName": "jinyang park",
      "userId": "06576046992691541404"
     },
     "user_tz": -540
    },
    "id": "hf6wbReW-P3-",
    "outputId": "4cb8a7f1-88f3-4703-8e0e-647374381984"
   },
   "outputs": [],
   "source": [
    "# merge   (left join)\n"
   ]
  },
  {
   "cell_type": "code",
   "execution_count": null,
   "metadata": {
    "colab": {
     "base_uri": "https://localhost:8080/",
     "height": 175
    },
    "executionInfo": {
     "elapsed": 311,
     "status": "ok",
     "timestamp": 1672378685089,
     "user": {
      "displayName": "jinyang park",
      "userId": "06576046992691541404"
     },
     "user_tz": -540
    },
    "id": "9xi_qo0eiVF6",
    "outputId": "7907f024-912c-4e0a-bdfe-3bdf4fc849b0"
   },
   "outputs": [],
   "source": [
    "# merge   (right join)\n"
   ]
  },
  {
   "cell_type": "code",
   "execution_count": null,
   "metadata": {
    "colab": {
     "base_uri": "https://localhost:8080/",
     "height": 269
    },
    "executionInfo": {
     "elapsed": 722,
     "status": "ok",
     "timestamp": 1672378780029,
     "user": {
      "displayName": "jinyang park",
      "userId": "06576046992691541404"
     },
     "user_tz": -540
    },
    "id": "akTUTATn-nYL",
    "outputId": "0880cc92-fcde-42af-dfb3-a3245a3956db"
   },
   "outputs": [],
   "source": [
    "# merge   (outer join)\n"
   ]
  },
  {
   "cell_type": "markdown",
   "metadata": {
    "id": "TeG7iEDPzypZ"
   },
   "source": [
    "### Sampling\n",
    "* Random sampling\n",
    "* Stratified Random Sampling \n",
    "* Sytematic sampling\n",
    "* Cluster sampling"
   ]
  },
  {
   "cell_type": "code",
   "execution_count": 39,
   "metadata": {
    "colab": {
     "base_uri": "https://localhost:8080/",
     "height": 112
    },
    "executionInfo": {
     "elapsed": 1606,
     "status": "ok",
     "timestamp": 1672451367282,
     "user": {
      "displayName": "jinyang park",
      "userId": "06576046992691541404"
     },
     "user_tz": -540
    },
    "id": "df9y8Yt3JR9r",
    "outputId": "7ae7c567-4529-4141-bd90-e558b2b41f83"
   },
   "outputs": [
    {
     "data": {
      "text/html": [
       "<div>\n",
       "<style scoped>\n",
       "    .dataframe tbody tr th:only-of-type {\n",
       "        vertical-align: middle;\n",
       "    }\n",
       "\n",
       "    .dataframe tbody tr th {\n",
       "        vertical-align: top;\n",
       "    }\n",
       "\n",
       "    .dataframe thead th {\n",
       "        text-align: right;\n",
       "    }\n",
       "</style>\n",
       "<table border=\"1\" class=\"dataframe\">\n",
       "  <thead>\n",
       "    <tr style=\"text-align: right;\">\n",
       "      <th></th>\n",
       "      <th>name</th>\n",
       "      <th>jumin7</th>\n",
       "      <th>gender</th>\n",
       "      <th>height</th>\n",
       "      <th>age</th>\n",
       "      <th>blood_type</th>\n",
       "      <th>company</th>\n",
       "      <th>grades</th>\n",
       "      <th>salary</th>\n",
       "      <th>expenditure</th>\n",
       "    </tr>\n",
       "  </thead>\n",
       "  <tbody>\n",
       "    <tr>\n",
       "      <th>0</th>\n",
       "      <td>hkd1</td>\n",
       "      <td>990623-2</td>\n",
       "      <td>F</td>\n",
       "      <td>161.9</td>\n",
       "      <td>22</td>\n",
       "      <td>A</td>\n",
       "      <td>A</td>\n",
       "      <td>A</td>\n",
       "      <td>4100</td>\n",
       "      <td>1975</td>\n",
       "    </tr>\n",
       "    <tr>\n",
       "      <th>1</th>\n",
       "      <td>hkd10</td>\n",
       "      <td>900303-2</td>\n",
       "      <td>F</td>\n",
       "      <td>169.4</td>\n",
       "      <td>31</td>\n",
       "      <td>A</td>\n",
       "      <td>A</td>\n",
       "      <td>B</td>\n",
       "      <td>4720</td>\n",
       "      <td>2970</td>\n",
       "    </tr>\n",
       "  </tbody>\n",
       "</table>\n",
       "</div>"
      ],
      "text/plain": [
       "    name    jumin7 gender  height  age blood_type company grades  salary  \\\n",
       "0   hkd1  990623-2      F   161.9   22          A       A      A    4100   \n",
       "1  hkd10  900303-2      F   169.4   31          A       A      B    4720   \n",
       "\n",
       "   expenditure  \n",
       "0         1975  \n",
       "1         2970  "
      ]
     },
     "execution_count": 39,
     "metadata": {},
     "output_type": "execute_result"
    }
   ],
   "source": [
    "# 파일 로딩 \n",
    "df_hk[:2]"
   ]
  },
  {
   "cell_type": "code",
   "execution_count": 44,
   "metadata": {
    "colab": {
     "base_uri": "https://localhost:8080/",
     "height": 424
    },
    "executionInfo": {
     "elapsed": 1092,
     "status": "ok",
     "timestamp": 1672451373070,
     "user": {
      "displayName": "jinyang park",
      "userId": "06576046992691541404"
     },
     "user_tz": -540
    },
    "id": "X7O1unmw7724",
    "outputId": "bf64c7a0-3eb4-4a40-dd6b-ee6c5a45a5bf"
   },
   "outputs": [],
   "source": [
    "# Random sampling\n",
    "from sklearn.model_selection import train_test_split\n",
    "df_train, df_test = train_test_split(df_hk,train_size=0.7, random_state=123)"
   ]
  },
  {
   "cell_type": "code",
   "execution_count": 45,
   "metadata": {},
   "outputs": [
    {
     "data": {
      "text/html": [
       "<div>\n",
       "<style scoped>\n",
       "    .dataframe tbody tr th:only-of-type {\n",
       "        vertical-align: middle;\n",
       "    }\n",
       "\n",
       "    .dataframe tbody tr th {\n",
       "        vertical-align: top;\n",
       "    }\n",
       "\n",
       "    .dataframe thead th {\n",
       "        text-align: right;\n",
       "    }\n",
       "</style>\n",
       "<table border=\"1\" class=\"dataframe\">\n",
       "  <thead>\n",
       "    <tr style=\"text-align: right;\">\n",
       "      <th></th>\n",
       "      <th>name</th>\n",
       "      <th>jumin7</th>\n",
       "      <th>gender</th>\n",
       "      <th>height</th>\n",
       "      <th>age</th>\n",
       "      <th>blood_type</th>\n",
       "      <th>company</th>\n",
       "      <th>grades</th>\n",
       "      <th>salary</th>\n",
       "      <th>expenditure</th>\n",
       "    </tr>\n",
       "  </thead>\n",
       "  <tbody>\n",
       "    <tr>\n",
       "      <th>193</th>\n",
       "      <td>hkd48</td>\n",
       "      <td>780113-1</td>\n",
       "      <td>M</td>\n",
       "      <td>184.0</td>\n",
       "      <td>43</td>\n",
       "      <td>AB</td>\n",
       "      <td>A</td>\n",
       "      <td>C</td>\n",
       "      <td>6530</td>\n",
       "      <td>5405</td>\n",
       "    </tr>\n",
       "    <tr>\n",
       "      <th>243</th>\n",
       "      <td>hkd93</td>\n",
       "      <td>730719-1</td>\n",
       "      <td>M</td>\n",
       "      <td>180.4</td>\n",
       "      <td>48</td>\n",
       "      <td>AB</td>\n",
       "      <td>A</td>\n",
       "      <td>B</td>\n",
       "      <td>7560</td>\n",
       "      <td>6185</td>\n",
       "    </tr>\n",
       "    <tr>\n",
       "      <th>152</th>\n",
       "      <td>hkd236</td>\n",
       "      <td>860621-1</td>\n",
       "      <td>M</td>\n",
       "      <td>166.2</td>\n",
       "      <td>35</td>\n",
       "      <td>A</td>\n",
       "      <td>C</td>\n",
       "      <td>B</td>\n",
       "      <td>10410</td>\n",
       "      <td>9285</td>\n",
       "    </tr>\n",
       "    <tr>\n",
       "      <th>184</th>\n",
       "      <td>hkd4</td>\n",
       "      <td>960809-1</td>\n",
       "      <td>M</td>\n",
       "      <td>177.6</td>\n",
       "      <td>25</td>\n",
       "      <td>O</td>\n",
       "      <td>A</td>\n",
       "      <td>B</td>\n",
       "      <td>4450</td>\n",
       "      <td>3075</td>\n",
       "    </tr>\n",
       "    <tr>\n",
       "      <th>190</th>\n",
       "      <td>hkd45</td>\n",
       "      <td>811022-1</td>\n",
       "      <td>M</td>\n",
       "      <td>182.1</td>\n",
       "      <td>40</td>\n",
       "      <td>B</td>\n",
       "      <td>A</td>\n",
       "      <td>C</td>\n",
       "      <td>5800</td>\n",
       "      <td>4675</td>\n",
       "    </tr>\n",
       "  </tbody>\n",
       "</table>\n",
       "</div>"
      ],
      "text/plain": [
       "       name    jumin7 gender  height  age blood_type company grades  salary  \\\n",
       "193   hkd48  780113-1      M   184.0   43         AB       A      C    6530   \n",
       "243   hkd93  730719-1      M   180.4   48         AB       A      B    7560   \n",
       "152  hkd236  860621-1      M   166.2   35          A       C      B   10410   \n",
       "184    hkd4  960809-1      M   177.6   25          O       A      B    4450   \n",
       "190   hkd45  811022-1      M   182.1   40          B       A      C    5800   \n",
       "\n",
       "     expenditure  \n",
       "193         5405  \n",
       "243         6185  \n",
       "152         9285  \n",
       "184         3075  \n",
       "190         4675  "
      ]
     },
     "execution_count": 45,
     "metadata": {},
     "output_type": "execute_result"
    }
   ],
   "source": [
    "df_train[:5]"
   ]
  },
  {
   "cell_type": "code",
   "execution_count": 50,
   "metadata": {
    "colab": {
     "base_uri": "https://localhost:8080/",
     "height": 424
    },
    "executionInfo": {
     "elapsed": 10,
     "status": "ok",
     "timestamp": 1672451825515,
     "user": {
      "displayName": "jinyang park",
      "userId": "06576046992691541404"
     },
     "user_tz": -540
    },
    "id": "yQkWx_RJzypa",
    "outputId": "057ba450-e9d5-4608-e5c0-5575efeaff0b"
   },
   "outputs": [
    {
     "data": {
      "text/html": [
       "<div>\n",
       "<style scoped>\n",
       "    .dataframe tbody tr th:only-of-type {\n",
       "        vertical-align: middle;\n",
       "    }\n",
       "\n",
       "    .dataframe tbody tr th {\n",
       "        vertical-align: top;\n",
       "    }\n",
       "\n",
       "    .dataframe thead th {\n",
       "        text-align: right;\n",
       "    }\n",
       "</style>\n",
       "<table border=\"1\" class=\"dataframe\">\n",
       "  <thead>\n",
       "    <tr style=\"text-align: right;\">\n",
       "      <th></th>\n",
       "      <th>index</th>\n",
       "      <th>name</th>\n",
       "      <th>jumin7</th>\n",
       "      <th>gender</th>\n",
       "      <th>height</th>\n",
       "      <th>age</th>\n",
       "      <th>blood_type</th>\n",
       "      <th>company</th>\n",
       "      <th>grades</th>\n",
       "      <th>salary</th>\n",
       "      <th>expenditure</th>\n",
       "    </tr>\n",
       "  </thead>\n",
       "  <tbody>\n",
       "    <tr>\n",
       "      <th>1</th>\n",
       "      <td>1</td>\n",
       "      <td>hkd10</td>\n",
       "      <td>900303-2</td>\n",
       "      <td>F</td>\n",
       "      <td>169.4</td>\n",
       "      <td>31</td>\n",
       "      <td>A</td>\n",
       "      <td>A</td>\n",
       "      <td>B</td>\n",
       "      <td>4720</td>\n",
       "      <td>2970</td>\n",
       "    </tr>\n",
       "    <tr>\n",
       "      <th>2</th>\n",
       "      <td>2</td>\n",
       "      <td>hkd100</td>\n",
       "      <td>681205-2</td>\n",
       "      <td>F</td>\n",
       "      <td>168.3</td>\n",
       "      <td>55</td>\n",
       "      <td>A</td>\n",
       "      <td>A</td>\n",
       "      <td>B</td>\n",
       "      <td>7280</td>\n",
       "      <td>5905</td>\n",
       "    </tr>\n",
       "    <tr>\n",
       "      <th>3</th>\n",
       "      <td>3</td>\n",
       "      <td>hkd101</td>\n",
       "      <td>931226-2</td>\n",
       "      <td>F</td>\n",
       "      <td>155.3</td>\n",
       "      <td>28</td>\n",
       "      <td>AB</td>\n",
       "      <td>B</td>\n",
       "      <td>B</td>\n",
       "      <td>4060</td>\n",
       "      <td>2935</td>\n",
       "    </tr>\n",
       "    <tr>\n",
       "      <th>4</th>\n",
       "      <td>4</td>\n",
       "      <td>hkd102</td>\n",
       "      <td>920123-1</td>\n",
       "      <td>M</td>\n",
       "      <td>188.6</td>\n",
       "      <td>29</td>\n",
       "      <td>O</td>\n",
       "      <td>B</td>\n",
       "      <td>F</td>\n",
       "      <td>4390</td>\n",
       "      <td>4015</td>\n",
       "    </tr>\n",
       "    <tr>\n",
       "      <th>6</th>\n",
       "      <td>6</td>\n",
       "      <td>hkd104</td>\n",
       "      <td>990623-1</td>\n",
       "      <td>M</td>\n",
       "      <td>176.0</td>\n",
       "      <td>22</td>\n",
       "      <td>A</td>\n",
       "      <td>B</td>\n",
       "      <td>A</td>\n",
       "      <td>3750</td>\n",
       "      <td>2375</td>\n",
       "    </tr>\n",
       "    <tr>\n",
       "      <th>...</th>\n",
       "      <td>...</td>\n",
       "      <td>...</td>\n",
       "      <td>...</td>\n",
       "      <td>...</td>\n",
       "      <td>...</td>\n",
       "      <td>...</td>\n",
       "      <td>...</td>\n",
       "      <td>...</td>\n",
       "      <td>...</td>\n",
       "      <td>...</td>\n",
       "      <td>...</td>\n",
       "    </tr>\n",
       "    <tr>\n",
       "      <th>244</th>\n",
       "      <td>244</td>\n",
       "      <td>hkd94</td>\n",
       "      <td>720614-1</td>\n",
       "      <td>M</td>\n",
       "      <td>174.1</td>\n",
       "      <td>49</td>\n",
       "      <td>O</td>\n",
       "      <td>A</td>\n",
       "      <td>B</td>\n",
       "      <td>8540</td>\n",
       "      <td>7165</td>\n",
       "    </tr>\n",
       "    <tr>\n",
       "      <th>246</th>\n",
       "      <td>246</td>\n",
       "      <td>hkd96</td>\n",
       "      <td>720805-2</td>\n",
       "      <td>F</td>\n",
       "      <td>150.4</td>\n",
       "      <td>51</td>\n",
       "      <td>O</td>\n",
       "      <td>A</td>\n",
       "      <td>A</td>\n",
       "      <td>7110</td>\n",
       "      <td>4985</td>\n",
       "    </tr>\n",
       "    <tr>\n",
       "      <th>247</th>\n",
       "      <td>247</td>\n",
       "      <td>hkd97</td>\n",
       "      <td>710929-1</td>\n",
       "      <td>M</td>\n",
       "      <td>172.4</td>\n",
       "      <td>52</td>\n",
       "      <td>A</td>\n",
       "      <td>A</td>\n",
       "      <td>B</td>\n",
       "      <td>8000</td>\n",
       "      <td>6625</td>\n",
       "    </tr>\n",
       "    <tr>\n",
       "      <th>248</th>\n",
       "      <td>248</td>\n",
       "      <td>hkd98</td>\n",
       "      <td>701024-1</td>\n",
       "      <td>M</td>\n",
       "      <td>166.7</td>\n",
       "      <td>53</td>\n",
       "      <td>O</td>\n",
       "      <td>A</td>\n",
       "      <td>B</td>\n",
       "      <td>8760</td>\n",
       "      <td>7385</td>\n",
       "    </tr>\n",
       "    <tr>\n",
       "      <th>249</th>\n",
       "      <td>249</td>\n",
       "      <td>hkd99</td>\n",
       "      <td>691115-2</td>\n",
       "      <td>F</td>\n",
       "      <td>152.6</td>\n",
       "      <td>54</td>\n",
       "      <td>B</td>\n",
       "      <td>A</td>\n",
       "      <td>B</td>\n",
       "      <td>7470</td>\n",
       "      <td>6095</td>\n",
       "    </tr>\n",
       "  </tbody>\n",
       "</table>\n",
       "<p>200 rows × 11 columns</p>\n",
       "</div>"
      ],
      "text/plain": [
       "     index    name    jumin7 gender  height  age blood_type company grades  \\\n",
       "1        1   hkd10  900303-2      F   169.4   31          A       A      B   \n",
       "2        2  hkd100  681205-2      F   168.3   55          A       A      B   \n",
       "3        3  hkd101  931226-2      F   155.3   28         AB       B      B   \n",
       "4        4  hkd102  920123-1      M   188.6   29          O       B      F   \n",
       "6        6  hkd104  990623-1      M   176.0   22          A       B      A   \n",
       "..     ...     ...       ...    ...     ...  ...        ...     ...    ...   \n",
       "244    244   hkd94  720614-1      M   174.1   49          O       A      B   \n",
       "246    246   hkd96  720805-2      F   150.4   51          O       A      A   \n",
       "247    247   hkd97  710929-1      M   172.4   52          A       A      B   \n",
       "248    248   hkd98  701024-1      M   166.7   53          O       A      B   \n",
       "249    249   hkd99  691115-2      F   152.6   54          B       A      B   \n",
       "\n",
       "     salary  expenditure  \n",
       "1      4720         2970  \n",
       "2      7280         5905  \n",
       "3      4060         2935  \n",
       "4      4390         4015  \n",
       "6      3750         2375  \n",
       "..      ...          ...  \n",
       "244    8540         7165  \n",
       "246    7110         4985  \n",
       "247    8000         6625  \n",
       "248    8760         7385  \n",
       "249    7470         6095  \n",
       "\n",
       "[200 rows x 11 columns]"
      ]
     },
     "execution_count": 50,
     "metadata": {},
     "output_type": "execute_result"
    }
   ],
   "source": [
    "# Sytematic sampling\n",
    "df_index = df_hk.reset_index()\n",
    "df_index\n",
    "\n",
    "df_test = df_index[df_index['index'] % 5 == 0]\n",
    "df_train = df_index[df_index['index'] % 5 != 0]\n",
    "df_train"
   ]
  },
  {
   "cell_type": "code",
   "execution_count": 51,
   "metadata": {
    "colab": {
     "base_uri": "https://localhost:8080/",
     "height": 394
    },
    "executionInfo": {
     "elapsed": 13,
     "status": "ok",
     "timestamp": 1672452185872,
     "user": {
      "displayName": "jinyang park",
      "userId": "06576046992691541404"
     },
     "user_tz": -540
    },
    "id": "zzAGM0NL5e8z",
    "outputId": "1756d3be-1445-4c6f-ea6d-8202be9f90fa"
   },
   "outputs": [
    {
     "data": {
      "text/html": [
       "<div>\n",
       "<style scoped>\n",
       "    .dataframe tbody tr th:only-of-type {\n",
       "        vertical-align: middle;\n",
       "    }\n",
       "\n",
       "    .dataframe tbody tr th {\n",
       "        vertical-align: top;\n",
       "    }\n",
       "\n",
       "    .dataframe thead th {\n",
       "        text-align: right;\n",
       "    }\n",
       "</style>\n",
       "<table border=\"1\" class=\"dataframe\">\n",
       "  <thead>\n",
       "    <tr style=\"text-align: right;\">\n",
       "      <th></th>\n",
       "      <th>name</th>\n",
       "      <th>jumin7</th>\n",
       "      <th>gender</th>\n",
       "      <th>height</th>\n",
       "      <th>age</th>\n",
       "      <th>blood_type</th>\n",
       "      <th>company</th>\n",
       "      <th>grades</th>\n",
       "      <th>salary</th>\n",
       "      <th>expenditure</th>\n",
       "    </tr>\n",
       "  </thead>\n",
       "  <tbody>\n",
       "    <tr>\n",
       "      <th>0</th>\n",
       "      <td>hkd1</td>\n",
       "      <td>990623-2</td>\n",
       "      <td>F</td>\n",
       "      <td>161.9</td>\n",
       "      <td>22</td>\n",
       "      <td>A</td>\n",
       "      <td>A</td>\n",
       "      <td>A</td>\n",
       "      <td>4100</td>\n",
       "      <td>1975</td>\n",
       "    </tr>\n",
       "    <tr>\n",
       "      <th>1</th>\n",
       "      <td>hkd10</td>\n",
       "      <td>900303-2</td>\n",
       "      <td>F</td>\n",
       "      <td>169.4</td>\n",
       "      <td>31</td>\n",
       "      <td>A</td>\n",
       "      <td>A</td>\n",
       "      <td>B</td>\n",
       "      <td>4720</td>\n",
       "      <td>2970</td>\n",
       "    </tr>\n",
       "    <tr>\n",
       "      <th>2</th>\n",
       "      <td>hkd100</td>\n",
       "      <td>681205-2</td>\n",
       "      <td>F</td>\n",
       "      <td>168.3</td>\n",
       "      <td>55</td>\n",
       "      <td>A</td>\n",
       "      <td>A</td>\n",
       "      <td>B</td>\n",
       "      <td>7280</td>\n",
       "      <td>5905</td>\n",
       "    </tr>\n",
       "    <tr>\n",
       "      <th>12</th>\n",
       "      <td>hkd11</td>\n",
       "      <td>890419-1</td>\n",
       "      <td>M</td>\n",
       "      <td>188.2</td>\n",
       "      <td>32</td>\n",
       "      <td>B</td>\n",
       "      <td>A</td>\n",
       "      <td>B</td>\n",
       "      <td>4820</td>\n",
       "      <td>3070</td>\n",
       "    </tr>\n",
       "    <tr>\n",
       "      <th>23</th>\n",
       "      <td>hkd12</td>\n",
       "      <td>881109-2</td>\n",
       "      <td>F</td>\n",
       "      <td>170.2</td>\n",
       "      <td>33</td>\n",
       "      <td>AB</td>\n",
       "      <td>A</td>\n",
       "      <td>A</td>\n",
       "      <td>5080</td>\n",
       "      <td>2955</td>\n",
       "    </tr>\n",
       "    <tr>\n",
       "      <th>...</th>\n",
       "      <td>...</td>\n",
       "      <td>...</td>\n",
       "      <td>...</td>\n",
       "      <td>...</td>\n",
       "      <td>...</td>\n",
       "      <td>...</td>\n",
       "      <td>...</td>\n",
       "      <td>...</td>\n",
       "      <td>...</td>\n",
       "      <td>...</td>\n",
       "    </tr>\n",
       "    <tr>\n",
       "      <th>245</th>\n",
       "      <td>hkd95</td>\n",
       "      <td>730710-2</td>\n",
       "      <td>F</td>\n",
       "      <td>157.8</td>\n",
       "      <td>50</td>\n",
       "      <td>A</td>\n",
       "      <td>A</td>\n",
       "      <td>A</td>\n",
       "      <td>6990</td>\n",
       "      <td>4865</td>\n",
       "    </tr>\n",
       "    <tr>\n",
       "      <th>246</th>\n",
       "      <td>hkd96</td>\n",
       "      <td>720805-2</td>\n",
       "      <td>F</td>\n",
       "      <td>150.4</td>\n",
       "      <td>51</td>\n",
       "      <td>O</td>\n",
       "      <td>A</td>\n",
       "      <td>A</td>\n",
       "      <td>7110</td>\n",
       "      <td>4985</td>\n",
       "    </tr>\n",
       "    <tr>\n",
       "      <th>247</th>\n",
       "      <td>hkd97</td>\n",
       "      <td>710929-1</td>\n",
       "      <td>M</td>\n",
       "      <td>172.4</td>\n",
       "      <td>52</td>\n",
       "      <td>A</td>\n",
       "      <td>A</td>\n",
       "      <td>B</td>\n",
       "      <td>8000</td>\n",
       "      <td>6625</td>\n",
       "    </tr>\n",
       "    <tr>\n",
       "      <th>248</th>\n",
       "      <td>hkd98</td>\n",
       "      <td>701024-1</td>\n",
       "      <td>M</td>\n",
       "      <td>166.7</td>\n",
       "      <td>53</td>\n",
       "      <td>O</td>\n",
       "      <td>A</td>\n",
       "      <td>B</td>\n",
       "      <td>8760</td>\n",
       "      <td>7385</td>\n",
       "    </tr>\n",
       "    <tr>\n",
       "      <th>249</th>\n",
       "      <td>hkd99</td>\n",
       "      <td>691115-2</td>\n",
       "      <td>F</td>\n",
       "      <td>152.6</td>\n",
       "      <td>54</td>\n",
       "      <td>B</td>\n",
       "      <td>A</td>\n",
       "      <td>B</td>\n",
       "      <td>7470</td>\n",
       "      <td>6095</td>\n",
       "    </tr>\n",
       "  </tbody>\n",
       "</table>\n",
       "<p>100 rows × 10 columns</p>\n",
       "</div>"
      ],
      "text/plain": [
       "       name    jumin7 gender  height  age blood_type company grades  salary  \\\n",
       "0      hkd1  990623-2      F   161.9   22          A       A      A    4100   \n",
       "1     hkd10  900303-2      F   169.4   31          A       A      B    4720   \n",
       "2    hkd100  681205-2      F   168.3   55          A       A      B    7280   \n",
       "12    hkd11  890419-1      M   188.2   32          B       A      B    4820   \n",
       "23    hkd12  881109-2      F   170.2   33         AB       A      A    5080   \n",
       "..      ...       ...    ...     ...  ...        ...     ...    ...     ...   \n",
       "245   hkd95  730710-2      F   157.8   50          A       A      A    6990   \n",
       "246   hkd96  720805-2      F   150.4   51          O       A      A    7110   \n",
       "247   hkd97  710929-1      M   172.4   52          A       A      B    8000   \n",
       "248   hkd98  701024-1      M   166.7   53          O       A      B    8760   \n",
       "249   hkd99  691115-2      F   152.6   54          B       A      B    7470   \n",
       "\n",
       "     expenditure  \n",
       "0           1975  \n",
       "1           2970  \n",
       "2           5905  \n",
       "12          3070  \n",
       "23          2955  \n",
       "..           ...  \n",
       "245         4865  \n",
       "246         4985  \n",
       "247         6625  \n",
       "248         7385  \n",
       "249         6095  \n",
       "\n",
       "[100 rows x 10 columns]"
      ]
     },
     "execution_count": 51,
     "metadata": {},
     "output_type": "execute_result"
    }
   ],
   "source": [
    "# Cluster sampling\n",
    "df_cluster=df_hk[df_hk['company'] == 'A']\n",
    "df_cluster"
   ]
  },
  {
   "cell_type": "code",
   "execution_count": 54,
   "metadata": {
    "colab": {
     "base_uri": "https://localhost:8080/"
    },
    "executionInfo": {
     "elapsed": 8,
     "status": "ok",
     "timestamp": 1672453043219,
     "user": {
      "displayName": "jinyang park",
      "userId": "06576046992691541404"
     },
     "user_tz": -540
    },
    "id": "Y2zTlPmz7DwP",
    "outputId": "949f2dc1-23d1-4b52-f37f-d4a4dce3d3f3"
   },
   "outputs": [
    {
     "data": {
      "text/html": [
       "<div>\n",
       "<style scoped>\n",
       "    .dataframe tbody tr th:only-of-type {\n",
       "        vertical-align: middle;\n",
       "    }\n",
       "\n",
       "    .dataframe tbody tr th {\n",
       "        vertical-align: top;\n",
       "    }\n",
       "\n",
       "    .dataframe thead th {\n",
       "        text-align: right;\n",
       "    }\n",
       "</style>\n",
       "<table border=\"1\" class=\"dataframe\">\n",
       "  <thead>\n",
       "    <tr style=\"text-align: right;\">\n",
       "      <th>gender</th>\n",
       "      <th>F</th>\n",
       "      <th>M</th>\n",
       "    </tr>\n",
       "    <tr>\n",
       "      <th>company</th>\n",
       "      <th></th>\n",
       "      <th></th>\n",
       "    </tr>\n",
       "  </thead>\n",
       "  <tbody>\n",
       "    <tr>\n",
       "      <th>A</th>\n",
       "      <td>40</td>\n",
       "      <td>60</td>\n",
       "    </tr>\n",
       "    <tr>\n",
       "      <th>B</th>\n",
       "      <td>47</td>\n",
       "      <td>53</td>\n",
       "    </tr>\n",
       "    <tr>\n",
       "      <th>C</th>\n",
       "      <td>25</td>\n",
       "      <td>25</td>\n",
       "    </tr>\n",
       "  </tbody>\n",
       "</table>\n",
       "</div>"
      ],
      "text/plain": [
       "gender    F   M\n",
       "company        \n",
       "A        40  60\n",
       "B        47  53\n",
       "C        25  25"
      ]
     },
     "execution_count": 54,
     "metadata": {},
     "output_type": "execute_result"
    }
   ],
   "source": [
    "# Stratified Random Sampling\n",
    "df_hk['company'].value_counts()\n",
    "pd.crosstab(df_hk['company'], df_hk['gender'])"
   ]
  },
  {
   "cell_type": "markdown",
   "metadata": {
    "id": "iY0qGcDvzypa"
   },
   "source": [
    "### Normalization\n",
    "* min_max scaling (최소-최대 변환)\n",
    "* standard scaling (Z-score 변환)"
   ]
  },
  {
   "cell_type": "code",
   "execution_count": 55,
   "metadata": {
    "colab": {
     "base_uri": "https://localhost:8080/",
     "height": 112
    },
    "executionInfo": {
     "elapsed": 461,
     "status": "ok",
     "timestamp": 1672453292118,
     "user": {
      "displayName": "jinyang park",
      "userId": "06576046992691541404"
     },
     "user_tz": -540
    },
    "id": "ke89G0lHF03B",
    "outputId": "e7103305-6280-415c-9d6c-69a97a30fae8"
   },
   "outputs": [
    {
     "data": {
      "text/html": [
       "<div>\n",
       "<style scoped>\n",
       "    .dataframe tbody tr th:only-of-type {\n",
       "        vertical-align: middle;\n",
       "    }\n",
       "\n",
       "    .dataframe tbody tr th {\n",
       "        vertical-align: top;\n",
       "    }\n",
       "\n",
       "    .dataframe thead th {\n",
       "        text-align: right;\n",
       "    }\n",
       "</style>\n",
       "<table border=\"1\" class=\"dataframe\">\n",
       "  <thead>\n",
       "    <tr style=\"text-align: right;\">\n",
       "      <th></th>\n",
       "      <th>name</th>\n",
       "      <th>jumin7</th>\n",
       "      <th>gender</th>\n",
       "      <th>height</th>\n",
       "      <th>age</th>\n",
       "      <th>blood_type</th>\n",
       "      <th>company</th>\n",
       "      <th>grades</th>\n",
       "      <th>salary</th>\n",
       "      <th>expenditure</th>\n",
       "    </tr>\n",
       "  </thead>\n",
       "  <tbody>\n",
       "    <tr>\n",
       "      <th>0</th>\n",
       "      <td>hkd1</td>\n",
       "      <td>990623-2</td>\n",
       "      <td>F</td>\n",
       "      <td>161.9</td>\n",
       "      <td>22</td>\n",
       "      <td>A</td>\n",
       "      <td>A</td>\n",
       "      <td>A</td>\n",
       "      <td>4100</td>\n",
       "      <td>1975</td>\n",
       "    </tr>\n",
       "    <tr>\n",
       "      <th>1</th>\n",
       "      <td>hkd10</td>\n",
       "      <td>900303-2</td>\n",
       "      <td>F</td>\n",
       "      <td>169.4</td>\n",
       "      <td>31</td>\n",
       "      <td>A</td>\n",
       "      <td>A</td>\n",
       "      <td>B</td>\n",
       "      <td>4720</td>\n",
       "      <td>2970</td>\n",
       "    </tr>\n",
       "  </tbody>\n",
       "</table>\n",
       "</div>"
      ],
      "text/plain": [
       "    name    jumin7 gender  height  age blood_type company grades  salary  \\\n",
       "0   hkd1  990623-2      F   161.9   22          A       A      A    4100   \n",
       "1  hkd10  900303-2      F   169.4   31          A       A      B    4720   \n",
       "\n",
       "   expenditure  \n",
       "0         1975  \n",
       "1         2970  "
      ]
     },
     "execution_count": 55,
     "metadata": {},
     "output_type": "execute_result"
    }
   ],
   "source": [
    "# 파일 로딩 \n",
    "df_hk[:2]"
   ]
  },
  {
   "cell_type": "code",
   "execution_count": 57,
   "metadata": {
    "colab": {
     "base_uri": "https://localhost:8080/",
     "height": 283
    },
    "executionInfo": {
     "elapsed": 520,
     "status": "ok",
     "timestamp": 1672454673893,
     "user": {
      "displayName": "jinyang park",
      "userId": "06576046992691541404"
     },
     "user_tz": -540
    },
    "id": "P1_klMcLB_D_",
    "outputId": "577e5394-8fc8-43a2-9d81-c75fd934fe95"
   },
   "outputs": [
    {
     "data": {
      "text/plain": [
       "array([[<Axes: title={'center': 'height'}>,\n",
       "        <Axes: title={'center': 'age'}>],\n",
       "       [<Axes: title={'center': 'salary'}>,\n",
       "        <Axes: title={'center': 'expenditure'}>]], dtype=object)"
      ]
     },
     "execution_count": 57,
     "metadata": {},
     "output_type": "execute_result"
    },
    {
     "data": {
      "image/png": "[encoded data removed]",
      "text/plain": [
       "<Figure size 640x480 with 4 Axes>"
      ]
     },
     "metadata": {},
     "output_type": "display_data"
    }
   ],
   "source": [
    "# histogram 확인\n",
    "df_hk.hist()"
   ]
  },
  {
   "cell_type": "code",
   "execution_count": 58,
   "metadata": {
    "colab": {
     "base_uri": "https://localhost:8080/",
     "height": 283
    },
    "executionInfo": {
     "elapsed": 626,
     "status": "ok",
     "timestamp": 1672454629589,
     "user": {
      "displayName": "jinyang park",
      "userId": "06576046992691541404"
     },
     "user_tz": -540
    },
    "id": "qR8mJeHoEEUU",
    "outputId": "735b126f-b48b-4c51-b4cd-b25dfada6df9"
   },
   "outputs": [
    {
     "data": {
      "text/plain": [
       "<Axes: ylabel='Count'>"
      ]
     },
     "execution_count": 58,
     "metadata": {},
     "output_type": "execute_result"
    },
    {
     "data": {
      "image/png": "[encoded data removed]",
      "text/plain": [
       "<Figure size 640x480 with 1 Axes>"
      ]
     },
     "metadata": {},
     "output_type": "display_data"
    }
   ],
   "source": [
    "# histogram 확인\n",
    "sns.histplot(df_hk[['height','age','salary','expenditure']])"
   ]
  },
  {
   "cell_type": "code",
   "execution_count": 64,
   "metadata": {
    "colab": {
     "base_uri": "https://localhost:8080/"
    },
    "executionInfo": {
     "elapsed": 433,
     "status": "ok",
     "timestamp": 1672453884479,
     "user": {
      "displayName": "jinyang park",
      "userId": "06576046992691541404"
     },
     "user_tz": -540
    },
    "id": "4_b_EMiZzypa",
    "outputId": "0393f99c-56bd-41ef-db87-751fb11bbd9f"
   },
   "outputs": [
    {
     "data": {
      "text/plain": [
       "array([[<Axes: title={'center': 'height'}>,\n",
       "        <Axes: title={'center': 'age'}>],\n",
       "       [<Axes: title={'center': 'salary'}>,\n",
       "        <Axes: title={'center': 'expenditure'}>]], dtype=object)"
      ]
     },
     "execution_count": 64,
     "metadata": {},
     "output_type": "execute_result"
    },
    {
     "data": {
      "image/png": "[encoded data removed]",
      "text/plain": [
       "<Figure size 640x480 with 4 Axes>"
      ]
     },
     "metadata": {},
     "output_type": "display_data"
    }
   ],
   "source": [
    "# min_max scaling (최소-최대 변환)\n",
    "from sklearn.preprocessing import MinMaxScaler, StandardScaler\n",
    "model = MinMaxScaler().fit(df_hk[['height','age','salary','expenditure']])\n",
    "minmax = model.transform(df_hk[['height','age','salary','expenditure']])\n",
    "df_hk_minmax = pd.DataFrame(minmax, columns=['height','age','salary','expenditure'])\n",
    "df_hk_minmax.hist()"
   ]
  },
  {
   "cell_type": "code",
   "execution_count": 67,
   "metadata": {
    "colab": {
     "base_uri": "https://localhost:8080/"
    },
    "executionInfo": {
     "elapsed": 398,
     "status": "ok",
     "timestamp": 1672453975480,
     "user": {
      "displayName": "jinyang park",
      "userId": "06576046992691541404"
     },
     "user_tz": -540
    },
    "id": "idVrpEeNBVII",
    "outputId": "3c46c998-013b-4b41-ccf7-5a504f2a81ce"
   },
   "outputs": [
    {
     "data": {
      "text/plain": [
       "array([[<Axes: title={'center': 'height'}>,\n",
       "        <Axes: title={'center': 'age'}>],\n",
       "       [<Axes: title={'center': 'salary'}>,\n",
       "        <Axes: title={'center': 'expenditure'}>]], dtype=object)"
      ]
     },
     "execution_count": 67,
     "metadata": {},
     "output_type": "execute_result"
    },
    {
     "data": {
      "image/png": "[encoded data removed]",
      "text/plain": [
       "<Figure size 640x480 with 4 Axes>"
      ]
     },
     "metadata": {},
     "output_type": "display_data"
    }
   ],
   "source": [
    "# standard scaling (Z-score 변환)\n",
    "from sklearn.preprocessing import MinMaxScaler, StandardScaler\n",
    "model = StandardScaler().fit(df_hk[['height','age','salary','expenditure']])\n",
    "standard = model.transform(df_hk[['height','age','salary','expenditure']])\n",
    "df_hk_standard = pd.DataFrame(standard, columns=['height','age','salary','expenditure'])\n",
    "df_hk_standard.hist()"
   ]
  },
  {
   "cell_type": "code",
   "execution_count": null,
   "metadata": {
    "colab": {
     "base_uri": "https://localhost:8080/",
     "height": 283
    },
    "executionInfo": {
     "elapsed": 1025,
     "status": "ok",
     "timestamp": 1672454463029,
     "user": {
      "displayName": "jinyang park",
      "userId": "06576046992691541404"
     },
     "user_tz": -540
    },
    "id": "5v7aQ_BnDE4U",
    "outputId": "72ca882c-31f1-4226-db57-0d4860e02a4b"
   },
   "outputs": [],
   "source": [
    "# histogram 확인\n"
   ]
  },
  {
   "cell_type": "code",
   "execution_count": 68,
   "metadata": {
    "colab": {
     "base_uri": "https://localhost:8080/",
     "height": 283
    },
    "executionInfo": {
     "elapsed": 663,
     "status": "ok",
     "timestamp": 1672454445064,
     "user": {
      "displayName": "jinyang park",
      "userId": "06576046992691541404"
     },
     "user_tz": -540
    },
    "id": "JYWOEZ3eDUlL",
    "outputId": "0aa78a6e-c639-482d-df88-ec3acf3c3230"
   },
   "outputs": [],
   "source": [
    "# histogram 확인\n"
   ]
  }
 ],
 "metadata": {
  "colab": {
   "provenance": [
    {
     "file_id": "1kdNbNgnb3HVWillQ0ySnSnfSuXxELE6q",
     "timestamp": 1672372548858
    },
    {
     "file_id": "1xHKHcroSB8NmtcADFVfAWeGXkRR1OXjM",
     "timestamp": 1666834708786
    },
    {
     "file_id": "15ce8XzI9VPdTBVZ4NXssMiQJzvbx3x9e",
     "timestamp": 1664519074221
    }
   ]
  },
  "kernelspec": {
   "display_name": "Python 3 (ipykernel)",
   "language": "python",
   "name": "python3"
  },
  "language_info": {
   "codemirror_mode": {
    "name": "ipython",
    "version": 3
   },
   "file_extension": ".py",
   "mimetype": "text/x-python",
   "name": "python",
   "nbconvert_exporter": "python",
   "pygments_lexer": "ipython3",
   "version": "3.10.6"
  }
 },
 "nbformat": 4,
 "nbformat_minor": 1
}
