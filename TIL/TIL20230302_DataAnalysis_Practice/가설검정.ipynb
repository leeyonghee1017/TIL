{
 "cells": [
  {
   "cell_type": "markdown",
   "id": "452979f2",
   "metadata": {
    "id": "157b171f"
   },
   "source": [
    "# 가설 검정"
   ]
  },
  {
   "cell_type": "code",
   "execution_count": 3,
   "id": "e1e6bb56",
   "metadata": {
    "colab": {
     "base_uri": "https://localhost:8080/",
     "height": 206
    },
    "executionInfo": {
     "elapsed": 2854,
     "status": "ok",
     "timestamp": 1671083794235,
     "user": {
      "displayName": "jinyang park",
      "userId": "06576046992691541404"
     },
     "user_tz": -540
    },
    "id": "e1e6bb56",
    "outputId": "8d285338-3a1a-45ab-91eb-5b7787fad5cb",
    "scrolled": false
   },
   "outputs": [
    {
     "data": {
      "text/plain": [
       "'C:\\\\Users\\\\yhlee\\\\TIL\\\\TIL20230302_DataAnalysis_Practice'"
      ]
     },
     "execution_count": 3,
     "metadata": {},
     "output_type": "execute_result"
    }
   ],
   "source": [
    "import pandas as pd\n",
    "import numpy as np\n",
    "\n",
    "import matplotlib.pyplot as plt\n",
    "import seaborn as sns\n",
    "import warnings\n",
    "warnings.filterwarnings('ignore')\n",
    "import os\n",
    "os.getcwd()"
   ]
  },
  {
   "cell_type": "code",
   "execution_count": 14,
   "id": "f6a2fd92",
   "metadata": {
    "colab": {
     "base_uri": "https://localhost:8080/",
     "height": 206
    },
    "executionInfo": {
     "elapsed": 2854,
     "status": "ok",
     "timestamp": 1671083794235,
     "user": {
      "displayName": "jinyang park",
      "userId": "06576046992691541404"
     },
     "user_tz": -540
    },
    "id": "e1e6bb56",
    "outputId": "8d285338-3a1a-45ab-91eb-5b7787fad5cb",
    "scrolled": false
   },
   "outputs": [
    {
     "data": {
      "text/html": [
       "<div>\n",
       "<style scoped>\n",
       "    .dataframe tbody tr th:only-of-type {\n",
       "        vertical-align: middle;\n",
       "    }\n",
       "\n",
       "    .dataframe tbody tr th {\n",
       "        vertical-align: top;\n",
       "    }\n",
       "\n",
       "    .dataframe thead th {\n",
       "        text-align: right;\n",
       "    }\n",
       "</style>\n",
       "<table border=\"1\" class=\"dataframe\">\n",
       "  <thead>\n",
       "    <tr style=\"text-align: right;\">\n",
       "      <th></th>\n",
       "      <th>name</th>\n",
       "      <th>jumin7</th>\n",
       "      <th>gender</th>\n",
       "      <th>height</th>\n",
       "      <th>age</th>\n",
       "      <th>blood_type</th>\n",
       "      <th>company</th>\n",
       "      <th>grades</th>\n",
       "      <th>salary</th>\n",
       "      <th>expenditure</th>\n",
       "    </tr>\n",
       "  </thead>\n",
       "  <tbody>\n",
       "    <tr>\n",
       "      <th>0</th>\n",
       "      <td>hkd1</td>\n",
       "      <td>990623-2</td>\n",
       "      <td>F</td>\n",
       "      <td>161.9</td>\n",
       "      <td>22</td>\n",
       "      <td>A</td>\n",
       "      <td>A</td>\n",
       "      <td>A</td>\n",
       "      <td>4100</td>\n",
       "      <td>1975</td>\n",
       "    </tr>\n",
       "    <tr>\n",
       "      <th>1</th>\n",
       "      <td>hkd10</td>\n",
       "      <td>900303-2</td>\n",
       "      <td>F</td>\n",
       "      <td>169.4</td>\n",
       "      <td>31</td>\n",
       "      <td>A</td>\n",
       "      <td>A</td>\n",
       "      <td>B</td>\n",
       "      <td>4720</td>\n",
       "      <td>2970</td>\n",
       "    </tr>\n",
       "    <tr>\n",
       "      <th>2</th>\n",
       "      <td>hkd100</td>\n",
       "      <td>681205-2</td>\n",
       "      <td>F</td>\n",
       "      <td>168.3</td>\n",
       "      <td>55</td>\n",
       "      <td>A</td>\n",
       "      <td>A</td>\n",
       "      <td>B</td>\n",
       "      <td>7280</td>\n",
       "      <td>5905</td>\n",
       "    </tr>\n",
       "    <tr>\n",
       "      <th>3</th>\n",
       "      <td>hkd101</td>\n",
       "      <td>931226-2</td>\n",
       "      <td>F</td>\n",
       "      <td>155.3</td>\n",
       "      <td>28</td>\n",
       "      <td>AB</td>\n",
       "      <td>B</td>\n",
       "      <td>B</td>\n",
       "      <td>4060</td>\n",
       "      <td>2935</td>\n",
       "    </tr>\n",
       "    <tr>\n",
       "      <th>4</th>\n",
       "      <td>hkd102</td>\n",
       "      <td>920123-1</td>\n",
       "      <td>M</td>\n",
       "      <td>188.6</td>\n",
       "      <td>29</td>\n",
       "      <td>O</td>\n",
       "      <td>B</td>\n",
       "      <td>F</td>\n",
       "      <td>4390</td>\n",
       "      <td>4015</td>\n",
       "    </tr>\n",
       "  </tbody>\n",
       "</table>\n",
       "</div>"
      ],
      "text/plain": [
       "     name    jumin7 gender  height  age blood_type company grades  salary  \\\n",
       "0    hkd1  990623-2      F   161.9   22          A       A      A    4100   \n",
       "1   hkd10  900303-2      F   169.4   31          A       A      B    4720   \n",
       "2  hkd100  681205-2      F   168.3   55          A       A      B    7280   \n",
       "3  hkd101  931226-2      F   155.3   28         AB       B      B    4060   \n",
       "4  hkd102  920123-1      M   188.6   29          O       B      F    4390   \n",
       "\n",
       "   expenditure  \n",
       "0         1975  \n",
       "1         2970  \n",
       "2         5905  \n",
       "3         2935  \n",
       "4         4015  "
      ]
     },
     "execution_count": 14,
     "metadata": {},
     "output_type": "execute_result"
    }
   ],
   "source": [
    "# 파일 로딩 \n",
    "df_hk = pd.read_csv('C:\\\\Users\\\\yhlee\\\\TIL\\\\data\\\\hk_221206.csv')\n",
    "df_hk.head(5)"
   ]
  },
  {
   "cell_type": "code",
   "execution_count": 4,
   "id": "yvXLZvub_PBT",
   "metadata": {
    "colab": {
     "base_uri": "https://localhost:8080/"
    },
    "executionInfo": {
     "elapsed": 8,
     "status": "ok",
     "timestamp": 1670758863969,
     "user": {
      "displayName": "jinyang park",
      "userId": "06576046992691541404"
     },
     "user_tz": -540
    },
    "id": "yvXLZvub_PBT",
    "outputId": "6c8272bd-ec9a-4ce3-d2b3-11a82da8f9e2",
    "scrolled": true
   },
   "outputs": [
    {
     "data": {
      "text/html": [
       "<div>\n",
       "<style scoped>\n",
       "    .dataframe tbody tr th:only-of-type {\n",
       "        vertical-align: middle;\n",
       "    }\n",
       "\n",
       "    .dataframe tbody tr th {\n",
       "        vertical-align: top;\n",
       "    }\n",
       "\n",
       "    .dataframe thead th {\n",
       "        text-align: right;\n",
       "    }\n",
       "</style>\n",
       "<table border=\"1\" class=\"dataframe\">\n",
       "  <thead>\n",
       "    <tr style=\"text-align: right;\">\n",
       "      <th></th>\n",
       "      <th>height</th>\n",
       "      <th>age</th>\n",
       "      <th>salary</th>\n",
       "      <th>expenditure</th>\n",
       "    </tr>\n",
       "  </thead>\n",
       "  <tbody>\n",
       "    <tr>\n",
       "      <th>count</th>\n",
       "      <td>250.000000</td>\n",
       "      <td>250.000000</td>\n",
       "      <td>250.000000</td>\n",
       "      <td>250.000000</td>\n",
       "    </tr>\n",
       "    <tr>\n",
       "      <th>mean</th>\n",
       "      <td>169.569200</td>\n",
       "      <td>39.240000</td>\n",
       "      <td>6357.480000</td>\n",
       "      <td>4971.480000</td>\n",
       "    </tr>\n",
       "    <tr>\n",
       "      <th>std</th>\n",
       "      <td>12.283857</td>\n",
       "      <td>8.653899</td>\n",
       "      <td>1849.791383</td>\n",
       "      <td>1861.112508</td>\n",
       "    </tr>\n",
       "    <tr>\n",
       "      <th>min</th>\n",
       "      <td>148.100000</td>\n",
       "      <td>20.000000</td>\n",
       "      <td>3080.000000</td>\n",
       "      <td>1330.000000</td>\n",
       "    </tr>\n",
       "    <tr>\n",
       "      <th>25%</th>\n",
       "      <td>159.300000</td>\n",
       "      <td>33.000000</td>\n",
       "      <td>5002.500000</td>\n",
       "      <td>3593.750000</td>\n",
       "    </tr>\n",
       "    <tr>\n",
       "      <th>50%</th>\n",
       "      <td>168.750000</td>\n",
       "      <td>39.000000</td>\n",
       "      <td>6100.000000</td>\n",
       "      <td>4762.500000</td>\n",
       "    </tr>\n",
       "    <tr>\n",
       "      <th>75%</th>\n",
       "      <td>180.375000</td>\n",
       "      <td>46.000000</td>\n",
       "      <td>7427.500000</td>\n",
       "      <td>6272.500000</td>\n",
       "    </tr>\n",
       "    <tr>\n",
       "      <th>max</th>\n",
       "      <td>191.800000</td>\n",
       "      <td>55.000000</td>\n",
       "      <td>11990.000000</td>\n",
       "      <td>10865.000000</td>\n",
       "    </tr>\n",
       "  </tbody>\n",
       "</table>\n",
       "</div>"
      ],
      "text/plain": [
       "           height         age        salary   expenditure\n",
       "count  250.000000  250.000000    250.000000    250.000000\n",
       "mean   169.569200   39.240000   6357.480000   4971.480000\n",
       "std     12.283857    8.653899   1849.791383   1861.112508\n",
       "min    148.100000   20.000000   3080.000000   1330.000000\n",
       "25%    159.300000   33.000000   5002.500000   3593.750000\n",
       "50%    168.750000   39.000000   6100.000000   4762.500000\n",
       "75%    180.375000   46.000000   7427.500000   6272.500000\n",
       "max    191.800000   55.000000  11990.000000  10865.000000"
      ]
     },
     "execution_count": 4,
     "metadata": {},
     "output_type": "execute_result"
    }
   ],
   "source": [
    "# Data type을 살펴보고 EDA를 수행 \n",
    "df_hk.describe()"
   ]
  },
  {
   "cell_type": "markdown",
   "id": "2908c943",
   "metadata": {
    "id": "2908c943"
   },
   "source": [
    "## 1 sample t-test\n",
    "\n",
    "$ H_0 : \\mu = \\mu_0$\n",
    "\n",
    "$ H_1 : \\mu \\neq \\mu_0$"
   ]
  },
  {
   "cell_type": "code",
   "execution_count": 5,
   "id": "ljuFZhXpbmby",
   "metadata": {
    "colab": {
     "base_uri": "https://localhost:8080/"
    },
    "executionInfo": {
     "elapsed": 4,
     "status": "ok",
     "timestamp": 1671085494957,
     "user": {
      "displayName": "jinyang park",
      "userId": "06576046992691541404"
     },
     "user_tz": -540
    },
    "id": "ljuFZhXpbmby",
    "outputId": "83bc7c58-e86a-4ceb-da90-2c8bdb39baaf",
    "scrolled": true
   },
   "outputs": [
    {
     "data": {
      "text/plain": [
       "0      22\n",
       "1      31\n",
       "2      55\n",
       "3      28\n",
       "4      29\n",
       "       ..\n",
       "245    50\n",
       "246    51\n",
       "247    52\n",
       "248    53\n",
       "249    54\n",
       "Name: age, Length: 250, dtype: int64"
      ]
     },
     "execution_count": 5,
     "metadata": {},
     "output_type": "execute_result"
    }
   ],
   "source": [
    "# 1 sample t-test\n",
    "df_hk['age']"
   ]
  },
  {
   "cell_type": "code",
   "execution_count": 6,
   "id": "QfXxTzTEbquj",
   "metadata": {
    "colab": {
     "base_uri": "https://localhost:8080/"
    },
    "executionInfo": {
     "elapsed": 3,
     "status": "ok",
     "timestamp": 1671085082243,
     "user": {
      "displayName": "jinyang park",
      "userId": "06576046992691541404"
     },
     "user_tz": -540
    },
    "id": "QfXxTzTEbquj",
    "outputId": "0b1990ce-9408-46e6-aef4-7fe5393ea5c9"
   },
   "outputs": [
    {
     "data": {
      "text/plain": [
       "39.24"
      ]
     },
     "execution_count": 6,
     "metadata": {},
     "output_type": "execute_result"
    }
   ],
   "source": [
    "# t-test를 할 data의 mean\n",
    "df_hk['age'].mean()"
   ]
  },
  {
   "cell_type": "code",
   "execution_count": null,
   "id": "QorxgXtpfBc3",
   "metadata": {
    "colab": {
     "base_uri": "https://localhost:8080/"
    },
    "executionInfo": {
     "elapsed": 3,
     "status": "ok",
     "timestamp": 1671085968148,
     "user": {
      "displayName": "jinyang park",
      "userId": "06576046992691541404"
     },
     "user_tz": -540
    },
    "id": "QorxgXtpfBc3",
    "outputId": "f036b761-9fec-4f05-f1e2-23393be88013"
   },
   "outputs": [],
   "source": [
    "# describe\n"
   ]
  },
  {
   "cell_type": "code",
   "execution_count": 8,
   "id": "mGD-P4u6c1I_",
   "metadata": {
    "colab": {
     "base_uri": "https://localhost:8080/",
     "height": 283
    },
    "executionInfo": {
     "elapsed": 637,
     "status": "ok",
     "timestamp": 1671085535288,
     "user": {
      "displayName": "jinyang park",
      "userId": "06576046992691541404"
     },
     "user_tz": -540
    },
    "id": "mGD-P4u6c1I_",
    "outputId": "a11a48a7-ec1f-4814-d055-96509a0c003a"
   },
   "outputs": [
    {
     "data": {
      "text/plain": [
       "<Axes: ylabel='Frequency'>"
      ]
     },
     "execution_count": 8,
     "metadata": {},
     "output_type": "execute_result"
    },
    {
     "data": {
      "image/png": "[encoded data removed]",
      "text/plain": [
       "<Figure size 640x480 with 1 Axes>"
      ]
     },
     "metadata": {},
     "output_type": "display_data"
    }
   ],
   "source": [
    "# age의 histogram\n",
    "df_hk['age'].plot.hist(bins=20)"
   ]
  },
  {
   "cell_type": "code",
   "execution_count": 10,
   "id": "7a68dc76",
   "metadata": {
    "colab": {
     "base_uri": "https://localhost:8080/"
    },
    "executionInfo": {
     "elapsed": 528,
     "status": "ok",
     "timestamp": 1671085425030,
     "user": {
      "displayName": "jinyang park",
      "userId": "06576046992691541404"
     },
     "user_tz": -540
    },
    "id": "7a68dc76",
    "outputId": "9b153cbb-43a2-415b-b740-308a44adf9a2"
   },
   "outputs": [
    {
     "data": {
      "text/plain": [
       "TtestResult(statistic=16.882244149646134, pvalue=3.847271424260211e-43, df=249)"
      ]
     },
     "execution_count": 10,
     "metadata": {},
     "output_type": "execute_result"
    }
   ],
   "source": [
    "# t-test를 할 data의 mean 근처의 값으로 t-test후 t통계량과 p_value 관찰\n",
    "from scipy.stats import ttest_1samp\n",
    "ttest_1samp(df_hk['age'], popmean=30)"
   ]
  },
  {
   "cell_type": "code",
   "execution_count": 11,
   "id": "df2706d0",
   "metadata": {},
   "outputs": [
    {
     "data": {
      "text/plain": [
       "TtestResult(statistic=2.265582548220913, pvalue=0.024336341875188777, df=249)"
      ]
     },
     "execution_count": 11,
     "metadata": {},
     "output_type": "execute_result"
    }
   ],
   "source": [
    "ttest_1samp(df_hk['age'], popmean=38)"
   ]
  },
  {
   "cell_type": "code",
   "execution_count": 13,
   "id": "4a82af26",
   "metadata": {},
   "outputs": [
    {
     "data": {
      "text/plain": [
       "False"
      ]
     },
     "execution_count": 13,
     "metadata": {},
     "output_type": "execute_result"
    }
   ],
   "source": [
    "ttest_1samp(df_hk['age'], popmean=38.5)\n",
    "ttest_1samp(df_hk['age'], popmean=38.5)[1]<0.05  # 귀무가설 채택, 같다, 95% 신뢰 수준에서"
   ]
  },
  {
   "cell_type": "code",
   "execution_count": 14,
   "id": "3686b6f7",
   "metadata": {},
   "outputs": [
    {
     "data": {
      "text/plain": [
       "TtestResult(statistic=0.43849984804276027, pvalue=0.6614041860727076, df=249)"
      ]
     },
     "execution_count": 14,
     "metadata": {},
     "output_type": "execute_result"
    }
   ],
   "source": [
    "ttest_1samp(df_hk['age'], popmean=39)\n",
    "# ttest_1samp(df_hk['age'], popmean=39)[1]<0.05"
   ]
  },
  {
   "cell_type": "code",
   "execution_count": 15,
   "id": "fc7580b5",
   "metadata": {},
   "outputs": [
    {
     "data": {
      "text/plain": [
       "TtestResult(statistic=0.0, pvalue=1.0, df=249)"
      ]
     },
     "execution_count": 15,
     "metadata": {},
     "output_type": "execute_result"
    }
   ],
   "source": [
    "ttest_1samp(df_hk['age'], popmean=39.24)"
   ]
  },
  {
   "cell_type": "markdown",
   "id": "7873d50c",
   "metadata": {},
   "source": [
    "### 2 sample t-test\n",
    "\n",
    "\n",
    "$ H_0 : \\mu_0 = \\mu_1$\n",
    "\n",
    "$ H_1 : \\mu_0 \\neq \\mu_1$"
   ]
  },
  {
   "cell_type": "code",
   "execution_count": 19,
   "id": "aea9cf9b",
   "metadata": {
    "colab": {
     "base_uri": "https://localhost:8080/"
    },
    "executionInfo": {
     "elapsed": 329,
     "status": "ok",
     "timestamp": 1671086612546,
     "user": {
      "displayName": "jinyang park",
      "userId": "06576046992691541404"
     },
     "user_tz": -540
    },
    "id": "aea9cf9b",
    "outputId": "1233b53d-a0ae-4431-ba46-ebe0adbeb477"
   },
   "outputs": [
    {
     "name": "stdout",
     "output_type": "stream",
     "text": [
      "6522.5 5364.4 8013.6\n"
     ]
    }
   ],
   "source": [
    "# A,B,C회사 연봉 평균\n",
    "salary_a = df_hk[df_hk['company'] == 'A'].salary.mean()\n",
    "salary_b = df_hk[df_hk['company'] == 'B'].salary.mean()\n",
    "salary_c = df_hk[df_hk['company'] == 'C'].salary.mean()\n",
    "\n",
    "print(salary_a, salary_b, salary_c)"
   ]
  },
  {
   "cell_type": "code",
   "execution_count": 23,
   "id": "417a29c1",
   "metadata": {
    "colab": {
     "base_uri": "https://localhost:8080/"
    },
    "executionInfo": {
     "elapsed": 329,
     "status": "ok",
     "timestamp": 1671086612546,
     "user": {
      "displayName": "jinyang park",
      "userId": "06576046992691541404"
     },
     "user_tz": -540
    },
    "id": "aea9cf9b",
    "outputId": "1233b53d-a0ae-4431-ba46-ebe0adbeb477"
   },
   "outputs": [
    {
     "data": {
      "text/plain": [
       "Ttest_indResult(statistic=5.941362455469809, pvalue=1.2532322871358408e-08)"
      ]
     },
     "execution_count": 23,
     "metadata": {},
     "output_type": "execute_result"
    }
   ],
   "source": [
    "# 2 sample t-test (A=B)\n",
    "from scipy.stats import ttest_ind\n",
    "\n",
    "a = df_hk[df_hk['company'] == 'A'].salary\n",
    "b = df_hk[df_hk['company'] == 'B'].salary\n",
    "\n",
    "ttest_ind(a, b)"
   ]
  },
  {
   "cell_type": "code",
   "execution_count": 27,
   "id": "31134640",
   "metadata": {
    "colab": {
     "base_uri": "https://localhost:8080/"
    },
    "executionInfo": {
     "elapsed": 329,
     "status": "ok",
     "timestamp": 1671086612546,
     "user": {
      "displayName": "jinyang park",
      "userId": "06576046992691541404"
     },
     "user_tz": -540
    },
    "id": "aea9cf9b",
    "outputId": "1233b53d-a0ae-4431-ba46-ebe0adbeb477"
   },
   "outputs": [
    {
     "data": {
      "text/plain": [
       "Ttest_indResult(statistic=5.941362455469809, pvalue=0.9999999937338386)"
      ]
     },
     "execution_count": 27,
     "metadata": {},
     "output_type": "execute_result"
    }
   ],
   "source": [
    "# 2 sample t-test (A>=B) less\n",
    "ttest_ind(a, b, alternative='less')  # A > B"
   ]
  },
  {
   "cell_type": "code",
   "execution_count": 28,
   "id": "efbcc98b",
   "metadata": {
    "colab": {
     "base_uri": "https://localhost:8080/"
    },
    "executionInfo": {
     "elapsed": 329,
     "status": "ok",
     "timestamp": 1671086612546,
     "user": {
      "displayName": "jinyang park",
      "userId": "06576046992691541404"
     },
     "user_tz": -540
    },
    "id": "aea9cf9b",
    "outputId": "1233b53d-a0ae-4431-ba46-ebe0adbeb477"
   },
   "outputs": [
    {
     "data": {
      "text/plain": [
       "Ttest_indResult(statistic=5.941362455469809, pvalue=6.266161435679204e-09)"
      ]
     },
     "execution_count": 28,
     "metadata": {},
     "output_type": "execute_result"
    }
   ],
   "source": [
    "# 2 sample t-test (A<=B) greater\n",
    "ttest_ind(a, b, alternative='greater')"
   ]
  },
  {
   "cell_type": "markdown",
   "id": "e88c2765",
   "metadata": {},
   "source": [
    "-----------------------------------------------------------------------"
   ]
  },
  {
   "cell_type": "markdown",
   "id": "a05a6876",
   "metadata": {},
   "source": [
    "## Quiz 1\n",
    "\n",
    "1) iris 데이터를 사용하여('iris.csv') species column 'virginica'의 'sepal_width' 모평균이 3.14와 같은지 가설을 수립하고 \n",
    "   유의수준 0.05에서 검정하시오\n",
    "\n",
    "2) 'setosa'와 'versicolor'의 sepal_length 평균이 같은지 가설을 수립하고 유의수준 0.05에서 검정하시오"
   ]
  },
  {
   "cell_type": "code",
   "execution_count": 4,
   "id": "d95d2336",
   "metadata": {},
   "outputs": [
    {
     "data": {
      "text/html": [
       "<div>\n",
       "<style scoped>\n",
       "    .dataframe tbody tr th:only-of-type {\n",
       "        vertical-align: middle;\n",
       "    }\n",
       "\n",
       "    .dataframe tbody tr th {\n",
       "        vertical-align: top;\n",
       "    }\n",
       "\n",
       "    .dataframe thead th {\n",
       "        text-align: right;\n",
       "    }\n",
       "</style>\n",
       "<table border=\"1\" class=\"dataframe\">\n",
       "  <thead>\n",
       "    <tr style=\"text-align: right;\">\n",
       "      <th></th>\n",
       "      <th>sepal_length</th>\n",
       "      <th>sepal_width</th>\n",
       "      <th>petal_length</th>\n",
       "      <th>petal_width</th>\n",
       "      <th>species</th>\n",
       "    </tr>\n",
       "  </thead>\n",
       "  <tbody>\n",
       "    <tr>\n",
       "      <th>0</th>\n",
       "      <td>5.1</td>\n",
       "      <td>3.5</td>\n",
       "      <td>1.4</td>\n",
       "      <td>0.2</td>\n",
       "      <td>setosa</td>\n",
       "    </tr>\n",
       "    <tr>\n",
       "      <th>1</th>\n",
       "      <td>4.9</td>\n",
       "      <td>3.0</td>\n",
       "      <td>1.4</td>\n",
       "      <td>0.2</td>\n",
       "      <td>setosa</td>\n",
       "    </tr>\n",
       "    <tr>\n",
       "      <th>2</th>\n",
       "      <td>4.7</td>\n",
       "      <td>3.2</td>\n",
       "      <td>1.3</td>\n",
       "      <td>0.2</td>\n",
       "      <td>setosa</td>\n",
       "    </tr>\n",
       "    <tr>\n",
       "      <th>3</th>\n",
       "      <td>4.6</td>\n",
       "      <td>3.1</td>\n",
       "      <td>1.5</td>\n",
       "      <td>0.2</td>\n",
       "      <td>setosa</td>\n",
       "    </tr>\n",
       "    <tr>\n",
       "      <th>4</th>\n",
       "      <td>5.0</td>\n",
       "      <td>3.6</td>\n",
       "      <td>1.4</td>\n",
       "      <td>0.2</td>\n",
       "      <td>setosa</td>\n",
       "    </tr>\n",
       "    <tr>\n",
       "      <th>...</th>\n",
       "      <td>...</td>\n",
       "      <td>...</td>\n",
       "      <td>...</td>\n",
       "      <td>...</td>\n",
       "      <td>...</td>\n",
       "    </tr>\n",
       "    <tr>\n",
       "      <th>145</th>\n",
       "      <td>6.7</td>\n",
       "      <td>3.0</td>\n",
       "      <td>5.2</td>\n",
       "      <td>2.3</td>\n",
       "      <td>virginica</td>\n",
       "    </tr>\n",
       "    <tr>\n",
       "      <th>146</th>\n",
       "      <td>6.3</td>\n",
       "      <td>2.5</td>\n",
       "      <td>5.0</td>\n",
       "      <td>1.9</td>\n",
       "      <td>virginica</td>\n",
       "    </tr>\n",
       "    <tr>\n",
       "      <th>147</th>\n",
       "      <td>6.5</td>\n",
       "      <td>3.0</td>\n",
       "      <td>5.2</td>\n",
       "      <td>2.0</td>\n",
       "      <td>virginica</td>\n",
       "    </tr>\n",
       "    <tr>\n",
       "      <th>148</th>\n",
       "      <td>6.2</td>\n",
       "      <td>3.4</td>\n",
       "      <td>5.4</td>\n",
       "      <td>2.3</td>\n",
       "      <td>virginica</td>\n",
       "    </tr>\n",
       "    <tr>\n",
       "      <th>149</th>\n",
       "      <td>5.9</td>\n",
       "      <td>3.0</td>\n",
       "      <td>5.1</td>\n",
       "      <td>1.8</td>\n",
       "      <td>virginica</td>\n",
       "    </tr>\n",
       "  </tbody>\n",
       "</table>\n",
       "<p>150 rows × 5 columns</p>\n",
       "</div>"
      ],
      "text/plain": [
       "     sepal_length  sepal_width  petal_length  petal_width    species\n",
       "0             5.1          3.5           1.4          0.2     setosa\n",
       "1             4.9          3.0           1.4          0.2     setosa\n",
       "2             4.7          3.2           1.3          0.2     setosa\n",
       "3             4.6          3.1           1.5          0.2     setosa\n",
       "4             5.0          3.6           1.4          0.2     setosa\n",
       "..            ...          ...           ...          ...        ...\n",
       "145           6.7          3.0           5.2          2.3  virginica\n",
       "146           6.3          2.5           5.0          1.9  virginica\n",
       "147           6.5          3.0           5.2          2.0  virginica\n",
       "148           6.2          3.4           5.4          2.3  virginica\n",
       "149           5.9          3.0           5.1          1.8  virginica\n",
       "\n",
       "[150 rows x 5 columns]"
      ]
     },
     "execution_count": 4,
     "metadata": {},
     "output_type": "execute_result"
    }
   ],
   "source": [
    "# 파일 로딩 \n",
    "df_iris = pd.read_csv('C:\\\\Users\\\\yhlee\\\\TIL\\\\data\\\\iris.csv')\n",
    "df_iris"
   ]
  },
  {
   "cell_type": "code",
   "execution_count": 7,
   "id": "ba4955bf",
   "metadata": {},
   "outputs": [],
   "source": [
    "# 가설검정\n",
    "# H0 : 'virginica'의 'sepal_width' 모평균이 3.14 와 같다고 볼 수 있다 (유의수준 0.05)\n",
    "# H1 : 'virginica'의 'sepal_width' 모평균이 3.14 와 같다고 볼 수 없다 (유의수준 0.05)"
   ]
  },
  {
   "cell_type": "code",
   "execution_count": 8,
   "id": "c98d4ef2",
   "metadata": {},
   "outputs": [
    {
     "data": {
      "text/plain": [
       "TtestResult(statistic=-3.6397193577606113, pvalue=0.000656333824892921, df=49)"
      ]
     },
     "execution_count": 8,
     "metadata": {},
     "output_type": "execute_result"
    }
   ],
   "source": [
    "from scipy.stats import ttest_1samp, ttest_ind\n",
    "ttest_1samp(df_iris[df_iris['species'] == 'virginica'].sepal_width, popmean=3.14)"
   ]
  },
  {
   "cell_type": "code",
   "execution_count": null,
   "id": "627d7a4c",
   "metadata": {},
   "outputs": [],
   "source": [
    "# 가설검정\n",
    "# H0 : 'setosa'와 'versicolor' 의 sepal_length 평균이 같다고 볼 수 있다 (유의수준 0.05)\n",
    "# H1 : 'setosa'와 'versicolor' 의 sepal_length 평균이 같다고 볼 수 없다 (유의수준 0.05)"
   ]
  },
  {
   "cell_type": "code",
   "execution_count": 12,
   "id": "249f3045",
   "metadata": {},
   "outputs": [
    {
     "data": {
      "text/plain": [
       "Ttest_indResult(statistic=-10.52098626754911, pvalue=8.985235037487079e-18)"
      ]
     },
     "execution_count": 12,
     "metadata": {},
     "output_type": "execute_result"
    }
   ],
   "source": [
    "from scipy.stats import ttest_1samp, ttest_ind\n",
    "v = df_iris[df_iris['species'] == 'versicolor'].sepal_length\n",
    "s = df_iris[df_iris['species'] == 'setosa'].sepal_length\n",
    "\n",
    "ttest_ind(s,v)"
   ]
  },
  {
   "cell_type": "markdown",
   "id": "64d757dd",
   "metadata": {},
   "source": [
    "-----------------------------------------------------------------------"
   ]
  },
  {
   "cell_type": "markdown",
   "id": "396f3ed9",
   "metadata": {
    "id": "396f3ed9"
   },
   "source": [
    "## ANOVA\n",
    "\n",
    "$ H_0 : \\mu_1 = \\mu_2 = \\mu_3$\n",
    "\n",
    "$ H_1 : \\mu_1 \\neq \\mu_2  \\quad or  \\quad  \\mu_2 \\neq \\mu_3  \\quad   or  \\quad  \\mu_1 \\neq \\mu_3$"
   ]
  },
  {
   "cell_type": "code",
   "execution_count": 15,
   "id": "3ab4ed45",
   "metadata": {
    "colab": {
     "base_uri": "https://localhost:8080/"
    },
    "executionInfo": {
     "elapsed": 329,
     "status": "ok",
     "timestamp": 1671086612546,
     "user": {
      "displayName": "jinyang park",
      "userId": "06576046992691541404"
     },
     "user_tz": -540
    },
    "id": "aea9cf9b",
    "outputId": "1233b53d-a0ae-4431-ba46-ebe0adbeb477"
   },
   "outputs": [
    {
     "name": "stdout",
     "output_type": "stream",
     "text": [
      "6522.5 5364.4 8013.6\n"
     ]
    }
   ],
   "source": [
    "# A,B,C회사 연봉 평균이 같은지 검정\n",
    "salary_a = df_hk[df_hk['company'] == 'A'].salary.mean()\n",
    "salary_b = df_hk[df_hk['company'] == 'B'].salary.mean()\n",
    "salary_c = df_hk[df_hk['company'] == 'C'].salary.mean()\n",
    "\n",
    "print(salary_a, salary_b, salary_c)"
   ]
  },
  {
   "cell_type": "code",
   "execution_count": 16,
   "id": "6a35e56b",
   "metadata": {
    "colab": {
     "base_uri": "https://localhost:8080/"
    },
    "executionInfo": {
     "elapsed": 9,
     "status": "ok",
     "timestamp": 1671087313671,
     "user": {
      "displayName": "jinyang park",
      "userId": "06576046992691541404"
     },
     "user_tz": -540
    },
    "id": "6a35e56b",
    "outputId": "ca5ea3e9-66f4-405f-9b4e-5094b24f7b86"
   },
   "outputs": [
    {
     "data": {
      "text/plain": [
       "F_onewayResult(statistic=48.004778211948, pvalue=2.4420557389689642e-18)"
      ]
     },
     "execution_count": 16,
     "metadata": {},
     "output_type": "execute_result"
    }
   ],
   "source": [
    "# ANOVA scipy.stats 사용\n",
    "from scipy.stats import f_oneway\n",
    "a = df_hk[df_hk['company'] == 'A'].salary\n",
    "b = df_hk[df_hk['company'] == 'B'].salary\n",
    "c = df_hk[df_hk['company'] == 'C'].salary\n",
    "\n",
    "f_oneway(a,b,c)"
   ]
  },
  {
   "cell_type": "code",
   "execution_count": 20,
   "id": "JW_GAZaNkou3",
   "metadata": {
    "colab": {
     "base_uri": "https://localhost:8080/",
     "height": 112
    },
    "executionInfo": {
     "elapsed": 5,
     "status": "ok",
     "timestamp": 1671087950020,
     "user": {
      "displayName": "jinyang park",
      "userId": "06576046992691541404"
     },
     "user_tz": -540
    },
    "id": "JW_GAZaNkou3",
    "outputId": "d704ddb7-455f-4adc-9241-2acc459786c6"
   },
   "outputs": [
    {
     "data": {
      "text/html": [
       "<div>\n",
       "<style scoped>\n",
       "    .dataframe tbody tr th:only-of-type {\n",
       "        vertical-align: middle;\n",
       "    }\n",
       "\n",
       "    .dataframe tbody tr th {\n",
       "        vertical-align: top;\n",
       "    }\n",
       "\n",
       "    .dataframe thead th {\n",
       "        text-align: right;\n",
       "    }\n",
       "</style>\n",
       "<table border=\"1\" class=\"dataframe\">\n",
       "  <thead>\n",
       "    <tr style=\"text-align: right;\">\n",
       "      <th></th>\n",
       "      <th>df</th>\n",
       "      <th>sum_sq</th>\n",
       "      <th>mean_sq</th>\n",
       "      <th>F</th>\n",
       "      <th>PR(&gt;F)</th>\n",
       "    </tr>\n",
       "  </thead>\n",
       "  <tbody>\n",
       "    <tr>\n",
       "      <th>company</th>\n",
       "      <td>2.0</td>\n",
       "      <td>2.384806e+08</td>\n",
       "      <td>1.192403e+08</td>\n",
       "      <td>48.004778</td>\n",
       "      <td>2.442056e-18</td>\n",
       "    </tr>\n",
       "    <tr>\n",
       "      <th>Residual</th>\n",
       "      <td>247.0</td>\n",
       "      <td>6.135297e+08</td>\n",
       "      <td>2.483926e+06</td>\n",
       "      <td>NaN</td>\n",
       "      <td>NaN</td>\n",
       "    </tr>\n",
       "  </tbody>\n",
       "</table>\n",
       "</div>"
      ],
      "text/plain": [
       "             df        sum_sq       mean_sq          F        PR(>F)\n",
       "company     2.0  2.384806e+08  1.192403e+08  48.004778  2.442056e-18\n",
       "Residual  247.0  6.135297e+08  2.483926e+06        NaN           NaN"
      ]
     },
     "execution_count": 20,
     "metadata": {},
     "output_type": "execute_result"
    }
   ],
   "source": [
    "# ANOVA statsmodels 사용\n",
    "from statsmodels.formula.api import ols\n",
    "from statsmodels.stats.anova import anova_lm\n",
    "\n",
    "model = ols(formula = 'salary ~ company',data=df_hk).fit()\n",
    "anova_lm(model)"
   ]
  },
  {
   "cell_type": "code",
   "execution_count": 22,
   "id": "iQHJgTk1nQ7P",
   "metadata": {
    "colab": {
     "base_uri": "https://localhost:8080/",
     "height": 265
    },
    "executionInfo": {
     "elapsed": 434,
     "status": "ok",
     "timestamp": 1671088149023,
     "user": {
      "displayName": "jinyang park",
      "userId": "06576046992691541404"
     },
     "user_tz": -540
    },
    "id": "iQHJgTk1nQ7P",
    "outputId": "48332a23-f390-443c-ae0f-91422606be1a"
   },
   "outputs": [
    {
     "data": {
      "text/plain": [
       "<Axes: xlabel='company', ylabel='salary'>"
      ]
     },
     "execution_count": 22,
     "metadata": {},
     "output_type": "execute_result"
    },
    {
     "data": {
      "image/png": "[encoded data removed]",
      "text/plain": [
       "<Figure size 640x480 with 1 Axes>"
      ]
     },
     "metadata": {},
     "output_type": "display_data"
    }
   ],
   "source": [
    "# 시각화 box plot\n",
    "sns.boxplot(x='company',y='salary',data=df_hk)"
   ]
  },
  {
   "cell_type": "code",
   "execution_count": 23,
   "id": "5HqJKr3pnRgN",
   "metadata": {
    "colab": {
     "base_uri": "https://localhost:8080/"
    },
    "executionInfo": {
     "elapsed": 404,
     "status": "ok",
     "timestamp": 1671088534684,
     "user": {
      "displayName": "jinyang park",
      "userId": "06576046992691541404"
     },
     "user_tz": -540
    },
    "id": "5HqJKr3pnRgN",
    "outputId": "eaecddfe-2709-4913-934b-eae1f6e28770"
   },
   "outputs": [
    {
     "name": "stdout",
     "output_type": "stream",
     "text": [
      "  Multiple Comparison of Means - Tukey HSD, FWER=0.05   \n",
      "========================================================\n",
      "group1 group2 meandiff p-adj   lower      upper   reject\n",
      "--------------------------------------------------------\n",
      "     A      B  -1158.1   0.0 -1683.6515 -632.5485   True\n",
      "     A      C   1491.1   0.0   847.4334 2134.7666   True\n",
      "     B      C   2649.2   0.0  2005.5334 3292.8666   True\n",
      "--------------------------------------------------------\n"
     ]
    }
   ],
   "source": [
    "# ANOVA 사후검정\n",
    "from statsmodels.stats.multicomp import pairwise_tukeyhsd\n",
    "posthoc = pairwise_tukeyhsd(df_hk['salary'],df_hk['company'],alpha=0.05)\n",
    "print(posthoc)  # reject가 True면 서로 다르다 라는 의미"
   ]
  },
  {
   "cell_type": "code",
   "execution_count": 25,
   "id": "876b6733",
   "metadata": {},
   "outputs": [
    {
     "data": {
      "text/plain": [
       "F_onewayResult(statistic=0.8236712902602736, pvalue=0.5111463584243112)"
      ]
     },
     "execution_count": 25,
     "metadata": {},
     "output_type": "execute_result"
    }
   ],
   "source": [
    "# grade별 연봉 평균\n",
    "# ANOVA scipy.stats 사용\n",
    "a1 = df_hk[df_hk['grades'] == 'A'].salary\n",
    "b1 = df_hk[df_hk['grades'] == 'B'].salary\n",
    "c1 = df_hk[df_hk['grades'] == 'C'].salary\n",
    "d1 = df_hk[df_hk['grades'] == 'D'].salary\n",
    "f1 = df_hk[df_hk['grades'] == 'F'].salary\n",
    "\n",
    "f_oneway(a1,b1,c1,d1,f1)"
   ]
  },
  {
   "cell_type": "code",
   "execution_count": 26,
   "id": "560779dd",
   "metadata": {},
   "outputs": [
    {
     "name": "stdout",
     "output_type": "stream",
     "text": [
      "    Multiple Comparison of Means - Tukey HSD, FWER=0.05    \n",
      "===========================================================\n",
      "group1 group2  meandiff  p-adj    lower      upper   reject\n",
      "-----------------------------------------------------------\n",
      "     A      B   296.6117 0.8076  -446.0004 1039.2238  False\n",
      "     A      C   240.0277 0.9721  -826.7163 1306.7717  False\n",
      "     A      D   151.5902 0.9983 -1244.0566  1547.237  False\n",
      "     A      F  -834.2134  0.784 -2841.7982 1173.3715  False\n",
      "     B      C   -56.5841 0.9999 -1073.0998  959.9317  False\n",
      "     B      D  -145.0216 0.9984 -1502.6635 1212.6203  False\n",
      "     B      F -1130.8251 0.5191 -3112.1778  850.5276  False\n",
      "     C      D   -88.4375 0.9999 -1647.1747 1470.2997  False\n",
      "     C      F -1074.2411 0.6348 -3198.4418 1049.9596  False\n",
      "     D      F  -985.8036  0.766 -3292.7747 1321.1676  False\n",
      "-----------------------------------------------------------\n"
     ]
    }
   ],
   "source": [
    "# pairwise_tukeyhsd 확인\n",
    "posthoc1 = pairwise_tukeyhsd(df_hk['salary'],df_hk['grades'], alpha = 0.05)\n",
    "print(posthoc1)"
   ]
  },
  {
   "cell_type": "code",
   "execution_count": 28,
   "id": "ee05748a",
   "metadata": {
    "scrolled": false
   },
   "outputs": [
    {
     "data": {
      "text/html": [
       "<div>\n",
       "<style scoped>\n",
       "    .dataframe tbody tr th:only-of-type {\n",
       "        vertical-align: middle;\n",
       "    }\n",
       "\n",
       "    .dataframe tbody tr th {\n",
       "        vertical-align: top;\n",
       "    }\n",
       "\n",
       "    .dataframe thead th {\n",
       "        text-align: right;\n",
       "    }\n",
       "</style>\n",
       "<table border=\"1\" class=\"dataframe\">\n",
       "  <thead>\n",
       "    <tr style=\"text-align: right;\">\n",
       "      <th></th>\n",
       "      <th>df</th>\n",
       "      <th>sum_sq</th>\n",
       "      <th>mean_sq</th>\n",
       "      <th>F</th>\n",
       "      <th>PR(&gt;F)</th>\n",
       "    </tr>\n",
       "  </thead>\n",
       "  <tbody>\n",
       "    <tr>\n",
       "      <th>grades</th>\n",
       "      <td>4.0</td>\n",
       "      <td>1.130554e+07</td>\n",
       "      <td>2.826385e+06</td>\n",
       "      <td>0.823671</td>\n",
       "      <td>0.511146</td>\n",
       "    </tr>\n",
       "    <tr>\n",
       "      <th>Residual</th>\n",
       "      <td>245.0</td>\n",
       "      <td>8.407048e+08</td>\n",
       "      <td>3.431448e+06</td>\n",
       "      <td>NaN</td>\n",
       "      <td>NaN</td>\n",
       "    </tr>\n",
       "  </tbody>\n",
       "</table>\n",
       "</div>"
      ],
      "text/plain": [
       "             df        sum_sq       mean_sq         F    PR(>F)\n",
       "grades      4.0  1.130554e+07  2.826385e+06  0.823671  0.511146\n",
       "Residual  245.0  8.407048e+08  3.431448e+06       NaN       NaN"
      ]
     },
     "execution_count": 28,
     "metadata": {},
     "output_type": "execute_result"
    }
   ],
   "source": [
    "# ANOVA statsmodels 사용\n",
    "model1 = ols(formula = 'salary ~ grades',data=df_hk).fit()\n",
    "anova_lm(model1)"
   ]
  },
  {
   "cell_type": "markdown",
   "id": "b2e68b3a",
   "metadata": {},
   "source": [
    "## Quiz 2\n",
    "\n",
    "1) 'setosa' , 'versicolor', 'virginica'의 sepal_length 평균이 같은지 가설을 수립하고 유의수준 0.05에서 검정하시오\n",
    "\n",
    "2) bike 데이터(bike.cvs)를 사용하여, 요일별 registered 평균이 같은지 가설을 수립하고 유의수준 0.05에서 검정하시오\n",
    "\n",
    "3) 평균이 같지 않을때, 평균이 유의수준 0.05에서 차이나지 않는 조합(False)은 몇 개인가 ? "
   ]
  },
  {
   "cell_type": "code",
   "execution_count": null,
   "id": "f33d097a",
   "metadata": {},
   "outputs": [],
   "source": [
    "# 파일 로딩 \n"
   ]
  },
  {
   "cell_type": "code",
   "execution_count": null,
   "id": "317b83a5",
   "metadata": {},
   "outputs": [],
   "source": [
    "# 가설검정\n",
    "# H0 :  'setosa' , 'versicolor', 'virginica'의 'sepal_length' 평균이 같다고 볼 수 있다 (유의수준 0.05)\n",
    "# H1 :  'setosa' , 'versicolor', 'virginica'의 'sepal_length' 평균이 셋 중 어느 하나는 다르다고 볼 수 있다 (유의수준 0.05)"
   ]
  },
  {
   "cell_type": "code",
   "execution_count": null,
   "id": "09722c67",
   "metadata": {},
   "outputs": [],
   "source": [
    "# ANOVA scipy.stats 사용\n"
   ]
  },
  {
   "cell_type": "code",
   "execution_count": null,
   "id": "9078dcd8",
   "metadata": {},
   "outputs": [],
   "source": [
    "# ANOVA statsmodels 사용\n"
   ]
  },
  {
   "cell_type": "code",
   "execution_count": null,
   "id": "a48b99ac",
   "metadata": {
    "scrolled": false
   },
   "outputs": [],
   "source": [
    "# ANOVA 사후검정\n"
   ]
  },
  {
   "cell_type": "markdown",
   "id": "baadac5b",
   "metadata": {},
   "source": [
    "## Quiz 3\n",
    "\n",
    "1) bike 데이터(bike.cvs)를 사용하여, 요일별 registered 평균이 같은지 가설을 수립하고 유의수준 0.05에서 검정하시오\n",
    "\n",
    "2) 평균이 같지 않을때, 평균이 유의수준 0.05에서 차이나지 않는 조합(False)은 몇 개인가 ? "
   ]
  },
  {
   "cell_type": "code",
   "execution_count": null,
   "id": "4a6abebf",
   "metadata": {},
   "outputs": [],
   "source": [
    "# 파일 로딩 \n"
   ]
  },
  {
   "cell_type": "code",
   "execution_count": null,
   "id": "7a4636e7",
   "metadata": {},
   "outputs": [],
   "source": [
    "# 요일변수 생성\n"
   ]
  },
  {
   "cell_type": "code",
   "execution_count": null,
   "id": "aba96acc",
   "metadata": {},
   "outputs": [],
   "source": [
    "# ANOVA statsmodels 사용\n",
    "\n",
    "from statsmodels.formula.api import ols\n",
    "from statsmodels.stats.anova import anova_lm\n"
   ]
  },
  {
   "cell_type": "code",
   "execution_count": null,
   "id": "190fbd2a",
   "metadata": {},
   "outputs": [],
   "source": [
    "# ANOVA 사후검정\n",
    "\n",
    "from statsmodels.stats.multicomp import pairwise_tukeyhsd\n"
   ]
  },
  {
   "cell_type": "markdown",
   "id": "3a5cedbc",
   "metadata": {
    "id": "3a5cedbc"
   },
   "source": [
    "## 상관분석"
   ]
  },
  {
   "cell_type": "code",
   "execution_count": 29,
   "id": "f39d8781",
   "metadata": {
    "scrolled": true
   },
   "outputs": [
    {
     "data": {
      "text/html": [
       "<div>\n",
       "<style scoped>\n",
       "    .dataframe tbody tr th:only-of-type {\n",
       "        vertical-align: middle;\n",
       "    }\n",
       "\n",
       "    .dataframe tbody tr th {\n",
       "        vertical-align: top;\n",
       "    }\n",
       "\n",
       "    .dataframe thead th {\n",
       "        text-align: right;\n",
       "    }\n",
       "</style>\n",
       "<table border=\"1\" class=\"dataframe\">\n",
       "  <thead>\n",
       "    <tr style=\"text-align: right;\">\n",
       "      <th></th>\n",
       "      <th>name</th>\n",
       "      <th>jumin7</th>\n",
       "      <th>gender</th>\n",
       "      <th>height</th>\n",
       "      <th>age</th>\n",
       "      <th>blood_type</th>\n",
       "      <th>company</th>\n",
       "      <th>grades</th>\n",
       "      <th>salary</th>\n",
       "      <th>expenditure</th>\n",
       "    </tr>\n",
       "  </thead>\n",
       "  <tbody>\n",
       "    <tr>\n",
       "      <th>0</th>\n",
       "      <td>hkd1</td>\n",
       "      <td>990623-2</td>\n",
       "      <td>F</td>\n",
       "      <td>161.9</td>\n",
       "      <td>22</td>\n",
       "      <td>A</td>\n",
       "      <td>A</td>\n",
       "      <td>A</td>\n",
       "      <td>4100</td>\n",
       "      <td>1975</td>\n",
       "    </tr>\n",
       "    <tr>\n",
       "      <th>1</th>\n",
       "      <td>hkd10</td>\n",
       "      <td>900303-2</td>\n",
       "      <td>F</td>\n",
       "      <td>169.4</td>\n",
       "      <td>31</td>\n",
       "      <td>A</td>\n",
       "      <td>A</td>\n",
       "      <td>B</td>\n",
       "      <td>4720</td>\n",
       "      <td>2970</td>\n",
       "    </tr>\n",
       "    <tr>\n",
       "      <th>2</th>\n",
       "      <td>hkd100</td>\n",
       "      <td>681205-2</td>\n",
       "      <td>F</td>\n",
       "      <td>168.3</td>\n",
       "      <td>55</td>\n",
       "      <td>A</td>\n",
       "      <td>A</td>\n",
       "      <td>B</td>\n",
       "      <td>7280</td>\n",
       "      <td>5905</td>\n",
       "    </tr>\n",
       "    <tr>\n",
       "      <th>3</th>\n",
       "      <td>hkd101</td>\n",
       "      <td>931226-2</td>\n",
       "      <td>F</td>\n",
       "      <td>155.3</td>\n",
       "      <td>28</td>\n",
       "      <td>AB</td>\n",
       "      <td>B</td>\n",
       "      <td>B</td>\n",
       "      <td>4060</td>\n",
       "      <td>2935</td>\n",
       "    </tr>\n",
       "    <tr>\n",
       "      <th>4</th>\n",
       "      <td>hkd102</td>\n",
       "      <td>920123-1</td>\n",
       "      <td>M</td>\n",
       "      <td>188.6</td>\n",
       "      <td>29</td>\n",
       "      <td>O</td>\n",
       "      <td>B</td>\n",
       "      <td>F</td>\n",
       "      <td>4390</td>\n",
       "      <td>4015</td>\n",
       "    </tr>\n",
       "  </tbody>\n",
       "</table>\n",
       "</div>"
      ],
      "text/plain": [
       "     name    jumin7 gender  height  age blood_type company grades  salary  \\\n",
       "0    hkd1  990623-2      F   161.9   22          A       A      A    4100   \n",
       "1   hkd10  900303-2      F   169.4   31          A       A      B    4720   \n",
       "2  hkd100  681205-2      F   168.3   55          A       A      B    7280   \n",
       "3  hkd101  931226-2      F   155.3   28         AB       B      B    4060   \n",
       "4  hkd102  920123-1      M   188.6   29          O       B      F    4390   \n",
       "\n",
       "   expenditure  \n",
       "0         1975  \n",
       "1         2970  \n",
       "2         5905  \n",
       "3         2935  \n",
       "4         4015  "
      ]
     },
     "execution_count": 29,
     "metadata": {},
     "output_type": "execute_result"
    }
   ],
   "source": [
    "# 파일 로딩\n",
    "df_hk[:5]"
   ]
  },
  {
   "cell_type": "code",
   "execution_count": 30,
   "id": "d7c00fe1",
   "metadata": {
    "scrolled": true
   },
   "outputs": [
    {
     "data": {
      "text/html": [
       "<div>\n",
       "<style scoped>\n",
       "    .dataframe tbody tr th:only-of-type {\n",
       "        vertical-align: middle;\n",
       "    }\n",
       "\n",
       "    .dataframe tbody tr th {\n",
       "        vertical-align: top;\n",
       "    }\n",
       "\n",
       "    .dataframe thead th {\n",
       "        text-align: right;\n",
       "    }\n",
       "</style>\n",
       "<table border=\"1\" class=\"dataframe\">\n",
       "  <thead>\n",
       "    <tr style=\"text-align: right;\">\n",
       "      <th></th>\n",
       "      <th>height</th>\n",
       "      <th>age</th>\n",
       "      <th>salary</th>\n",
       "      <th>expenditure</th>\n",
       "    </tr>\n",
       "  </thead>\n",
       "  <tbody>\n",
       "    <tr>\n",
       "      <th>height</th>\n",
       "      <td>1.000000</td>\n",
       "      <td>0.040403</td>\n",
       "      <td>0.048673</td>\n",
       "      <td>0.048044</td>\n",
       "    </tr>\n",
       "    <tr>\n",
       "      <th>age</th>\n",
       "      <td>0.040403</td>\n",
       "      <td>1.000000</td>\n",
       "      <td>0.525035</td>\n",
       "      <td>0.552832</td>\n",
       "    </tr>\n",
       "    <tr>\n",
       "      <th>salary</th>\n",
       "      <td>0.048673</td>\n",
       "      <td>0.525035</td>\n",
       "      <td>1.000000</td>\n",
       "      <td>0.972185</td>\n",
       "    </tr>\n",
       "    <tr>\n",
       "      <th>expenditure</th>\n",
       "      <td>0.048044</td>\n",
       "      <td>0.552832</td>\n",
       "      <td>0.972185</td>\n",
       "      <td>1.000000</td>\n",
       "    </tr>\n",
       "  </tbody>\n",
       "</table>\n",
       "</div>"
      ],
      "text/plain": [
       "               height       age    salary  expenditure\n",
       "height       1.000000  0.040403  0.048673     0.048044\n",
       "age          0.040403  1.000000  0.525035     0.552832\n",
       "salary       0.048673  0.525035  1.000000     0.972185\n",
       "expenditure  0.048044  0.552832  0.972185     1.000000"
      ]
     },
     "execution_count": 30,
     "metadata": {},
     "output_type": "execute_result"
    }
   ],
   "source": [
    "# Correlation analysis\n",
    "df_hk.corr()"
   ]
  },
  {
   "cell_type": "code",
   "execution_count": 38,
   "id": "wno51XISqbYh",
   "metadata": {
    "id": "wno51XISqbYh"
   },
   "outputs": [
    {
     "data": {
      "text/plain": [
       "SignificanceResult(statistic=0.4873172555182334, pvalue=1.1307798230320081e-29)"
      ]
     },
     "execution_count": 38,
     "metadata": {},
     "output_type": "execute_result"
    }
   ],
   "source": [
    "# pearsonr, spearmanr, kendalltau\n",
    "from scipy.stats import spearmanr\n",
    "from scipy.stats import pearsonr\n",
    "from scipy.stats import kendalltau\n",
    "spearmanr(df_hk['age'],df_hk['salary'])\n",
    "pearsonr(df_hk['age'],df_hk['salary'])\n",
    "kendalltau(df_hk['age'],df_hk['salary'])"
   ]
  },
  {
   "cell_type": "code",
   "execution_count": 36,
   "id": "Y7if1mGIr2CY",
   "metadata": {
    "colab": {
     "base_uri": "https://localhost:8080/"
    },
    "executionInfo": {
     "elapsed": 447,
     "status": "ok",
     "timestamp": 1671089321395,
     "user": {
      "displayName": "jinyang park",
      "userId": "06576046992691541404"
     },
     "user_tz": -540
    },
    "id": "Y7if1mGIr2CY",
    "outputId": "05bc7d4a-2758-419e-8404-a7cedcf0ee45"
   },
   "outputs": [
    {
     "data": {
      "text/html": [
       "<div>\n",
       "<style scoped>\n",
       "    .dataframe tbody tr th:only-of-type {\n",
       "        vertical-align: middle;\n",
       "    }\n",
       "\n",
       "    .dataframe tbody tr th {\n",
       "        vertical-align: top;\n",
       "    }\n",
       "\n",
       "    .dataframe thead th {\n",
       "        text-align: right;\n",
       "    }\n",
       "</style>\n",
       "<table border=\"1\" class=\"dataframe\">\n",
       "  <thead>\n",
       "    <tr style=\"text-align: right;\">\n",
       "      <th></th>\n",
       "      <th>height</th>\n",
       "      <th>age</th>\n",
       "      <th>salary</th>\n",
       "      <th>expenditure</th>\n",
       "    </tr>\n",
       "  </thead>\n",
       "  <tbody>\n",
       "    <tr>\n",
       "      <th>height</th>\n",
       "      <td>1.000000</td>\n",
       "      <td>0.040403</td>\n",
       "      <td>0.048673</td>\n",
       "      <td>0.048044</td>\n",
       "    </tr>\n",
       "    <tr>\n",
       "      <th>age</th>\n",
       "      <td>0.040403</td>\n",
       "      <td>1.000000</td>\n",
       "      <td>0.525035</td>\n",
       "      <td>0.552832</td>\n",
       "    </tr>\n",
       "    <tr>\n",
       "      <th>salary</th>\n",
       "      <td>0.048673</td>\n",
       "      <td>0.525035</td>\n",
       "      <td>1.000000</td>\n",
       "      <td>0.972185</td>\n",
       "    </tr>\n",
       "    <tr>\n",
       "      <th>expenditure</th>\n",
       "      <td>0.048044</td>\n",
       "      <td>0.552832</td>\n",
       "      <td>0.972185</td>\n",
       "      <td>1.000000</td>\n",
       "    </tr>\n",
       "  </tbody>\n",
       "</table>\n",
       "</div>"
      ],
      "text/plain": [
       "               height       age    salary  expenditure\n",
       "height       1.000000  0.040403  0.048673     0.048044\n",
       "age          0.040403  1.000000  0.525035     0.552832\n",
       "salary       0.048673  0.525035  1.000000     0.972185\n",
       "expenditure  0.048044  0.552832  0.972185     1.000000"
      ]
     },
     "execution_count": 36,
     "metadata": {},
     "output_type": "execute_result"
    }
   ],
   "source": [
    "# pearsonr\n",
    "df_hk.corr(method='pearson')"
   ]
  },
  {
   "cell_type": "code",
   "execution_count": 35,
   "id": "m30J32eiq3dH",
   "metadata": {
    "colab": {
     "base_uri": "https://localhost:8080/"
    },
    "executionInfo": {
     "elapsed": 814,
     "status": "ok",
     "timestamp": 1671089078501,
     "user": {
      "displayName": "jinyang park",
      "userId": "06576046992691541404"
     },
     "user_tz": -540
    },
    "id": "m30J32eiq3dH",
    "outputId": "626ee05b-832e-4a36-aed8-67fbabe9bd8c"
   },
   "outputs": [
    {
     "data": {
      "text/html": [
       "<div>\n",
       "<style scoped>\n",
       "    .dataframe tbody tr th:only-of-type {\n",
       "        vertical-align: middle;\n",
       "    }\n",
       "\n",
       "    .dataframe tbody tr th {\n",
       "        vertical-align: top;\n",
       "    }\n",
       "\n",
       "    .dataframe thead th {\n",
       "        text-align: right;\n",
       "    }\n",
       "</style>\n",
       "<table border=\"1\" class=\"dataframe\">\n",
       "  <thead>\n",
       "    <tr style=\"text-align: right;\">\n",
       "      <th></th>\n",
       "      <th>height</th>\n",
       "      <th>age</th>\n",
       "      <th>salary</th>\n",
       "      <th>expenditure</th>\n",
       "    </tr>\n",
       "  </thead>\n",
       "  <tbody>\n",
       "    <tr>\n",
       "      <th>height</th>\n",
       "      <td>1.000000</td>\n",
       "      <td>0.039065</td>\n",
       "      <td>0.060429</td>\n",
       "      <td>0.064053</td>\n",
       "    </tr>\n",
       "    <tr>\n",
       "      <th>age</th>\n",
       "      <td>0.039065</td>\n",
       "      <td>1.000000</td>\n",
       "      <td>0.616263</td>\n",
       "      <td>0.622084</td>\n",
       "    </tr>\n",
       "    <tr>\n",
       "      <th>salary</th>\n",
       "      <td>0.060429</td>\n",
       "      <td>0.616263</td>\n",
       "      <td>1.000000</td>\n",
       "      <td>0.966877</td>\n",
       "    </tr>\n",
       "    <tr>\n",
       "      <th>expenditure</th>\n",
       "      <td>0.064053</td>\n",
       "      <td>0.622084</td>\n",
       "      <td>0.966877</td>\n",
       "      <td>1.000000</td>\n",
       "    </tr>\n",
       "  </tbody>\n",
       "</table>\n",
       "</div>"
      ],
      "text/plain": [
       "               height       age    salary  expenditure\n",
       "height       1.000000  0.039065  0.060429     0.064053\n",
       "age          0.039065  1.000000  0.616263     0.622084\n",
       "salary       0.060429  0.616263  1.000000     0.966877\n",
       "expenditure  0.064053  0.622084  0.966877     1.000000"
      ]
     },
     "execution_count": 35,
     "metadata": {},
     "output_type": "execute_result"
    }
   ],
   "source": [
    "# spearmanr\n",
    "df_hk.corr(method='spearman')"
   ]
  },
  {
   "cell_type": "code",
   "execution_count": 33,
   "id": "0aLhk1hdq3ne",
   "metadata": {
    "colab": {
     "base_uri": "https://localhost:8080/"
    },
    "executionInfo": {
     "elapsed": 361,
     "status": "ok",
     "timestamp": 1671089074933,
     "user": {
      "displayName": "jinyang park",
      "userId": "06576046992691541404"
     },
     "user_tz": -540
    },
    "id": "0aLhk1hdq3ne",
    "outputId": "6a245f80-2cbc-4bee-9e6a-1297ac1dd0e5"
   },
   "outputs": [
    {
     "data": {
      "text/html": [
       "<div>\n",
       "<style scoped>\n",
       "    .dataframe tbody tr th:only-of-type {\n",
       "        vertical-align: middle;\n",
       "    }\n",
       "\n",
       "    .dataframe tbody tr th {\n",
       "        vertical-align: top;\n",
       "    }\n",
       "\n",
       "    .dataframe thead th {\n",
       "        text-align: right;\n",
       "    }\n",
       "</style>\n",
       "<table border=\"1\" class=\"dataframe\">\n",
       "  <thead>\n",
       "    <tr style=\"text-align: right;\">\n",
       "      <th></th>\n",
       "      <th>height</th>\n",
       "      <th>age</th>\n",
       "      <th>salary</th>\n",
       "      <th>expenditure</th>\n",
       "    </tr>\n",
       "  </thead>\n",
       "  <tbody>\n",
       "    <tr>\n",
       "      <th>height</th>\n",
       "      <td>1.000000</td>\n",
       "      <td>0.026228</td>\n",
       "      <td>0.036980</td>\n",
       "      <td>0.040637</td>\n",
       "    </tr>\n",
       "    <tr>\n",
       "      <th>age</th>\n",
       "      <td>0.026228</td>\n",
       "      <td>1.000000</td>\n",
       "      <td>0.487317</td>\n",
       "      <td>0.484665</td>\n",
       "    </tr>\n",
       "    <tr>\n",
       "      <th>salary</th>\n",
       "      <td>0.036980</td>\n",
       "      <td>0.487317</td>\n",
       "      <td>1.000000</td>\n",
       "      <td>0.851766</td>\n",
       "    </tr>\n",
       "    <tr>\n",
       "      <th>expenditure</th>\n",
       "      <td>0.040637</td>\n",
       "      <td>0.484665</td>\n",
       "      <td>0.851766</td>\n",
       "      <td>1.000000</td>\n",
       "    </tr>\n",
       "  </tbody>\n",
       "</table>\n",
       "</div>"
      ],
      "text/plain": [
       "               height       age    salary  expenditure\n",
       "height       1.000000  0.026228  0.036980     0.040637\n",
       "age          0.026228  1.000000  0.487317     0.484665\n",
       "salary       0.036980  0.487317  1.000000     0.851766\n",
       "expenditure  0.040637  0.484665  0.851766     1.000000"
      ]
     },
     "execution_count": 33,
     "metadata": {},
     "output_type": "execute_result"
    }
   ],
   "source": [
    "# kendalltau\n",
    "df_hk.corr(method='kendall')"
   ]
  },
  {
   "cell_type": "code",
   "execution_count": null,
   "id": "6ef0378f",
   "metadata": {
    "colab": {
     "base_uri": "https://localhost:8080/",
     "height": 297
    },
    "executionInfo": {
     "elapsed": 581,
     "status": "ok",
     "timestamp": 1671089135366,
     "user": {
      "displayName": "jinyang park",
      "userId": "06576046992691541404"
     },
     "user_tz": -540
    },
    "id": "6ef0378f",
    "outputId": "b3b500e6-a54e-4552-8f10-2fd5a68d922e",
    "scrolled": false
   },
   "outputs": [],
   "source": [
    "# scatterplot 시각화\n"
   ]
  },
  {
   "cell_type": "markdown",
   "id": "2277ce51",
   "metadata": {},
   "source": [
    "## Quiz 4\n",
    "\n",
    "bike 데이터(bike.cvs)를 사용하여\n",
    "\n",
    "1) temp, atemp, humidity, registered의 상관 계수중 가장 높은것은 ?\n",
    "\n",
    "2) season별로 자전거 총 대여 숫자(count)와의 상관분석을 실시하고 상관 계수가 가장 높은 계절을 구하시오 \n",
    "\n",
    "3) 날씨가 맑은날(weather = 1) 과 그렇지 않은날 온도(temp)와 자전거 대여 숫자(casual)의 상관계수의 절대값은 얼마인가 ?"
   ]
  },
  {
   "cell_type": "code",
   "execution_count": 60,
   "id": "4fb455d3",
   "metadata": {
    "scrolled": true
   },
   "outputs": [],
   "source": [
    "# 파일 로딩 \n"
   ]
  },
  {
   "cell_type": "code",
   "execution_count": 59,
   "id": "b1dc41a9",
   "metadata": {},
   "outputs": [],
   "source": [
    "# 1) temp, atemp, humidity, registered의 상관 계수중 가장 높은것은 ?"
   ]
  },
  {
   "cell_type": "code",
   "execution_count": 58,
   "id": "5dd402cb",
   "metadata": {},
   "outputs": [],
   "source": [
    "# 2) season별로 atemp와 자전거 대여 숫자(casual)와의 상관분석을 실시하고 상관 계수가 가장 높은 계절을 구하시오\n"
   ]
  },
  {
   "cell_type": "code",
   "execution_count": null,
   "id": "aa3267c1",
   "metadata": {},
   "outputs": [],
   "source": [
    "# 3) 날씨가 맑은날(weather = 1) 과 그렇지 않은날 온도(temp)와 자전거 대여 숫자(casual)의 상관계수의 절대값은 얼마인가 ?\n"
   ]
  },
  {
   "cell_type": "markdown",
   "id": "9ed1430b",
   "metadata": {
    "id": "9ed1430b"
   },
   "source": [
    "## 카이스퀘어 검정\n",
    "\n",
    "$H_0:$ 두 변수는 서로 독립임 (연관이 없음)\n",
    "\n",
    "$H_1:$ 두 변수는 서로 독립이 아님 (연관이 있음)"
   ]
  },
  {
   "cell_type": "code",
   "execution_count": 39,
   "id": "beb3b9e3",
   "metadata": {},
   "outputs": [
    {
     "data": {
      "text/html": [
       "<div>\n",
       "<style scoped>\n",
       "    .dataframe tbody tr th:only-of-type {\n",
       "        vertical-align: middle;\n",
       "    }\n",
       "\n",
       "    .dataframe tbody tr th {\n",
       "        vertical-align: top;\n",
       "    }\n",
       "\n",
       "    .dataframe thead th {\n",
       "        text-align: right;\n",
       "    }\n",
       "</style>\n",
       "<table border=\"1\" class=\"dataframe\">\n",
       "  <thead>\n",
       "    <tr style=\"text-align: right;\">\n",
       "      <th></th>\n",
       "      <th>name</th>\n",
       "      <th>jumin7</th>\n",
       "      <th>gender</th>\n",
       "      <th>height</th>\n",
       "      <th>age</th>\n",
       "      <th>blood_type</th>\n",
       "      <th>company</th>\n",
       "      <th>grades</th>\n",
       "      <th>salary</th>\n",
       "      <th>expenditure</th>\n",
       "    </tr>\n",
       "  </thead>\n",
       "  <tbody>\n",
       "    <tr>\n",
       "      <th>0</th>\n",
       "      <td>hkd1</td>\n",
       "      <td>990623-2</td>\n",
       "      <td>F</td>\n",
       "      <td>161.9</td>\n",
       "      <td>22</td>\n",
       "      <td>A</td>\n",
       "      <td>A</td>\n",
       "      <td>A</td>\n",
       "      <td>4100</td>\n",
       "      <td>1975</td>\n",
       "    </tr>\n",
       "    <tr>\n",
       "      <th>1</th>\n",
       "      <td>hkd10</td>\n",
       "      <td>900303-2</td>\n",
       "      <td>F</td>\n",
       "      <td>169.4</td>\n",
       "      <td>31</td>\n",
       "      <td>A</td>\n",
       "      <td>A</td>\n",
       "      <td>B</td>\n",
       "      <td>4720</td>\n",
       "      <td>2970</td>\n",
       "    </tr>\n",
       "    <tr>\n",
       "      <th>2</th>\n",
       "      <td>hkd100</td>\n",
       "      <td>681205-2</td>\n",
       "      <td>F</td>\n",
       "      <td>168.3</td>\n",
       "      <td>55</td>\n",
       "      <td>A</td>\n",
       "      <td>A</td>\n",
       "      <td>B</td>\n",
       "      <td>7280</td>\n",
       "      <td>5905</td>\n",
       "    </tr>\n",
       "    <tr>\n",
       "      <th>3</th>\n",
       "      <td>hkd101</td>\n",
       "      <td>931226-2</td>\n",
       "      <td>F</td>\n",
       "      <td>155.3</td>\n",
       "      <td>28</td>\n",
       "      <td>AB</td>\n",
       "      <td>B</td>\n",
       "      <td>B</td>\n",
       "      <td>4060</td>\n",
       "      <td>2935</td>\n",
       "    </tr>\n",
       "    <tr>\n",
       "      <th>4</th>\n",
       "      <td>hkd102</td>\n",
       "      <td>920123-1</td>\n",
       "      <td>M</td>\n",
       "      <td>188.6</td>\n",
       "      <td>29</td>\n",
       "      <td>O</td>\n",
       "      <td>B</td>\n",
       "      <td>F</td>\n",
       "      <td>4390</td>\n",
       "      <td>4015</td>\n",
       "    </tr>\n",
       "  </tbody>\n",
       "</table>\n",
       "</div>"
      ],
      "text/plain": [
       "     name    jumin7 gender  height  age blood_type company grades  salary  \\\n",
       "0    hkd1  990623-2      F   161.9   22          A       A      A    4100   \n",
       "1   hkd10  900303-2      F   169.4   31          A       A      B    4720   \n",
       "2  hkd100  681205-2      F   168.3   55          A       A      B    7280   \n",
       "3  hkd101  931226-2      F   155.3   28         AB       B      B    4060   \n",
       "4  hkd102  920123-1      M   188.6   29          O       B      F    4390   \n",
       "\n",
       "   expenditure  \n",
       "0         1975  \n",
       "1         2970  \n",
       "2         5905  \n",
       "3         2935  \n",
       "4         4015  "
      ]
     },
     "execution_count": 39,
     "metadata": {},
     "output_type": "execute_result"
    }
   ],
   "source": [
    "# 파일 로딩\n",
    "df_hk[:5]"
   ]
  },
  {
   "cell_type": "code",
   "execution_count": 49,
   "id": "44b94e60",
   "metadata": {
    "colab": {
     "base_uri": "https://localhost:8080/",
     "height": 143
    },
    "executionInfo": {
     "elapsed": 322,
     "status": "ok",
     "timestamp": 1671090083141,
     "user": {
      "displayName": "jinyang park",
      "userId": "06576046992691541404"
     },
     "user_tz": -540
    },
    "id": "44b94e60",
    "outputId": "13aad208-2d02-4aca-e8c9-69dcf80a0586",
    "scrolled": true
   },
   "outputs": [],
   "source": [
    "# chi-squared test 1\n",
    "from scipy.stats import chi2_contingency\n",
    "\n",
    "cross = pd.crosstab(df_hk['gender'], df_hk['company'])"
   ]
  },
  {
   "cell_type": "code",
   "execution_count": 50,
   "id": "cVQWOBgLuX9u",
   "metadata": {
    "colab": {
     "base_uri": "https://localhost:8080/"
    },
    "executionInfo": {
     "elapsed": 555,
     "status": "ok",
     "timestamp": 1671090133555,
     "user": {
      "displayName": "jinyang park",
      "userId": "06576046992691541404"
     },
     "user_tz": -540
    },
    "id": "cVQWOBgLuX9u",
    "outputId": "4bc3dba6-740e-4291-a108-a8e2ea564825",
    "scrolled": true
   },
   "outputs": [
    {
     "data": {
      "text/plain": [
       "Chi2ContingencyResult(statistic=1.674107142857143, pvalue=0.43298440342651534, dof=2, expected_freq=array([[44.8, 44.8, 22.4],\n",
       "       [55.2, 55.2, 27.6]]))"
      ]
     },
     "execution_count": 50,
     "metadata": {},
     "output_type": "execute_result"
    }
   ],
   "source": [
    "# chi2_contingency\n",
    "chi2_contingency(cross)"
   ]
  },
  {
   "cell_type": "code",
   "execution_count": 52,
   "id": "b74c541f",
   "metadata": {
    "colab": {
     "base_uri": "https://localhost:8080/",
     "height": 143
    },
    "executionInfo": {
     "elapsed": 322,
     "status": "ok",
     "timestamp": 1671090083141,
     "user": {
      "displayName": "jinyang park",
      "userId": "06576046992691541404"
     },
     "user_tz": -540
    },
    "id": "44b94e60",
    "outputId": "13aad208-2d02-4aca-e8c9-69dcf80a0586",
    "scrolled": true
   },
   "outputs": [
    {
     "data": {
      "text/plain": [
       "Chi2ContingencyResult(statistic=4.3831600833689315, pvalue=0.35662732977015354, dof=4, expected_freq=array([[35.392, 51.968, 14.336,  7.168,  3.136],\n",
       "       [43.608, 64.032, 17.664,  8.832,  3.864]]))"
      ]
     },
     "execution_count": 52,
     "metadata": {},
     "output_type": "execute_result"
    }
   ],
   "source": [
    "# chi-squared test 2\n",
    "cross1 = pd.crosstab(df_hk['gender'], df_hk['grades'])\n",
    "chi2_contingency(cross1)"
   ]
  },
  {
   "cell_type": "markdown",
   "id": "52d9d524",
   "metadata": {},
   "source": [
    "## Quiz 5\n",
    "\n",
    "bike 데이터(bike.cvs)를 사용하여\n",
    "\n",
    "1) season과 weather dtype을 문자형으로 변환하고 \n",
    "\n",
    "   두 변수가 관련있는지 적절한 검정을 하고 검정통계량과 p-value를 구하시오  \n",
    "\n",
    "2) 자전거 총 대여수(count)가 상위 30%일때 'high', 그 미만 일때 'low' 인 파생변수(count_high)를 생성하고\n",
    "   count_high와 workingday의 독립성 여부를 검정하고 검정 통계량을 구하시오 (소숫점 넷째자리 반올림하여 표기)"
   ]
  },
  {
   "cell_type": "code",
   "execution_count": 61,
   "id": "189afad7",
   "metadata": {
    "scrolled": true
   },
   "outputs": [
    {
     "data": {
      "text/html": [
       "<div>\n",
       "<style scoped>\n",
       "    .dataframe tbody tr th:only-of-type {\n",
       "        vertical-align: middle;\n",
       "    }\n",
       "\n",
       "    .dataframe tbody tr th {\n",
       "        vertical-align: top;\n",
       "    }\n",
       "\n",
       "    .dataframe thead th {\n",
       "        text-align: right;\n",
       "    }\n",
       "</style>\n",
       "<table border=\"1\" class=\"dataframe\">\n",
       "  <thead>\n",
       "    <tr style=\"text-align: right;\">\n",
       "      <th></th>\n",
       "      <th>datetime</th>\n",
       "      <th>season</th>\n",
       "      <th>holiday</th>\n",
       "      <th>workingday</th>\n",
       "      <th>weather</th>\n",
       "      <th>temp</th>\n",
       "      <th>atemp</th>\n",
       "      <th>humidity</th>\n",
       "      <th>windspeed</th>\n",
       "      <th>casual</th>\n",
       "      <th>registered</th>\n",
       "      <th>count</th>\n",
       "    </tr>\n",
       "  </thead>\n",
       "  <tbody>\n",
       "    <tr>\n",
       "      <th>0</th>\n",
       "      <td>2011-01-01 00:00:00</td>\n",
       "      <td>1</td>\n",
       "      <td>0</td>\n",
       "      <td>0</td>\n",
       "      <td>1</td>\n",
       "      <td>9.84</td>\n",
       "      <td>14.395</td>\n",
       "      <td>81</td>\n",
       "      <td>0.0000</td>\n",
       "      <td>3</td>\n",
       "      <td>13</td>\n",
       "      <td>16</td>\n",
       "    </tr>\n",
       "    <tr>\n",
       "      <th>1</th>\n",
       "      <td>2011-01-01 01:00:00</td>\n",
       "      <td>1</td>\n",
       "      <td>0</td>\n",
       "      <td>0</td>\n",
       "      <td>1</td>\n",
       "      <td>9.02</td>\n",
       "      <td>13.635</td>\n",
       "      <td>80</td>\n",
       "      <td>0.0000</td>\n",
       "      <td>8</td>\n",
       "      <td>32</td>\n",
       "      <td>40</td>\n",
       "    </tr>\n",
       "    <tr>\n",
       "      <th>2</th>\n",
       "      <td>2011-01-01 02:00:00</td>\n",
       "      <td>1</td>\n",
       "      <td>0</td>\n",
       "      <td>0</td>\n",
       "      <td>1</td>\n",
       "      <td>9.02</td>\n",
       "      <td>13.635</td>\n",
       "      <td>80</td>\n",
       "      <td>0.0000</td>\n",
       "      <td>5</td>\n",
       "      <td>27</td>\n",
       "      <td>32</td>\n",
       "    </tr>\n",
       "    <tr>\n",
       "      <th>3</th>\n",
       "      <td>2011-01-01 03:00:00</td>\n",
       "      <td>1</td>\n",
       "      <td>0</td>\n",
       "      <td>0</td>\n",
       "      <td>1</td>\n",
       "      <td>9.84</td>\n",
       "      <td>14.395</td>\n",
       "      <td>75</td>\n",
       "      <td>0.0000</td>\n",
       "      <td>3</td>\n",
       "      <td>10</td>\n",
       "      <td>13</td>\n",
       "    </tr>\n",
       "    <tr>\n",
       "      <th>4</th>\n",
       "      <td>2011-01-01 04:00:00</td>\n",
       "      <td>1</td>\n",
       "      <td>0</td>\n",
       "      <td>0</td>\n",
       "      <td>1</td>\n",
       "      <td>9.84</td>\n",
       "      <td>14.395</td>\n",
       "      <td>75</td>\n",
       "      <td>0.0000</td>\n",
       "      <td>0</td>\n",
       "      <td>1</td>\n",
       "      <td>1</td>\n",
       "    </tr>\n",
       "    <tr>\n",
       "      <th>...</th>\n",
       "      <td>...</td>\n",
       "      <td>...</td>\n",
       "      <td>...</td>\n",
       "      <td>...</td>\n",
       "      <td>...</td>\n",
       "      <td>...</td>\n",
       "      <td>...</td>\n",
       "      <td>...</td>\n",
       "      <td>...</td>\n",
       "      <td>...</td>\n",
       "      <td>...</td>\n",
       "      <td>...</td>\n",
       "    </tr>\n",
       "    <tr>\n",
       "      <th>10881</th>\n",
       "      <td>2012-12-19 19:00:00</td>\n",
       "      <td>4</td>\n",
       "      <td>0</td>\n",
       "      <td>1</td>\n",
       "      <td>1</td>\n",
       "      <td>15.58</td>\n",
       "      <td>19.695</td>\n",
       "      <td>50</td>\n",
       "      <td>26.0027</td>\n",
       "      <td>7</td>\n",
       "      <td>329</td>\n",
       "      <td>336</td>\n",
       "    </tr>\n",
       "    <tr>\n",
       "      <th>10882</th>\n",
       "      <td>2012-12-19 20:00:00</td>\n",
       "      <td>4</td>\n",
       "      <td>0</td>\n",
       "      <td>1</td>\n",
       "      <td>1</td>\n",
       "      <td>14.76</td>\n",
       "      <td>17.425</td>\n",
       "      <td>57</td>\n",
       "      <td>15.0013</td>\n",
       "      <td>10</td>\n",
       "      <td>231</td>\n",
       "      <td>241</td>\n",
       "    </tr>\n",
       "    <tr>\n",
       "      <th>10883</th>\n",
       "      <td>2012-12-19 21:00:00</td>\n",
       "      <td>4</td>\n",
       "      <td>0</td>\n",
       "      <td>1</td>\n",
       "      <td>1</td>\n",
       "      <td>13.94</td>\n",
       "      <td>15.910</td>\n",
       "      <td>61</td>\n",
       "      <td>15.0013</td>\n",
       "      <td>4</td>\n",
       "      <td>164</td>\n",
       "      <td>168</td>\n",
       "    </tr>\n",
       "    <tr>\n",
       "      <th>10884</th>\n",
       "      <td>2012-12-19 22:00:00</td>\n",
       "      <td>4</td>\n",
       "      <td>0</td>\n",
       "      <td>1</td>\n",
       "      <td>1</td>\n",
       "      <td>13.94</td>\n",
       "      <td>17.425</td>\n",
       "      <td>61</td>\n",
       "      <td>6.0032</td>\n",
       "      <td>12</td>\n",
       "      <td>117</td>\n",
       "      <td>129</td>\n",
       "    </tr>\n",
       "    <tr>\n",
       "      <th>10885</th>\n",
       "      <td>2012-12-19 23:00:00</td>\n",
       "      <td>4</td>\n",
       "      <td>0</td>\n",
       "      <td>1</td>\n",
       "      <td>1</td>\n",
       "      <td>13.12</td>\n",
       "      <td>16.665</td>\n",
       "      <td>66</td>\n",
       "      <td>8.9981</td>\n",
       "      <td>4</td>\n",
       "      <td>84</td>\n",
       "      <td>88</td>\n",
       "    </tr>\n",
       "  </tbody>\n",
       "</table>\n",
       "<p>10886 rows × 12 columns</p>\n",
       "</div>"
      ],
      "text/plain": [
       "                  datetime  season  holiday  workingday  weather   temp  \\\n",
       "0      2011-01-01 00:00:00       1        0           0        1   9.84   \n",
       "1      2011-01-01 01:00:00       1        0           0        1   9.02   \n",
       "2      2011-01-01 02:00:00       1        0           0        1   9.02   \n",
       "3      2011-01-01 03:00:00       1        0           0        1   9.84   \n",
       "4      2011-01-01 04:00:00       1        0           0        1   9.84   \n",
       "...                    ...     ...      ...         ...      ...    ...   \n",
       "10881  2012-12-19 19:00:00       4        0           1        1  15.58   \n",
       "10882  2012-12-19 20:00:00       4        0           1        1  14.76   \n",
       "10883  2012-12-19 21:00:00       4        0           1        1  13.94   \n",
       "10884  2012-12-19 22:00:00       4        0           1        1  13.94   \n",
       "10885  2012-12-19 23:00:00       4        0           1        1  13.12   \n",
       "\n",
       "        atemp  humidity  windspeed  casual  registered  count  \n",
       "0      14.395        81     0.0000       3          13     16  \n",
       "1      13.635        80     0.0000       8          32     40  \n",
       "2      13.635        80     0.0000       5          27     32  \n",
       "3      14.395        75     0.0000       3          10     13  \n",
       "4      14.395        75     0.0000       0           1      1  \n",
       "...       ...       ...        ...     ...         ...    ...  \n",
       "10881  19.695        50    26.0027       7         329    336  \n",
       "10882  17.425        57    15.0013      10         231    241  \n",
       "10883  15.910        61    15.0013       4         164    168  \n",
       "10884  17.425        61     6.0032      12         117    129  \n",
       "10885  16.665        66     8.9981       4          84     88  \n",
       "\n",
       "[10886 rows x 12 columns]"
      ]
     },
     "execution_count": 61,
     "metadata": {},
     "output_type": "execute_result"
    }
   ],
   "source": [
    "# 파일 로딩 \n",
    "df_bike = pd.read_csv('C:\\\\Users\\\\yhlee\\\\TIL\\\\data\\\\bike.csv')\n",
    "df_bike"
   ]
  },
  {
   "cell_type": "code",
   "execution_count": 70,
   "id": "bbb0fb69",
   "metadata": {},
   "outputs": [
    {
     "name": "stdout",
     "output_type": "stream",
     "text": [
      "<class 'pandas.core.frame.DataFrame'>\n",
      "RangeIndex: 10886 entries, 0 to 10885\n",
      "Data columns (total 12 columns):\n",
      " #   Column      Non-Null Count  Dtype  \n",
      "---  ------      --------------  -----  \n",
      " 0   datetime    10886 non-null  object \n",
      " 1   season      10886 non-null  int64  \n",
      " 2   holiday     10886 non-null  int64  \n",
      " 3   workingday  10886 non-null  int64  \n",
      " 4   weather     10886 non-null  int64  \n",
      " 5   temp        10886 non-null  float64\n",
      " 6   atemp       10886 non-null  float64\n",
      " 7   humidity    10886 non-null  int64  \n",
      " 8   windspeed   10886 non-null  float64\n",
      " 9   casual      10886 non-null  int64  \n",
      " 10  registered  10886 non-null  int64  \n",
      " 11  count       10886 non-null  int64  \n",
      "dtypes: float64(3), int64(8), object(1)\n",
      "memory usage: 1020.7+ KB\n"
     ]
    }
   ],
   "source": [
    "df_bike.info()"
   ]
  },
  {
   "cell_type": "code",
   "execution_count": 71,
   "id": "2d4428d0",
   "metadata": {
    "scrolled": false
   },
   "outputs": [
    {
     "data": {
      "text/plain": [
       "Chi2ContingencyResult(statistic=49.158655596893624, pvalue=1.549925073686492e-07, dof=9, expected_freq=array([[1.77454639e+03, 6.99258130e+02, 2.11948742e+02, 2.46738931e-01],\n",
       "       [1.80559765e+03, 7.11493845e+02, 2.15657450e+02, 2.51056403e-01],\n",
       "       [1.80559765e+03, 7.11493845e+02, 2.15657450e+02, 2.51056403e-01],\n",
       "       [1.80625831e+03, 7.11754180e+02, 2.15736359e+02, 2.51148264e-01]]))"
      ]
     },
     "execution_count": 71,
     "metadata": {},
     "output_type": "execute_result"
    }
   ],
   "source": [
    "# 1) season과 weather dtype을 문자형으로 변환하고\n",
    "#    두 변수가 관련있는지 적절한 검정을 하고 검정통계량과 p-value를 구하시오\n",
    "df_bike['season']=df_bike['season'].astype('object')\n",
    "df_bike['weather']=df_bike['weather'].astype('object')\n",
    "\n",
    "cross2 = pd.crosstab(df_bike['season'], df_bike['weather'])\n",
    "chi2_contingency(cross2)"
   ]
  },
  {
   "cell_type": "code",
   "execution_count": 78,
   "id": "9f49f628",
   "metadata": {
    "scrolled": true
   },
   "outputs": [
    {
     "name": "stdout",
     "output_type": "stream",
     "text": [
      "1.134\n"
     ]
    }
   ],
   "source": [
    "# 2) 자전거 총 대여수(count)가 상위 30%일때 'high', 그 미만 일때 'low' 인 파생변수(count_high)를 생성하고\n",
    "#    count_high와 workingday의 연관성 여부를 검정하고 검정 통계량을 구하시오 (소숫점 넷째자리 반올림하여 표기)\n",
    "df_bike['count_high'] = np.where(df_bike['count'] >= df_bike['count'].quantile(0.3), 'high', 'low')\n",
    "cross3 = pd.crosstab(df_bike['count_high'],df_bike['workingday'])\n",
    "chi2, p, dof, ext = chi2_contingency(cross3)\n",
    "print(round(chi2,3))"
   ]
  },
  {
   "cell_type": "markdown",
   "id": "526bd9d1",
   "metadata": {},
   "source": [
    "## Quiz 6\n",
    "\n",
    "<br>교육 전문기관 분석팀에서는 교육 수강자의 정보를 바탕으로 진로설계 프로그램을 운영하기 위해 다음 정보를 수집하였다.\n",
    "<br>DS_Sample_2.csv (구분자: comma(“,”), 19,158 Rows, 15 Columns, UTF-8 인코딩)\n",
    "\n",
    "<br>분석을 수행하기 전, 상기 데이터를 이용하여 아래의 전처리를 수행하시오.\n",
    "\n",
    "<br>단계 1: 분석에 사용하지 않을 city, company_size, company_type 컬럼을 제거하시오.\n",
    "<br>단계 2: 각 문자형(String Type) 컬럼에 결측치(null/empty space)가 하나라도 존재하는 행(row)은 모두 제거하시오.\n",
    "<br>단계 3: experience 컬럼의 값이 ‘>20’ 또는 ‘<1’인 값을 제거하고 experience 컬럼의 타입을 정수형(Integer)으로 변환하시오.\n",
    "<br>단계 4: last_new_job 컬럼의 값이 ‘>4’ 또는 ‘never’인 값을 제거하고 last_new_job컬럼의 타입을 정수형(Integer)으로 변환하시오.\n",
    "\n",
    "<br>상기 전처리를 완료한 데이터셋(데이터셋명: job2, 7,522 Rows)을 이용하여 다음 문제에 답하시오.\n",
    "\n",
    "<br>(job2를 이용하여) ‘관련 분야 경험 여부(relevant_experience)’에 따른 ‘이직 희망 여부(target)’를 기술통계량으로 확인하고자 한다.\n",
    "<br>관련 분야 경험이 없는(relevant_experience=‘No relevant experience’) 수료자 중 이직을 희망(target=’1’)하는 수료자의 비율을 A,\n",
    "<br>관련 분야 경험이 있는(relevant_experience=’Has relevant experience’) 수료자 중 이직을 희망(target=’1’)하는 수료자의 비율을 B라 할때, A/B를 구하시오.\n",
    "-\t소수점 셋째 자리에서 반올림하여 소수점 둘째 자리까지 기술하시오.\n",
    "<br>(답안예시) 12.34\n"
   ]
  },
  {
   "cell_type": "code",
   "execution_count": null,
   "id": "8582d71c",
   "metadata": {},
   "outputs": [],
   "source": [
    "# 파일 로딩\n"
   ]
  },
  {
   "cell_type": "code",
   "execution_count": null,
   "id": "28e4b7b3",
   "metadata": {},
   "outputs": [],
   "source": [
    "# 단계 1: 분석에 사용하지 않을 city, company_size, company_type 컬럼을 제거하시오\n"
   ]
  },
  {
   "cell_type": "code",
   "execution_count": null,
   "id": "69079f34",
   "metadata": {},
   "outputs": [],
   "source": [
    "# 단계 2: 각 문자형(String Type) 컬럼에 결측치(null/empty space)가 하나라도 존재하는 행(row)은 모두 제거하시오.\n"
   ]
  },
  {
   "cell_type": "code",
   "execution_count": null,
   "id": "4c02cc9b",
   "metadata": {},
   "outputs": [],
   "source": [
    "# 단계 3: experience 컬럼의 값이 ‘>20’ 또는 ‘<1’인 값을 제거하고 experience 컬럼의 타입을 정수형(Integer)으로 변환하시오.\n"
   ]
  },
  {
   "cell_type": "code",
   "execution_count": null,
   "id": "174f1134",
   "metadata": {},
   "outputs": [],
   "source": [
    "# 단계 4: last_new_job 컬럼의 값이 ‘>4’ 또는 ‘never’인 값을 제거하고 last_new_job컬럼의 타입을 정수형(Integer)으로 변환하시오.\n"
   ]
  },
  {
   "cell_type": "code",
   "execution_count": null,
   "id": "b41655b7",
   "metadata": {},
   "outputs": [],
   "source": [
    "# No relevant experience 중 target = 1 을 A,\n",
    "# Has relevant experience 중 target = 1 을 B라 할때, A/B를 구하시오\n"
   ]
  },
  {
   "cell_type": "code",
   "execution_count": null,
   "id": "63baa80c",
   "metadata": {},
   "outputs": [],
   "source": []
  }
 ],
 "metadata": {
  "colab": {
   "provenance": [
    {
     "file_id": "1JCIWRPQ6yvopC-0wzFMsykN_2iEQbRI8",
     "timestamp": 1671083690777
    },
    {
     "file_id": "18qobvw6GMkmHwAdy8Ih613266g0cGRiC",
     "timestamp": 1670384944774
    }
   ]
  },
  "kernelspec": {
   "display_name": "Python 3 (ipykernel)",
   "language": "python",
   "name": "python3"
  },
  "language_info": {
   "codemirror_mode": {
    "name": "ipython",
    "version": 3
   },
   "file_extension": ".py",
   "mimetype": "text/x-python",
   "name": "python",
   "nbconvert_exporter": "python",
   "pygments_lexer": "ipython3",
   "version": "3.10.6"
  }
 },
 "nbformat": 4,
 "nbformat_minor": 5
}
